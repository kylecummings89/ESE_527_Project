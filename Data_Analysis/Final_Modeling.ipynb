{
 "cells": [
  {
   "cell_type": "markdown",
   "metadata": {},
   "source": [
    "### Importing all of the classification modules from pycaret. Important to note that prior to this I created a python environment in which I installed pycaret. I did not do it within the notebook because I have other libraries and dependencies I didn't want to mess with."
   ]
  },
  {
   "cell_type": "code",
   "execution_count": 1,
   "metadata": {},
   "outputs": [],
   "source": [
    "from pycaret.classification import *"
   ]
  },
  {
   "cell_type": "markdown",
   "metadata": {},
   "source": [
    "### Importing additional libraries now that we need to complete some of the data organization."
   ]
  },
  {
   "cell_type": "code",
   "execution_count": 2,
   "metadata": {},
   "outputs": [],
   "source": [
    "import pandas as pd\n",
    "import numpy as np"
   ]
  },
  {
   "cell_type": "markdown",
   "metadata": {},
   "source": [
    "### Organizing Dataset -- Getting rid of variables that are not of interest and have far too many NA values, getting all points before 2008, Grabbing the subset of our data containing the 28 accounting variables of interest as well as the gvkey (unique for each firm) and the year of the observation"
   ]
  },
  {
   "cell_type": "code",
   "execution_count": 39,
   "metadata": {},
   "outputs": [
    {
     "data": {
      "text/html": [
       "<div>\n",
       "<style scoped>\n",
       "    .dataframe tbody tr th:only-of-type {\n",
       "        vertical-align: middle;\n",
       "    }\n",
       "\n",
       "    .dataframe tbody tr th {\n",
       "        vertical-align: top;\n",
       "    }\n",
       "\n",
       "    .dataframe thead th {\n",
       "        text-align: right;\n",
       "    }\n",
       "</style>\n",
       "<table border=\"1\" class=\"dataframe\">\n",
       "  <thead>\n",
       "    <tr style=\"text-align: right;\">\n",
       "      <th></th>\n",
       "      <th>Year</th>\n",
       "      <th>gvkey</th>\n",
       "      <th>Fraud</th>\n",
       "      <th>Current Assets</th>\n",
       "      <th>Accounts Payable</th>\n",
       "      <th>Total Assets</th>\n",
       "      <th>Common Equity</th>\n",
       "      <th>Cash and Short-Term Investments</th>\n",
       "      <th>Cost of Goods Sold</th>\n",
       "      <th>Common Shares Outstanding</th>\n",
       "      <th>...</th>\n",
       "      <th>Property, Plant, and Equipment</th>\n",
       "      <th>Preferred Stock</th>\n",
       "      <th>Retained Earnings</th>\n",
       "      <th>Receivables</th>\n",
       "      <th>Net Sales</th>\n",
       "      <th>Sale of Common and Preferred Stock</th>\n",
       "      <th>Income Taxes Payable</th>\n",
       "      <th>Total Income Taxes</th>\n",
       "      <th>Interest and Related Expense</th>\n",
       "      <th>Price Close, Annual, Fiscal</th>\n",
       "    </tr>\n",
       "  </thead>\n",
       "  <tbody>\n",
       "    <tr>\n",
       "      <th>0</th>\n",
       "      <td>1990.0</td>\n",
       "      <td>1009.0</td>\n",
       "      <td>0.0</td>\n",
       "      <td>10.047</td>\n",
       "      <td>3.736</td>\n",
       "      <td>32.335</td>\n",
       "      <td>6.262</td>\n",
       "      <td>0.002</td>\n",
       "      <td>30.633</td>\n",
       "      <td>2.526</td>\n",
       "      <td>...</td>\n",
       "      <td>31.767</td>\n",
       "      <td>0.000</td>\n",
       "      <td>5.420</td>\n",
       "      <td>6.895</td>\n",
       "      <td>40.522</td>\n",
       "      <td>0.000</td>\n",
       "      <td>0.000</td>\n",
       "      <td>0.769</td>\n",
       "      <td>2.333</td>\n",
       "      <td>6.000</td>\n",
       "    </tr>\n",
       "    <tr>\n",
       "      <th>1</th>\n",
       "      <td>1990.0</td>\n",
       "      <td>1011.0</td>\n",
       "      <td>0.0</td>\n",
       "      <td>1.247</td>\n",
       "      <td>0.803</td>\n",
       "      <td>7.784</td>\n",
       "      <td>0.667</td>\n",
       "      <td>0.171</td>\n",
       "      <td>1.125</td>\n",
       "      <td>3.556</td>\n",
       "      <td>...</td>\n",
       "      <td>7.328</td>\n",
       "      <td>0.000</td>\n",
       "      <td>-3.339</td>\n",
       "      <td>0.290</td>\n",
       "      <td>3.635</td>\n",
       "      <td>0.006</td>\n",
       "      <td>0.000</td>\n",
       "      <td>0.000</td>\n",
       "      <td>0.640</td>\n",
       "      <td>1.188</td>\n",
       "    </tr>\n",
       "    <tr>\n",
       "      <th>2</th>\n",
       "      <td>1990.0</td>\n",
       "      <td>1017.0</td>\n",
       "      <td>0.0</td>\n",
       "      <td>55.040</td>\n",
       "      <td>3.601</td>\n",
       "      <td>118.120</td>\n",
       "      <td>44.393</td>\n",
       "      <td>3.132</td>\n",
       "      <td>107.343</td>\n",
       "      <td>3.882</td>\n",
       "      <td>...</td>\n",
       "      <td>78.331</td>\n",
       "      <td>0.000</td>\n",
       "      <td>46.630</td>\n",
       "      <td>47.366</td>\n",
       "      <td>144.258</td>\n",
       "      <td>0.000</td>\n",
       "      <td>0.000</td>\n",
       "      <td>0.986</td>\n",
       "      <td>3.962</td>\n",
       "      <td>5.125</td>\n",
       "    </tr>\n",
       "    <tr>\n",
       "      <th>3</th>\n",
       "      <td>1990.0</td>\n",
       "      <td>1021.0</td>\n",
       "      <td>0.0</td>\n",
       "      <td>24.684</td>\n",
       "      <td>3.948</td>\n",
       "      <td>34.591</td>\n",
       "      <td>7.751</td>\n",
       "      <td>0.411</td>\n",
       "      <td>31.214</td>\n",
       "      <td>4.755</td>\n",
       "      <td>...</td>\n",
       "      <td>11.145</td>\n",
       "      <td>1.295</td>\n",
       "      <td>3.280</td>\n",
       "      <td>8.522</td>\n",
       "      <td>48.292</td>\n",
       "      <td>0.000</td>\n",
       "      <td>0.448</td>\n",
       "      <td>0.365</td>\n",
       "      <td>2.269</td>\n",
       "      <td>1.562</td>\n",
       "    </tr>\n",
       "    <tr>\n",
       "      <th>4</th>\n",
       "      <td>1990.0</td>\n",
       "      <td>1028.0</td>\n",
       "      <td>0.0</td>\n",
       "      <td>17.325</td>\n",
       "      <td>3.520</td>\n",
       "      <td>27.542</td>\n",
       "      <td>-12.142</td>\n",
       "      <td>1.017</td>\n",
       "      <td>32.662</td>\n",
       "      <td>6.735</td>\n",
       "      <td>...</td>\n",
       "      <td>5.782</td>\n",
       "      <td>0.000</td>\n",
       "      <td>-25.955</td>\n",
       "      <td>6.354</td>\n",
       "      <td>33.543</td>\n",
       "      <td>0.000</td>\n",
       "      <td>0.000</td>\n",
       "      <td>0.000</td>\n",
       "      <td>3.510</td>\n",
       "      <td>1.125</td>\n",
       "    </tr>\n",
       "  </tbody>\n",
       "</table>\n",
       "<p>5 rows × 31 columns</p>\n",
       "</div>"
      ],
      "text/plain": [
       "     Year   gvkey  Fraud  Current Assets  Accounts Payable  Total Assets  \\\n",
       "0  1990.0  1009.0    0.0          10.047             3.736        32.335   \n",
       "1  1990.0  1011.0    0.0           1.247             0.803         7.784   \n",
       "2  1990.0  1017.0    0.0          55.040             3.601       118.120   \n",
       "3  1990.0  1021.0    0.0          24.684             3.948        34.591   \n",
       "4  1990.0  1028.0    0.0          17.325             3.520        27.542   \n",
       "\n",
       "   Common Equity  Cash and Short-Term Investments  Cost of Goods Sold  \\\n",
       "0          6.262                            0.002              30.633   \n",
       "1          0.667                            0.171               1.125   \n",
       "2         44.393                            3.132             107.343   \n",
       "3          7.751                            0.411              31.214   \n",
       "4        -12.142                            1.017              32.662   \n",
       "\n",
       "   Common Shares Outstanding  ...  Property, Plant, and Equipment  \\\n",
       "0                      2.526  ...                          31.767   \n",
       "1                      3.556  ...                           7.328   \n",
       "2                      3.882  ...                          78.331   \n",
       "3                      4.755  ...                          11.145   \n",
       "4                      6.735  ...                           5.782   \n",
       "\n",
       "   Preferred Stock  Retained Earnings  Receivables  Net Sales  \\\n",
       "0            0.000              5.420        6.895     40.522   \n",
       "1            0.000             -3.339        0.290      3.635   \n",
       "2            0.000             46.630       47.366    144.258   \n",
       "3            1.295              3.280        8.522     48.292   \n",
       "4            0.000            -25.955        6.354     33.543   \n",
       "\n",
       "   Sale of Common and Preferred Stock  Income Taxes Payable  \\\n",
       "0                               0.000                 0.000   \n",
       "1                               0.006                 0.000   \n",
       "2                               0.000                 0.000   \n",
       "3                               0.000                 0.448   \n",
       "4                               0.000                 0.000   \n",
       "\n",
       "   Total Income Taxes  Interest and Related Expense  \\\n",
       "0               0.769                         2.333   \n",
       "1               0.000                         0.640   \n",
       "2               0.986                         3.962   \n",
       "3               0.365                         2.269   \n",
       "4               0.000                         3.510   \n",
       "\n",
       "   Price Close, Annual, Fiscal  \n",
       "0                        6.000  \n",
       "1                        1.188  \n",
       "2                        5.125  \n",
       "3                        1.562  \n",
       "4                        1.125  \n",
       "\n",
       "[5 rows x 31 columns]"
      ]
     },
     "execution_count": 39,
     "metadata": {},
     "output_type": "execute_result"
    }
   ],
   "source": [
    "df = pd.read_csv(\"Documents/findata.csv\")\n",
    "df.head()\n",
    "df.drop(labels=['sich', 'insbnk', 'understatement', 'option','p_aaer','new_p_aaer'], axis=1, inplace=True)\n",
    "df.head()\n",
    "dffin = df[df['Year'] < 2008]\n",
    "dffin.head()\n",
    "data = dffin.iloc[:, list((x for x in range(0,31)))]\n",
    "data = data.dropna()\n",
    "data.head()"
   ]
  },
  {
   "cell_type": "markdown",
   "metadata": {},
   "source": [
    "### Generating one of our test datasets here. we will actually grab only the data past 2008 in an effort to further stress test our model and see how it peforms in a post '08 regulatory environment"
   ]
  },
  {
   "cell_type": "code",
   "execution_count": 30,
   "metadata": {},
   "outputs": [
    {
     "data": {
      "text/html": [
       "<div>\n",
       "<style scoped>\n",
       "    .dataframe tbody tr th:only-of-type {\n",
       "        vertical-align: middle;\n",
       "    }\n",
       "\n",
       "    .dataframe tbody tr th {\n",
       "        vertical-align: top;\n",
       "    }\n",
       "\n",
       "    .dataframe thead th {\n",
       "        text-align: right;\n",
       "    }\n",
       "</style>\n",
       "<table border=\"1\" class=\"dataframe\">\n",
       "  <thead>\n",
       "    <tr style=\"text-align: right;\">\n",
       "      <th></th>\n",
       "      <th>Year</th>\n",
       "      <th>gvkey</th>\n",
       "      <th>Fraud</th>\n",
       "      <th>Current Assets</th>\n",
       "      <th>Accounts Payable</th>\n",
       "      <th>Total Assets</th>\n",
       "      <th>Common Equity</th>\n",
       "      <th>Cash and Short-Term Investments</th>\n",
       "      <th>Cost of Goods Sold</th>\n",
       "      <th>Common Shares Outstanding</th>\n",
       "      <th>...</th>\n",
       "      <th>Property, Plant, and Equipment</th>\n",
       "      <th>Preferred Stock</th>\n",
       "      <th>Retained Earnings</th>\n",
       "      <th>Receivables</th>\n",
       "      <th>Net Sales</th>\n",
       "      <th>Sale of Common and Preferred Stock</th>\n",
       "      <th>Income Taxes Payable</th>\n",
       "      <th>Total Income Taxes</th>\n",
       "      <th>Interest and Related Expense</th>\n",
       "      <th>Price Close, Annual, Fiscal</th>\n",
       "    </tr>\n",
       "  </thead>\n",
       "  <tbody>\n",
       "    <tr>\n",
       "      <th>107369</th>\n",
       "      <td>2008.0</td>\n",
       "      <td>1004.0</td>\n",
       "      <td>0.0</td>\n",
       "      <td>851.312</td>\n",
       "      <td>100.651</td>\n",
       "      <td>1377.511</td>\n",
       "      <td>656.895</td>\n",
       "      <td>112.505</td>\n",
       "      <td>1110.677</td>\n",
       "      <td>38.884</td>\n",
       "      <td>...</td>\n",
       "      <td>420.459</td>\n",
       "      <td>0.0</td>\n",
       "      <td>385.851</td>\n",
       "      <td>227.300</td>\n",
       "      <td>1423.976</td>\n",
       "      <td>0.599</td>\n",
       "      <td>6.482</td>\n",
       "      <td>39.309</td>\n",
       "      <td>18.371</td>\n",
       "      <td>14.70</td>\n",
       "    </tr>\n",
       "    <tr>\n",
       "      <th>107370</th>\n",
       "      <td>2008.0</td>\n",
       "      <td>1013.0</td>\n",
       "      <td>0.0</td>\n",
       "      <td>1077.400</td>\n",
       "      <td>99.100</td>\n",
       "      <td>1921.000</td>\n",
       "      <td>914.200</td>\n",
       "      <td>631.500</td>\n",
       "      <td>870.700</td>\n",
       "      <td>111.300</td>\n",
       "      <td>...</td>\n",
       "      <td>584.800</td>\n",
       "      <td>0.0</td>\n",
       "      <td>-505.600</td>\n",
       "      <td>240.600</td>\n",
       "      <td>1456.400</td>\n",
       "      <td>0.500</td>\n",
       "      <td>2.400</td>\n",
       "      <td>6.200</td>\n",
       "      <td>28.200</td>\n",
       "      <td>6.34</td>\n",
       "    </tr>\n",
       "    <tr>\n",
       "      <th>107371</th>\n",
       "      <td>2008.0</td>\n",
       "      <td>1021.0</td>\n",
       "      <td>0.0</td>\n",
       "      <td>12.686</td>\n",
       "      <td>3.557</td>\n",
       "      <td>21.401</td>\n",
       "      <td>4.177</td>\n",
       "      <td>0.819</td>\n",
       "      <td>19.334</td>\n",
       "      <td>17.929</td>\n",
       "      <td>...</td>\n",
       "      <td>2.252</td>\n",
       "      <td>0.0</td>\n",
       "      <td>-21.447</td>\n",
       "      <td>4.282</td>\n",
       "      <td>34.280</td>\n",
       "      <td>0.000</td>\n",
       "      <td>0.466</td>\n",
       "      <td>2.118</td>\n",
       "      <td>0.967</td>\n",
       "      <td>0.28</td>\n",
       "    </tr>\n",
       "    <tr>\n",
       "      <th>107372</th>\n",
       "      <td>2008.0</td>\n",
       "      <td>1045.0</td>\n",
       "      <td>0.0</td>\n",
       "      <td>5935.000</td>\n",
       "      <td>952.000</td>\n",
       "      <td>25175.000</td>\n",
       "      <td>-2935.000</td>\n",
       "      <td>3566.000</td>\n",
       "      <td>20232.000</td>\n",
       "      <td>278.949</td>\n",
       "      <td>...</td>\n",
       "      <td>26180.000</td>\n",
       "      <td>0.0</td>\n",
       "      <td>-6638.000</td>\n",
       "      <td>811.000</td>\n",
       "      <td>23766.000</td>\n",
       "      <td>295.000</td>\n",
       "      <td>0.000</td>\n",
       "      <td>0.000</td>\n",
       "      <td>756.000</td>\n",
       "      <td>10.67</td>\n",
       "    </tr>\n",
       "    <tr>\n",
       "      <th>107373</th>\n",
       "      <td>2008.0</td>\n",
       "      <td>1050.0</td>\n",
       "      <td>0.0</td>\n",
       "      <td>69.819</td>\n",
       "      <td>22.886</td>\n",
       "      <td>120.017</td>\n",
       "      <td>44.513</td>\n",
       "      <td>1.169</td>\n",
       "      <td>172.874</td>\n",
       "      <td>14.323</td>\n",
       "      <td>...</td>\n",
       "      <td>24.110</td>\n",
       "      <td>0.0</td>\n",
       "      <td>3.381</td>\n",
       "      <td>47.574</td>\n",
       "      <td>217.890</td>\n",
       "      <td>0.043</td>\n",
       "      <td>2.291</td>\n",
       "      <td>2.626</td>\n",
       "      <td>1.479</td>\n",
       "      <td>2.42</td>\n",
       "    </tr>\n",
       "  </tbody>\n",
       "</table>\n",
       "<p>5 rows × 31 columns</p>\n",
       "</div>"
      ],
      "text/plain": [
       "          Year   gvkey  Fraud  Current Assets  Accounts Payable  Total Assets  \\\n",
       "107369  2008.0  1004.0    0.0         851.312           100.651      1377.511   \n",
       "107370  2008.0  1013.0    0.0        1077.400            99.100      1921.000   \n",
       "107371  2008.0  1021.0    0.0          12.686             3.557        21.401   \n",
       "107372  2008.0  1045.0    0.0        5935.000           952.000     25175.000   \n",
       "107373  2008.0  1050.0    0.0          69.819            22.886       120.017   \n",
       "\n",
       "        Common Equity  Cash and Short-Term Investments  Cost of Goods Sold  \\\n",
       "107369        656.895                          112.505            1110.677   \n",
       "107370        914.200                          631.500             870.700   \n",
       "107371          4.177                            0.819              19.334   \n",
       "107372      -2935.000                         3566.000           20232.000   \n",
       "107373         44.513                            1.169             172.874   \n",
       "\n",
       "        Common Shares Outstanding  ...  Property, Plant, and Equipment  \\\n",
       "107369                     38.884  ...                         420.459   \n",
       "107370                    111.300  ...                         584.800   \n",
       "107371                     17.929  ...                           2.252   \n",
       "107372                    278.949  ...                       26180.000   \n",
       "107373                     14.323  ...                          24.110   \n",
       "\n",
       "        Preferred Stock  Retained Earnings  Receivables  Net Sales  \\\n",
       "107369              0.0            385.851      227.300   1423.976   \n",
       "107370              0.0           -505.600      240.600   1456.400   \n",
       "107371              0.0            -21.447        4.282     34.280   \n",
       "107372              0.0          -6638.000      811.000  23766.000   \n",
       "107373              0.0              3.381       47.574    217.890   \n",
       "\n",
       "        Sale of Common and Preferred Stock  Income Taxes Payable  \\\n",
       "107369                               0.599                 6.482   \n",
       "107370                               0.500                 2.400   \n",
       "107371                               0.000                 0.466   \n",
       "107372                             295.000                 0.000   \n",
       "107373                               0.043                 2.291   \n",
       "\n",
       "        Total Income Taxes  Interest and Related Expense  \\\n",
       "107369              39.309                        18.371   \n",
       "107370               6.200                        28.200   \n",
       "107371               2.118                         0.967   \n",
       "107372               0.000                       756.000   \n",
       "107373               2.626                         1.479   \n",
       "\n",
       "        Price Close, Annual, Fiscal  \n",
       "107369                        14.70  \n",
       "107370                         6.34  \n",
       "107371                         0.28  \n",
       "107372                        10.67  \n",
       "107373                         2.42  \n",
       "\n",
       "[5 rows x 31 columns]"
      ]
     },
     "execution_count": 30,
     "metadata": {},
     "output_type": "execute_result"
    }
   ],
   "source": [
    "df2 = pd.read_csv(\"Documents/findata.csv\")\n",
    "df2.head()\n",
    "df2.drop(labels=['sich', 'insbnk', 'understatement', 'option','p_aaer','new_p_aaer'], axis=1, inplace=True)\n",
    "df2.head()\n",
    "dffin2 = df2[df2['Year'] >= 2008]\n",
    "dffin2.head()\n",
    "data_test_08 = dffin2.iloc[:, list((x for x in range(0,31)))]\n",
    "data_test_08 = data_test_08.dropna()\n",
    "data_test_08.head()"
   ]
  },
  {
   "cell_type": "markdown",
   "metadata": {},
   "source": [
    "### Setting up Pycaret classification environment. Notice that we are stratiying our data in the based on target variable 'Fraud', as well as doing our fold strategy grouping by 'gvkey' which is a unique identifier for the company"
   ]
  },
  {
   "cell_type": "code",
   "execution_count": 47,
   "metadata": {},
   "outputs": [
    {
     "data": {
      "text/html": [
       "<style type=\"text/css\">\n",
       "#T_fecc9_row29_col1, #T_fecc9_row44_col1 {\n",
       "  background-color: lightgreen;\n",
       "}\n",
       "</style>\n",
       "<table id=\"T_fecc9\">\n",
       "  <thead>\n",
       "    <tr>\n",
       "      <th class=\"blank level0\" >&nbsp;</th>\n",
       "      <th id=\"T_fecc9_level0_col0\" class=\"col_heading level0 col0\" >Description</th>\n",
       "      <th id=\"T_fecc9_level0_col1\" class=\"col_heading level0 col1\" >Value</th>\n",
       "    </tr>\n",
       "  </thead>\n",
       "  <tbody>\n",
       "    <tr>\n",
       "      <th id=\"T_fecc9_level0_row0\" class=\"row_heading level0 row0\" >0</th>\n",
       "      <td id=\"T_fecc9_row0_col0\" class=\"data row0 col0\" >session_id</td>\n",
       "      <td id=\"T_fecc9_row0_col1\" class=\"data row0 col1\" >7553</td>\n",
       "    </tr>\n",
       "    <tr>\n",
       "      <th id=\"T_fecc9_level0_row1\" class=\"row_heading level0 row1\" >1</th>\n",
       "      <td id=\"T_fecc9_row1_col0\" class=\"data row1 col0\" >Target</td>\n",
       "      <td id=\"T_fecc9_row1_col1\" class=\"data row1 col1\" >Fraud</td>\n",
       "    </tr>\n",
       "    <tr>\n",
       "      <th id=\"T_fecc9_level0_row2\" class=\"row_heading level0 row2\" >2</th>\n",
       "      <td id=\"T_fecc9_row2_col0\" class=\"data row2 col0\" >Target Type</td>\n",
       "      <td id=\"T_fecc9_row2_col1\" class=\"data row2 col1\" >Binary</td>\n",
       "    </tr>\n",
       "    <tr>\n",
       "      <th id=\"T_fecc9_level0_row3\" class=\"row_heading level0 row3\" >3</th>\n",
       "      <td id=\"T_fecc9_row3_col0\" class=\"data row3 col0\" >Label Encoded</td>\n",
       "      <td id=\"T_fecc9_row3_col1\" class=\"data row3 col1\" >0.0: 0, 1.0: 1</td>\n",
       "    </tr>\n",
       "    <tr>\n",
       "      <th id=\"T_fecc9_level0_row4\" class=\"row_heading level0 row4\" >4</th>\n",
       "      <td id=\"T_fecc9_row4_col0\" class=\"data row4 col0\" >Original Data</td>\n",
       "      <td id=\"T_fecc9_row4_col1\" class=\"data row4 col1\" >(107369, 31)</td>\n",
       "    </tr>\n",
       "    <tr>\n",
       "      <th id=\"T_fecc9_level0_row5\" class=\"row_heading level0 row5\" >5</th>\n",
       "      <td id=\"T_fecc9_row5_col0\" class=\"data row5 col0\" >Missing Values</td>\n",
       "      <td id=\"T_fecc9_row5_col1\" class=\"data row5 col1\" >False</td>\n",
       "    </tr>\n",
       "    <tr>\n",
       "      <th id=\"T_fecc9_level0_row6\" class=\"row_heading level0 row6\" >6</th>\n",
       "      <td id=\"T_fecc9_row6_col0\" class=\"data row6 col0\" >Numeric Features</td>\n",
       "      <td id=\"T_fecc9_row6_col1\" class=\"data row6 col1\" >30</td>\n",
       "    </tr>\n",
       "    <tr>\n",
       "      <th id=\"T_fecc9_level0_row7\" class=\"row_heading level0 row7\" >7</th>\n",
       "      <td id=\"T_fecc9_row7_col0\" class=\"data row7 col0\" >Categorical Features</td>\n",
       "      <td id=\"T_fecc9_row7_col1\" class=\"data row7 col1\" >0</td>\n",
       "    </tr>\n",
       "    <tr>\n",
       "      <th id=\"T_fecc9_level0_row8\" class=\"row_heading level0 row8\" >8</th>\n",
       "      <td id=\"T_fecc9_row8_col0\" class=\"data row8 col0\" >Ordinal Features</td>\n",
       "      <td id=\"T_fecc9_row8_col1\" class=\"data row8 col1\" >False</td>\n",
       "    </tr>\n",
       "    <tr>\n",
       "      <th id=\"T_fecc9_level0_row9\" class=\"row_heading level0 row9\" >9</th>\n",
       "      <td id=\"T_fecc9_row9_col0\" class=\"data row9 col0\" >High Cardinality Features</td>\n",
       "      <td id=\"T_fecc9_row9_col1\" class=\"data row9 col1\" >False</td>\n",
       "    </tr>\n",
       "    <tr>\n",
       "      <th id=\"T_fecc9_level0_row10\" class=\"row_heading level0 row10\" >10</th>\n",
       "      <td id=\"T_fecc9_row10_col0\" class=\"data row10 col0\" >High Cardinality Method</td>\n",
       "      <td id=\"T_fecc9_row10_col1\" class=\"data row10 col1\" >None</td>\n",
       "    </tr>\n",
       "    <tr>\n",
       "      <th id=\"T_fecc9_level0_row11\" class=\"row_heading level0 row11\" >11</th>\n",
       "      <td id=\"T_fecc9_row11_col0\" class=\"data row11 col0\" >Transformed Train Set</td>\n",
       "      <td id=\"T_fecc9_row11_col1\" class=\"data row11 col1\" >(75158, 30)</td>\n",
       "    </tr>\n",
       "    <tr>\n",
       "      <th id=\"T_fecc9_level0_row12\" class=\"row_heading level0 row12\" >12</th>\n",
       "      <td id=\"T_fecc9_row12_col0\" class=\"data row12 col0\" >Transformed Test Set</td>\n",
       "      <td id=\"T_fecc9_row12_col1\" class=\"data row12 col1\" >(32211, 30)</td>\n",
       "    </tr>\n",
       "    <tr>\n",
       "      <th id=\"T_fecc9_level0_row13\" class=\"row_heading level0 row13\" >13</th>\n",
       "      <td id=\"T_fecc9_row13_col0\" class=\"data row13 col0\" >Shuffle Train-Test</td>\n",
       "      <td id=\"T_fecc9_row13_col1\" class=\"data row13 col1\" >True</td>\n",
       "    </tr>\n",
       "    <tr>\n",
       "      <th id=\"T_fecc9_level0_row14\" class=\"row_heading level0 row14\" >14</th>\n",
       "      <td id=\"T_fecc9_row14_col0\" class=\"data row14 col0\" >Stratify Train-Test</td>\n",
       "      <td id=\"T_fecc9_row14_col1\" class=\"data row14 col1\" >True</td>\n",
       "    </tr>\n",
       "    <tr>\n",
       "      <th id=\"T_fecc9_level0_row15\" class=\"row_heading level0 row15\" >15</th>\n",
       "      <td id=\"T_fecc9_row15_col0\" class=\"data row15 col0\" >Fold Generator</td>\n",
       "      <td id=\"T_fecc9_row15_col1\" class=\"data row15 col1\" >GroupKFold</td>\n",
       "    </tr>\n",
       "    <tr>\n",
       "      <th id=\"T_fecc9_level0_row16\" class=\"row_heading level0 row16\" >16</th>\n",
       "      <td id=\"T_fecc9_row16_col0\" class=\"data row16 col0\" >Fold Number</td>\n",
       "      <td id=\"T_fecc9_row16_col1\" class=\"data row16 col1\" >10</td>\n",
       "    </tr>\n",
       "    <tr>\n",
       "      <th id=\"T_fecc9_level0_row17\" class=\"row_heading level0 row17\" >17</th>\n",
       "      <td id=\"T_fecc9_row17_col0\" class=\"data row17 col0\" >CPU Jobs</td>\n",
       "      <td id=\"T_fecc9_row17_col1\" class=\"data row17 col1\" >-1</td>\n",
       "    </tr>\n",
       "    <tr>\n",
       "      <th id=\"T_fecc9_level0_row18\" class=\"row_heading level0 row18\" >18</th>\n",
       "      <td id=\"T_fecc9_row18_col0\" class=\"data row18 col0\" >Use GPU</td>\n",
       "      <td id=\"T_fecc9_row18_col1\" class=\"data row18 col1\" >False</td>\n",
       "    </tr>\n",
       "    <tr>\n",
       "      <th id=\"T_fecc9_level0_row19\" class=\"row_heading level0 row19\" >19</th>\n",
       "      <td id=\"T_fecc9_row19_col0\" class=\"data row19 col0\" >Log Experiment</td>\n",
       "      <td id=\"T_fecc9_row19_col1\" class=\"data row19 col1\" >False</td>\n",
       "    </tr>\n",
       "    <tr>\n",
       "      <th id=\"T_fecc9_level0_row20\" class=\"row_heading level0 row20\" >20</th>\n",
       "      <td id=\"T_fecc9_row20_col0\" class=\"data row20 col0\" >Experiment Name</td>\n",
       "      <td id=\"T_fecc9_row20_col1\" class=\"data row20 col1\" >clf-default-name</td>\n",
       "    </tr>\n",
       "    <tr>\n",
       "      <th id=\"T_fecc9_level0_row21\" class=\"row_heading level0 row21\" >21</th>\n",
       "      <td id=\"T_fecc9_row21_col0\" class=\"data row21 col0\" >USI</td>\n",
       "      <td id=\"T_fecc9_row21_col1\" class=\"data row21 col1\" >08a4</td>\n",
       "    </tr>\n",
       "    <tr>\n",
       "      <th id=\"T_fecc9_level0_row22\" class=\"row_heading level0 row22\" >22</th>\n",
       "      <td id=\"T_fecc9_row22_col0\" class=\"data row22 col0\" >Imputation Type</td>\n",
       "      <td id=\"T_fecc9_row22_col1\" class=\"data row22 col1\" >simple</td>\n",
       "    </tr>\n",
       "    <tr>\n",
       "      <th id=\"T_fecc9_level0_row23\" class=\"row_heading level0 row23\" >23</th>\n",
       "      <td id=\"T_fecc9_row23_col0\" class=\"data row23 col0\" >Iterative Imputation Iteration</td>\n",
       "      <td id=\"T_fecc9_row23_col1\" class=\"data row23 col1\" >None</td>\n",
       "    </tr>\n",
       "    <tr>\n",
       "      <th id=\"T_fecc9_level0_row24\" class=\"row_heading level0 row24\" >24</th>\n",
       "      <td id=\"T_fecc9_row24_col0\" class=\"data row24 col0\" >Numeric Imputer</td>\n",
       "      <td id=\"T_fecc9_row24_col1\" class=\"data row24 col1\" >mean</td>\n",
       "    </tr>\n",
       "    <tr>\n",
       "      <th id=\"T_fecc9_level0_row25\" class=\"row_heading level0 row25\" >25</th>\n",
       "      <td id=\"T_fecc9_row25_col0\" class=\"data row25 col0\" >Iterative Imputation Numeric Model</td>\n",
       "      <td id=\"T_fecc9_row25_col1\" class=\"data row25 col1\" >None</td>\n",
       "    </tr>\n",
       "    <tr>\n",
       "      <th id=\"T_fecc9_level0_row26\" class=\"row_heading level0 row26\" >26</th>\n",
       "      <td id=\"T_fecc9_row26_col0\" class=\"data row26 col0\" >Categorical Imputer</td>\n",
       "      <td id=\"T_fecc9_row26_col1\" class=\"data row26 col1\" >constant</td>\n",
       "    </tr>\n",
       "    <tr>\n",
       "      <th id=\"T_fecc9_level0_row27\" class=\"row_heading level0 row27\" >27</th>\n",
       "      <td id=\"T_fecc9_row27_col0\" class=\"data row27 col0\" >Iterative Imputation Categorical Model</td>\n",
       "      <td id=\"T_fecc9_row27_col1\" class=\"data row27 col1\" >None</td>\n",
       "    </tr>\n",
       "    <tr>\n",
       "      <th id=\"T_fecc9_level0_row28\" class=\"row_heading level0 row28\" >28</th>\n",
       "      <td id=\"T_fecc9_row28_col0\" class=\"data row28 col0\" >Unknown Categoricals Handling</td>\n",
       "      <td id=\"T_fecc9_row28_col1\" class=\"data row28 col1\" >least_frequent</td>\n",
       "    </tr>\n",
       "    <tr>\n",
       "      <th id=\"T_fecc9_level0_row29\" class=\"row_heading level0 row29\" >29</th>\n",
       "      <td id=\"T_fecc9_row29_col0\" class=\"data row29 col0\" >Normalize</td>\n",
       "      <td id=\"T_fecc9_row29_col1\" class=\"data row29 col1\" >True</td>\n",
       "    </tr>\n",
       "    <tr>\n",
       "      <th id=\"T_fecc9_level0_row30\" class=\"row_heading level0 row30\" >30</th>\n",
       "      <td id=\"T_fecc9_row30_col0\" class=\"data row30 col0\" >Normalize Method</td>\n",
       "      <td id=\"T_fecc9_row30_col1\" class=\"data row30 col1\" >zscore</td>\n",
       "    </tr>\n",
       "    <tr>\n",
       "      <th id=\"T_fecc9_level0_row31\" class=\"row_heading level0 row31\" >31</th>\n",
       "      <td id=\"T_fecc9_row31_col0\" class=\"data row31 col0\" >Transformation</td>\n",
       "      <td id=\"T_fecc9_row31_col1\" class=\"data row31 col1\" >False</td>\n",
       "    </tr>\n",
       "    <tr>\n",
       "      <th id=\"T_fecc9_level0_row32\" class=\"row_heading level0 row32\" >32</th>\n",
       "      <td id=\"T_fecc9_row32_col0\" class=\"data row32 col0\" >Transformation Method</td>\n",
       "      <td id=\"T_fecc9_row32_col1\" class=\"data row32 col1\" >None</td>\n",
       "    </tr>\n",
       "    <tr>\n",
       "      <th id=\"T_fecc9_level0_row33\" class=\"row_heading level0 row33\" >33</th>\n",
       "      <td id=\"T_fecc9_row33_col0\" class=\"data row33 col0\" >PCA</td>\n",
       "      <td id=\"T_fecc9_row33_col1\" class=\"data row33 col1\" >False</td>\n",
       "    </tr>\n",
       "    <tr>\n",
       "      <th id=\"T_fecc9_level0_row34\" class=\"row_heading level0 row34\" >34</th>\n",
       "      <td id=\"T_fecc9_row34_col0\" class=\"data row34 col0\" >PCA Method</td>\n",
       "      <td id=\"T_fecc9_row34_col1\" class=\"data row34 col1\" >None</td>\n",
       "    </tr>\n",
       "    <tr>\n",
       "      <th id=\"T_fecc9_level0_row35\" class=\"row_heading level0 row35\" >35</th>\n",
       "      <td id=\"T_fecc9_row35_col0\" class=\"data row35 col0\" >PCA Components</td>\n",
       "      <td id=\"T_fecc9_row35_col1\" class=\"data row35 col1\" >None</td>\n",
       "    </tr>\n",
       "    <tr>\n",
       "      <th id=\"T_fecc9_level0_row36\" class=\"row_heading level0 row36\" >36</th>\n",
       "      <td id=\"T_fecc9_row36_col0\" class=\"data row36 col0\" >Ignore Low Variance</td>\n",
       "      <td id=\"T_fecc9_row36_col1\" class=\"data row36 col1\" >False</td>\n",
       "    </tr>\n",
       "    <tr>\n",
       "      <th id=\"T_fecc9_level0_row37\" class=\"row_heading level0 row37\" >37</th>\n",
       "      <td id=\"T_fecc9_row37_col0\" class=\"data row37 col0\" >Combine Rare Levels</td>\n",
       "      <td id=\"T_fecc9_row37_col1\" class=\"data row37 col1\" >False</td>\n",
       "    </tr>\n",
       "    <tr>\n",
       "      <th id=\"T_fecc9_level0_row38\" class=\"row_heading level0 row38\" >38</th>\n",
       "      <td id=\"T_fecc9_row38_col0\" class=\"data row38 col0\" >Rare Level Threshold</td>\n",
       "      <td id=\"T_fecc9_row38_col1\" class=\"data row38 col1\" >None</td>\n",
       "    </tr>\n",
       "    <tr>\n",
       "      <th id=\"T_fecc9_level0_row39\" class=\"row_heading level0 row39\" >39</th>\n",
       "      <td id=\"T_fecc9_row39_col0\" class=\"data row39 col0\" >Numeric Binning</td>\n",
       "      <td id=\"T_fecc9_row39_col1\" class=\"data row39 col1\" >False</td>\n",
       "    </tr>\n",
       "    <tr>\n",
       "      <th id=\"T_fecc9_level0_row40\" class=\"row_heading level0 row40\" >40</th>\n",
       "      <td id=\"T_fecc9_row40_col0\" class=\"data row40 col0\" >Remove Outliers</td>\n",
       "      <td id=\"T_fecc9_row40_col1\" class=\"data row40 col1\" >False</td>\n",
       "    </tr>\n",
       "    <tr>\n",
       "      <th id=\"T_fecc9_level0_row41\" class=\"row_heading level0 row41\" >41</th>\n",
       "      <td id=\"T_fecc9_row41_col0\" class=\"data row41 col0\" >Outliers Threshold</td>\n",
       "      <td id=\"T_fecc9_row41_col1\" class=\"data row41 col1\" >None</td>\n",
       "    </tr>\n",
       "    <tr>\n",
       "      <th id=\"T_fecc9_level0_row42\" class=\"row_heading level0 row42\" >42</th>\n",
       "      <td id=\"T_fecc9_row42_col0\" class=\"data row42 col0\" >Remove Multicollinearity</td>\n",
       "      <td id=\"T_fecc9_row42_col1\" class=\"data row42 col1\" >False</td>\n",
       "    </tr>\n",
       "    <tr>\n",
       "      <th id=\"T_fecc9_level0_row43\" class=\"row_heading level0 row43\" >43</th>\n",
       "      <td id=\"T_fecc9_row43_col0\" class=\"data row43 col0\" >Multicollinearity Threshold</td>\n",
       "      <td id=\"T_fecc9_row43_col1\" class=\"data row43 col1\" >None</td>\n",
       "    </tr>\n",
       "    <tr>\n",
       "      <th id=\"T_fecc9_level0_row44\" class=\"row_heading level0 row44\" >44</th>\n",
       "      <td id=\"T_fecc9_row44_col0\" class=\"data row44 col0\" >Remove Perfect Collinearity</td>\n",
       "      <td id=\"T_fecc9_row44_col1\" class=\"data row44 col1\" >True</td>\n",
       "    </tr>\n",
       "    <tr>\n",
       "      <th id=\"T_fecc9_level0_row45\" class=\"row_heading level0 row45\" >45</th>\n",
       "      <td id=\"T_fecc9_row45_col0\" class=\"data row45 col0\" >Clustering</td>\n",
       "      <td id=\"T_fecc9_row45_col1\" class=\"data row45 col1\" >False</td>\n",
       "    </tr>\n",
       "    <tr>\n",
       "      <th id=\"T_fecc9_level0_row46\" class=\"row_heading level0 row46\" >46</th>\n",
       "      <td id=\"T_fecc9_row46_col0\" class=\"data row46 col0\" >Clustering Iteration</td>\n",
       "      <td id=\"T_fecc9_row46_col1\" class=\"data row46 col1\" >None</td>\n",
       "    </tr>\n",
       "    <tr>\n",
       "      <th id=\"T_fecc9_level0_row47\" class=\"row_heading level0 row47\" >47</th>\n",
       "      <td id=\"T_fecc9_row47_col0\" class=\"data row47 col0\" >Polynomial Features</td>\n",
       "      <td id=\"T_fecc9_row47_col1\" class=\"data row47 col1\" >False</td>\n",
       "    </tr>\n",
       "    <tr>\n",
       "      <th id=\"T_fecc9_level0_row48\" class=\"row_heading level0 row48\" >48</th>\n",
       "      <td id=\"T_fecc9_row48_col0\" class=\"data row48 col0\" >Polynomial Degree</td>\n",
       "      <td id=\"T_fecc9_row48_col1\" class=\"data row48 col1\" >None</td>\n",
       "    </tr>\n",
       "    <tr>\n",
       "      <th id=\"T_fecc9_level0_row49\" class=\"row_heading level0 row49\" >49</th>\n",
       "      <td id=\"T_fecc9_row49_col0\" class=\"data row49 col0\" >Trignometry Features</td>\n",
       "      <td id=\"T_fecc9_row49_col1\" class=\"data row49 col1\" >False</td>\n",
       "    </tr>\n",
       "    <tr>\n",
       "      <th id=\"T_fecc9_level0_row50\" class=\"row_heading level0 row50\" >50</th>\n",
       "      <td id=\"T_fecc9_row50_col0\" class=\"data row50 col0\" >Polynomial Threshold</td>\n",
       "      <td id=\"T_fecc9_row50_col1\" class=\"data row50 col1\" >None</td>\n",
       "    </tr>\n",
       "    <tr>\n",
       "      <th id=\"T_fecc9_level0_row51\" class=\"row_heading level0 row51\" >51</th>\n",
       "      <td id=\"T_fecc9_row51_col0\" class=\"data row51 col0\" >Group Features</td>\n",
       "      <td id=\"T_fecc9_row51_col1\" class=\"data row51 col1\" >False</td>\n",
       "    </tr>\n",
       "    <tr>\n",
       "      <th id=\"T_fecc9_level0_row52\" class=\"row_heading level0 row52\" >52</th>\n",
       "      <td id=\"T_fecc9_row52_col0\" class=\"data row52 col0\" >Feature Selection</td>\n",
       "      <td id=\"T_fecc9_row52_col1\" class=\"data row52 col1\" >False</td>\n",
       "    </tr>\n",
       "    <tr>\n",
       "      <th id=\"T_fecc9_level0_row53\" class=\"row_heading level0 row53\" >53</th>\n",
       "      <td id=\"T_fecc9_row53_col0\" class=\"data row53 col0\" >Feature Selection Method</td>\n",
       "      <td id=\"T_fecc9_row53_col1\" class=\"data row53 col1\" >classic</td>\n",
       "    </tr>\n",
       "    <tr>\n",
       "      <th id=\"T_fecc9_level0_row54\" class=\"row_heading level0 row54\" >54</th>\n",
       "      <td id=\"T_fecc9_row54_col0\" class=\"data row54 col0\" >Features Selection Threshold</td>\n",
       "      <td id=\"T_fecc9_row54_col1\" class=\"data row54 col1\" >None</td>\n",
       "    </tr>\n",
       "    <tr>\n",
       "      <th id=\"T_fecc9_level0_row55\" class=\"row_heading level0 row55\" >55</th>\n",
       "      <td id=\"T_fecc9_row55_col0\" class=\"data row55 col0\" >Feature Interaction</td>\n",
       "      <td id=\"T_fecc9_row55_col1\" class=\"data row55 col1\" >False</td>\n",
       "    </tr>\n",
       "    <tr>\n",
       "      <th id=\"T_fecc9_level0_row56\" class=\"row_heading level0 row56\" >56</th>\n",
       "      <td id=\"T_fecc9_row56_col0\" class=\"data row56 col0\" >Feature Ratio</td>\n",
       "      <td id=\"T_fecc9_row56_col1\" class=\"data row56 col1\" >False</td>\n",
       "    </tr>\n",
       "    <tr>\n",
       "      <th id=\"T_fecc9_level0_row57\" class=\"row_heading level0 row57\" >57</th>\n",
       "      <td id=\"T_fecc9_row57_col0\" class=\"data row57 col0\" >Interaction Threshold</td>\n",
       "      <td id=\"T_fecc9_row57_col1\" class=\"data row57 col1\" >None</td>\n",
       "    </tr>\n",
       "    <tr>\n",
       "      <th id=\"T_fecc9_level0_row58\" class=\"row_heading level0 row58\" >58</th>\n",
       "      <td id=\"T_fecc9_row58_col0\" class=\"data row58 col0\" >Fix Imbalance</td>\n",
       "      <td id=\"T_fecc9_row58_col1\" class=\"data row58 col1\" >False</td>\n",
       "    </tr>\n",
       "    <tr>\n",
       "      <th id=\"T_fecc9_level0_row59\" class=\"row_heading level0 row59\" >59</th>\n",
       "      <td id=\"T_fecc9_row59_col0\" class=\"data row59 col0\" >Fix Imbalance Method</td>\n",
       "      <td id=\"T_fecc9_row59_col1\" class=\"data row59 col1\" >SMOTE</td>\n",
       "    </tr>\n",
       "  </tbody>\n",
       "</table>\n"
      ],
      "text/plain": [
       "<pandas.io.formats.style.Styler at 0x18730c5ebb0>"
      ]
     },
     "metadata": {},
     "output_type": "display_data"
    }
   ],
   "source": [
    "s = setup(data, target = 'Fraud', normalize = True, data_split_stratify = True, fold_strategy = 'groupkfold', fold_groups = 'gvkey')"
   ]
  },
  {
   "cell_type": "markdown",
   "metadata": {},
   "source": [
    "### Instantiate the Multi Layer Perceptron Neural Network Model"
   ]
  },
  {
   "cell_type": "code",
   "execution_count": 48,
   "metadata": {},
   "outputs": [
    {
     "data": {
      "text/html": [
       "<style type=\"text/css\">\n",
       "#T_7f520_row10_col0, #T_7f520_row10_col1, #T_7f520_row10_col2, #T_7f520_row10_col3, #T_7f520_row10_col4, #T_7f520_row10_col5, #T_7f520_row10_col6 {\n",
       "  background: yellow;\n",
       "}\n",
       "</style>\n",
       "<table id=\"T_7f520\">\n",
       "  <thead>\n",
       "    <tr>\n",
       "      <th class=\"blank level0\" >&nbsp;</th>\n",
       "      <th id=\"T_7f520_level0_col0\" class=\"col_heading level0 col0\" >Accuracy</th>\n",
       "      <th id=\"T_7f520_level0_col1\" class=\"col_heading level0 col1\" >AUC</th>\n",
       "      <th id=\"T_7f520_level0_col2\" class=\"col_heading level0 col2\" >Recall</th>\n",
       "      <th id=\"T_7f520_level0_col3\" class=\"col_heading level0 col3\" >Prec.</th>\n",
       "      <th id=\"T_7f520_level0_col4\" class=\"col_heading level0 col4\" >F1</th>\n",
       "      <th id=\"T_7f520_level0_col5\" class=\"col_heading level0 col5\" >Kappa</th>\n",
       "      <th id=\"T_7f520_level0_col6\" class=\"col_heading level0 col6\" >MCC</th>\n",
       "    </tr>\n",
       "    <tr>\n",
       "      <th class=\"index_name level0\" >Fold</th>\n",
       "      <th class=\"blank col0\" >&nbsp;</th>\n",
       "      <th class=\"blank col1\" >&nbsp;</th>\n",
       "      <th class=\"blank col2\" >&nbsp;</th>\n",
       "      <th class=\"blank col3\" >&nbsp;</th>\n",
       "      <th class=\"blank col4\" >&nbsp;</th>\n",
       "      <th class=\"blank col5\" >&nbsp;</th>\n",
       "      <th class=\"blank col6\" >&nbsp;</th>\n",
       "    </tr>\n",
       "  </thead>\n",
       "  <tbody>\n",
       "    <tr>\n",
       "      <th id=\"T_7f520_level0_row0\" class=\"row_heading level0 row0\" >0</th>\n",
       "      <td id=\"T_7f520_row0_col0\" class=\"data row0 col0\" >0.9928</td>\n",
       "      <td id=\"T_7f520_row0_col1\" class=\"data row0 col1\" >0.6738</td>\n",
       "      <td id=\"T_7f520_row0_col2\" class=\"data row0 col2\" >0.0000</td>\n",
       "      <td id=\"T_7f520_row0_col3\" class=\"data row0 col3\" >0.0000</td>\n",
       "      <td id=\"T_7f520_row0_col4\" class=\"data row0 col4\" >0.0000</td>\n",
       "      <td id=\"T_7f520_row0_col5\" class=\"data row0 col5\" >0.0000</td>\n",
       "      <td id=\"T_7f520_row0_col6\" class=\"data row0 col6\" >0.0000</td>\n",
       "    </tr>\n",
       "    <tr>\n",
       "      <th id=\"T_7f520_level0_row1\" class=\"row_heading level0 row1\" >1</th>\n",
       "      <td id=\"T_7f520_row1_col0\" class=\"data row1 col0\" >0.9923</td>\n",
       "      <td id=\"T_7f520_row1_col1\" class=\"data row1 col1\" >0.6445</td>\n",
       "      <td id=\"T_7f520_row1_col2\" class=\"data row1 col2\" >0.0000</td>\n",
       "      <td id=\"T_7f520_row1_col3\" class=\"data row1 col3\" >0.0000</td>\n",
       "      <td id=\"T_7f520_row1_col4\" class=\"data row1 col4\" >0.0000</td>\n",
       "      <td id=\"T_7f520_row1_col5\" class=\"data row1 col5\" >0.0000</td>\n",
       "      <td id=\"T_7f520_row1_col6\" class=\"data row1 col6\" >0.0000</td>\n",
       "    </tr>\n",
       "    <tr>\n",
       "      <th id=\"T_7f520_level0_row2\" class=\"row_heading level0 row2\" >2</th>\n",
       "      <td id=\"T_7f520_row2_col0\" class=\"data row2 col0\" >0.9916</td>\n",
       "      <td id=\"T_7f520_row2_col1\" class=\"data row2 col1\" >0.7096</td>\n",
       "      <td id=\"T_7f520_row2_col2\" class=\"data row2 col2\" >0.0000</td>\n",
       "      <td id=\"T_7f520_row2_col3\" class=\"data row2 col3\" >0.0000</td>\n",
       "      <td id=\"T_7f520_row2_col4\" class=\"data row2 col4\" >0.0000</td>\n",
       "      <td id=\"T_7f520_row2_col5\" class=\"data row2 col5\" >0.0000</td>\n",
       "      <td id=\"T_7f520_row2_col6\" class=\"data row2 col6\" >0.0000</td>\n",
       "    </tr>\n",
       "    <tr>\n",
       "      <th id=\"T_7f520_level0_row3\" class=\"row_heading level0 row3\" >3</th>\n",
       "      <td id=\"T_7f520_row3_col0\" class=\"data row3 col0\" >0.9922</td>\n",
       "      <td id=\"T_7f520_row3_col1\" class=\"data row3 col1\" >0.8066</td>\n",
       "      <td id=\"T_7f520_row3_col2\" class=\"data row3 col2\" >0.0000</td>\n",
       "      <td id=\"T_7f520_row3_col3\" class=\"data row3 col3\" >0.0000</td>\n",
       "      <td id=\"T_7f520_row3_col4\" class=\"data row3 col4\" >0.0000</td>\n",
       "      <td id=\"T_7f520_row3_col5\" class=\"data row3 col5\" >0.0000</td>\n",
       "      <td id=\"T_7f520_row3_col6\" class=\"data row3 col6\" >0.0000</td>\n",
       "    </tr>\n",
       "    <tr>\n",
       "      <th id=\"T_7f520_level0_row4\" class=\"row_heading level0 row4\" >4</th>\n",
       "      <td id=\"T_7f520_row4_col0\" class=\"data row4 col0\" >0.9936</td>\n",
       "      <td id=\"T_7f520_row4_col1\" class=\"data row4 col1\" >0.6616</td>\n",
       "      <td id=\"T_7f520_row4_col2\" class=\"data row4 col2\" >0.0000</td>\n",
       "      <td id=\"T_7f520_row4_col3\" class=\"data row4 col3\" >0.0000</td>\n",
       "      <td id=\"T_7f520_row4_col4\" class=\"data row4 col4\" >0.0000</td>\n",
       "      <td id=\"T_7f520_row4_col5\" class=\"data row4 col5\" >0.0000</td>\n",
       "      <td id=\"T_7f520_row4_col6\" class=\"data row4 col6\" >0.0000</td>\n",
       "    </tr>\n",
       "    <tr>\n",
       "      <th id=\"T_7f520_level0_row5\" class=\"row_heading level0 row5\" >5</th>\n",
       "      <td id=\"T_7f520_row5_col0\" class=\"data row5 col0\" >0.9915</td>\n",
       "      <td id=\"T_7f520_row5_col1\" class=\"data row5 col1\" >0.7595</td>\n",
       "      <td id=\"T_7f520_row5_col2\" class=\"data row5 col2\" >0.0000</td>\n",
       "      <td id=\"T_7f520_row5_col3\" class=\"data row5 col3\" >0.0000</td>\n",
       "      <td id=\"T_7f520_row5_col4\" class=\"data row5 col4\" >0.0000</td>\n",
       "      <td id=\"T_7f520_row5_col5\" class=\"data row5 col5\" >0.0000</td>\n",
       "      <td id=\"T_7f520_row5_col6\" class=\"data row5 col6\" >0.0000</td>\n",
       "    </tr>\n",
       "    <tr>\n",
       "      <th id=\"T_7f520_level0_row6\" class=\"row_heading level0 row6\" >6</th>\n",
       "      <td id=\"T_7f520_row6_col0\" class=\"data row6 col0\" >0.9904</td>\n",
       "      <td id=\"T_7f520_row6_col1\" class=\"data row6 col1\" >0.7103</td>\n",
       "      <td id=\"T_7f520_row6_col2\" class=\"data row6 col2\" >0.0000</td>\n",
       "      <td id=\"T_7f520_row6_col3\" class=\"data row6 col3\" >0.0000</td>\n",
       "      <td id=\"T_7f520_row6_col4\" class=\"data row6 col4\" >0.0000</td>\n",
       "      <td id=\"T_7f520_row6_col5\" class=\"data row6 col5\" >0.0000</td>\n",
       "      <td id=\"T_7f520_row6_col6\" class=\"data row6 col6\" >0.0000</td>\n",
       "    </tr>\n",
       "    <tr>\n",
       "      <th id=\"T_7f520_level0_row7\" class=\"row_heading level0 row7\" >7</th>\n",
       "      <td id=\"T_7f520_row7_col0\" class=\"data row7 col0\" >0.9937</td>\n",
       "      <td id=\"T_7f520_row7_col1\" class=\"data row7 col1\" >0.6537</td>\n",
       "      <td id=\"T_7f520_row7_col2\" class=\"data row7 col2\" >0.0000</td>\n",
       "      <td id=\"T_7f520_row7_col3\" class=\"data row7 col3\" >0.0000</td>\n",
       "      <td id=\"T_7f520_row7_col4\" class=\"data row7 col4\" >0.0000</td>\n",
       "      <td id=\"T_7f520_row7_col5\" class=\"data row7 col5\" >0.0000</td>\n",
       "      <td id=\"T_7f520_row7_col6\" class=\"data row7 col6\" >0.0000</td>\n",
       "    </tr>\n",
       "    <tr>\n",
       "      <th id=\"T_7f520_level0_row8\" class=\"row_heading level0 row8\" >8</th>\n",
       "      <td id=\"T_7f520_row8_col0\" class=\"data row8 col0\" >0.9925</td>\n",
       "      <td id=\"T_7f520_row8_col1\" class=\"data row8 col1\" >0.7218</td>\n",
       "      <td id=\"T_7f520_row8_col2\" class=\"data row8 col2\" >0.0000</td>\n",
       "      <td id=\"T_7f520_row8_col3\" class=\"data row8 col3\" >0.0000</td>\n",
       "      <td id=\"T_7f520_row8_col4\" class=\"data row8 col4\" >0.0000</td>\n",
       "      <td id=\"T_7f520_row8_col5\" class=\"data row8 col5\" >0.0000</td>\n",
       "      <td id=\"T_7f520_row8_col6\" class=\"data row8 col6\" >0.0000</td>\n",
       "    </tr>\n",
       "    <tr>\n",
       "      <th id=\"T_7f520_level0_row9\" class=\"row_heading level0 row9\" >9</th>\n",
       "      <td id=\"T_7f520_row9_col0\" class=\"data row9 col0\" >0.9924</td>\n",
       "      <td id=\"T_7f520_row9_col1\" class=\"data row9 col1\" >0.6714</td>\n",
       "      <td id=\"T_7f520_row9_col2\" class=\"data row9 col2\" >0.0000</td>\n",
       "      <td id=\"T_7f520_row9_col3\" class=\"data row9 col3\" >0.0000</td>\n",
       "      <td id=\"T_7f520_row9_col4\" class=\"data row9 col4\" >0.0000</td>\n",
       "      <td id=\"T_7f520_row9_col5\" class=\"data row9 col5\" >0.0000</td>\n",
       "      <td id=\"T_7f520_row9_col6\" class=\"data row9 col6\" >0.0000</td>\n",
       "    </tr>\n",
       "    <tr>\n",
       "      <th id=\"T_7f520_level0_row10\" class=\"row_heading level0 row10\" >Mean</th>\n",
       "      <td id=\"T_7f520_row10_col0\" class=\"data row10 col0\" >0.9923</td>\n",
       "      <td id=\"T_7f520_row10_col1\" class=\"data row10 col1\" >0.7013</td>\n",
       "      <td id=\"T_7f520_row10_col2\" class=\"data row10 col2\" >0.0000</td>\n",
       "      <td id=\"T_7f520_row10_col3\" class=\"data row10 col3\" >0.0000</td>\n",
       "      <td id=\"T_7f520_row10_col4\" class=\"data row10 col4\" >0.0000</td>\n",
       "      <td id=\"T_7f520_row10_col5\" class=\"data row10 col5\" >0.0000</td>\n",
       "      <td id=\"T_7f520_row10_col6\" class=\"data row10 col6\" >0.0000</td>\n",
       "    </tr>\n",
       "    <tr>\n",
       "      <th id=\"T_7f520_level0_row11\" class=\"row_heading level0 row11\" >Std</th>\n",
       "      <td id=\"T_7f520_row11_col0\" class=\"data row11 col0\" >0.0009</td>\n",
       "      <td id=\"T_7f520_row11_col1\" class=\"data row11 col1\" >0.0488</td>\n",
       "      <td id=\"T_7f520_row11_col2\" class=\"data row11 col2\" >0.0000</td>\n",
       "      <td id=\"T_7f520_row11_col3\" class=\"data row11 col3\" >0.0000</td>\n",
       "      <td id=\"T_7f520_row11_col4\" class=\"data row11 col4\" >0.0000</td>\n",
       "      <td id=\"T_7f520_row11_col5\" class=\"data row11 col5\" >0.0000</td>\n",
       "      <td id=\"T_7f520_row11_col6\" class=\"data row11 col6\" >0.0000</td>\n",
       "    </tr>\n",
       "  </tbody>\n",
       "</table>\n"
      ],
      "text/plain": [
       "<pandas.io.formats.style.Styler at 0x18731b8cd30>"
      ]
     },
     "metadata": {},
     "output_type": "display_data"
    }
   ],
   "source": [
    "mlp = create_model('mlp', probability_threshold = 0.25, hidden_layer_sizes = [2,32])"
   ]
  },
  {
   "cell_type": "markdown",
   "metadata": {},
   "source": [
    "### Checking the Paramters of our initial model just to get a feel for what the baseline looks like"
   ]
  },
  {
   "cell_type": "code",
   "execution_count": 49,
   "metadata": {},
   "outputs": [
    {
     "name": "stdout",
     "output_type": "stream",
     "text": [
      "CustomProbabilityThresholdClassifier(activation='relu', alpha=0.0001,\n",
      "                                     batch_size='auto', beta_1=0.9,\n",
      "                                     beta_2=0.999,\n",
      "                                     classifier=MLPClassifier(activation='relu',\n",
      "                                                              alpha=0.0001,\n",
      "                                                              batch_size='auto',\n",
      "                                                              beta_1=0.9,\n",
      "                                                              beta_2=0.999,\n",
      "                                                              early_stopping=False,\n",
      "                                                              epsilon=1e-08,\n",
      "                                                              hidden_layer_sizes=[2,\n",
      "                                                                                  32],\n",
      "                                                              learning_rate='constant',\n",
      "                                                              learning_rate_init=0.001,\n",
      "                                                              max_fun=15000,\n",
      "                                                              max_iter=500,\n",
      "                                                              mome...\n",
      "                                                              warm_start=False),\n",
      "                                     early_stopping=False, epsilon=1e-08,\n",
      "                                     hidden_layer_sizes=[2, 32],\n",
      "                                     learning_rate='constant',\n",
      "                                     learning_rate_init=0.001, max_fun=15000,\n",
      "                                     max_iter=500, momentum=0.9,\n",
      "                                     n_iter_no_change=10,\n",
      "                                     nesterovs_momentum=True, power_t=0.5,\n",
      "                                     probability_threshold=0.25,\n",
      "                                     random_state=7553, shuffle=True,\n",
      "                                     solver='adam', tol=0.0001,\n",
      "                                     validation_fraction=0.1, verbose=False,\n",
      "                                     warm_start=False)\n"
     ]
    }
   ],
   "source": [
    "print(mlp)"
   ]
  },
  {
   "cell_type": "markdown",
   "metadata": {},
   "source": [
    "### Now we will begin hyperparamter tuning. Special attention paid to the fact that we are optimizing for precision. This was  a deliberate choice because we feel that limiting our number of false positives is important in this based on the business value of our model."
   ]
  },
  {
   "cell_type": "code",
   "execution_count": 50,
   "metadata": {},
   "outputs": [
    {
     "data": {
      "text/html": [
       "<style type=\"text/css\">\n",
       "#T_8ca0c_row10_col0, #T_8ca0c_row10_col1, #T_8ca0c_row10_col2, #T_8ca0c_row10_col3, #T_8ca0c_row10_col4, #T_8ca0c_row10_col5, #T_8ca0c_row10_col6 {\n",
       "  background: yellow;\n",
       "}\n",
       "</style>\n",
       "<table id=\"T_8ca0c\">\n",
       "  <thead>\n",
       "    <tr>\n",
       "      <th class=\"blank level0\" >&nbsp;</th>\n",
       "      <th id=\"T_8ca0c_level0_col0\" class=\"col_heading level0 col0\" >Accuracy</th>\n",
       "      <th id=\"T_8ca0c_level0_col1\" class=\"col_heading level0 col1\" >AUC</th>\n",
       "      <th id=\"T_8ca0c_level0_col2\" class=\"col_heading level0 col2\" >Recall</th>\n",
       "      <th id=\"T_8ca0c_level0_col3\" class=\"col_heading level0 col3\" >Prec.</th>\n",
       "      <th id=\"T_8ca0c_level0_col4\" class=\"col_heading level0 col4\" >F1</th>\n",
       "      <th id=\"T_8ca0c_level0_col5\" class=\"col_heading level0 col5\" >Kappa</th>\n",
       "      <th id=\"T_8ca0c_level0_col6\" class=\"col_heading level0 col6\" >MCC</th>\n",
       "    </tr>\n",
       "    <tr>\n",
       "      <th class=\"index_name level0\" >Fold</th>\n",
       "      <th class=\"blank col0\" >&nbsp;</th>\n",
       "      <th class=\"blank col1\" >&nbsp;</th>\n",
       "      <th class=\"blank col2\" >&nbsp;</th>\n",
       "      <th class=\"blank col3\" >&nbsp;</th>\n",
       "      <th class=\"blank col4\" >&nbsp;</th>\n",
       "      <th class=\"blank col5\" >&nbsp;</th>\n",
       "      <th class=\"blank col6\" >&nbsp;</th>\n",
       "    </tr>\n",
       "  </thead>\n",
       "  <tbody>\n",
       "    <tr>\n",
       "      <th id=\"T_8ca0c_level0_row0\" class=\"row_heading level0 row0\" >0</th>\n",
       "      <td id=\"T_8ca0c_row0_col0\" class=\"data row0 col0\" >0.9928</td>\n",
       "      <td id=\"T_8ca0c_row0_col1\" class=\"data row0 col1\" >0.5913</td>\n",
       "      <td id=\"T_8ca0c_row0_col2\" class=\"data row0 col2\" >0.0185</td>\n",
       "      <td id=\"T_8ca0c_row0_col3\" class=\"data row0 col3\" >0.5000</td>\n",
       "      <td id=\"T_8ca0c_row0_col4\" class=\"data row0 col4\" >0.0357</td>\n",
       "      <td id=\"T_8ca0c_row0_col5\" class=\"data row0 col5\" >0.0352</td>\n",
       "      <td id=\"T_8ca0c_row0_col6\" class=\"data row0 col6\" >0.0952</td>\n",
       "    </tr>\n",
       "    <tr>\n",
       "      <th id=\"T_8ca0c_level0_row1\" class=\"row_heading level0 row1\" >1</th>\n",
       "      <td id=\"T_8ca0c_row1_col0\" class=\"data row1 col0\" >0.9923</td>\n",
       "      <td id=\"T_8ca0c_row1_col1\" class=\"data row1 col1\" >0.7181</td>\n",
       "      <td id=\"T_8ca0c_row1_col2\" class=\"data row1 col2\" >0.0862</td>\n",
       "      <td id=\"T_8ca0c_row1_col3\" class=\"data row1 col3\" >0.5000</td>\n",
       "      <td id=\"T_8ca0c_row1_col4\" class=\"data row1 col4\" >0.1471</td>\n",
       "      <td id=\"T_8ca0c_row1_col5\" class=\"data row1 col5\" >0.1451</td>\n",
       "      <td id=\"T_8ca0c_row1_col6\" class=\"data row1 col6\" >0.2053</td>\n",
       "    </tr>\n",
       "    <tr>\n",
       "      <th id=\"T_8ca0c_level0_row2\" class=\"row_heading level0 row2\" >2</th>\n",
       "      <td id=\"T_8ca0c_row2_col0\" class=\"data row2 col0\" >0.9911</td>\n",
       "      <td id=\"T_8ca0c_row2_col1\" class=\"data row2 col1\" >0.6538</td>\n",
       "      <td id=\"T_8ca0c_row2_col2\" class=\"data row2 col2\" >0.0794</td>\n",
       "      <td id=\"T_8ca0c_row2_col3\" class=\"data row2 col3\" >0.3571</td>\n",
       "      <td id=\"T_8ca0c_row2_col4\" class=\"data row2 col4\" >0.1299</td>\n",
       "      <td id=\"T_8ca0c_row2_col5\" class=\"data row2 col5\" >0.1272</td>\n",
       "      <td id=\"T_8ca0c_row2_col6\" class=\"data row2 col6\" >0.1653</td>\n",
       "    </tr>\n",
       "    <tr>\n",
       "      <th id=\"T_8ca0c_level0_row3\" class=\"row_heading level0 row3\" >3</th>\n",
       "      <td id=\"T_8ca0c_row3_col0\" class=\"data row3 col0\" >0.9916</td>\n",
       "      <td id=\"T_8ca0c_row3_col1\" class=\"data row3 col1\" >0.7283</td>\n",
       "      <td id=\"T_8ca0c_row3_col2\" class=\"data row3 col2\" >0.1017</td>\n",
       "      <td id=\"T_8ca0c_row3_col3\" class=\"data row3 col3\" >0.3750</td>\n",
       "      <td id=\"T_8ca0c_row3_col4\" class=\"data row3 col4\" >0.1600</td>\n",
       "      <td id=\"T_8ca0c_row3_col5\" class=\"data row3 col5\" >0.1572</td>\n",
       "      <td id=\"T_8ca0c_row3_col6\" class=\"data row3 col6\" >0.1922</td>\n",
       "    </tr>\n",
       "    <tr>\n",
       "      <th id=\"T_8ca0c_level0_row4\" class=\"row_heading level0 row4\" >4</th>\n",
       "      <td id=\"T_8ca0c_row4_col0\" class=\"data row4 col0\" >0.9924</td>\n",
       "      <td id=\"T_8ca0c_row4_col1\" class=\"data row4 col1\" >0.6165</td>\n",
       "      <td id=\"T_8ca0c_row4_col2\" class=\"data row4 col2\" >0.1458</td>\n",
       "      <td id=\"T_8ca0c_row4_col3\" class=\"data row4 col3\" >0.3043</td>\n",
       "      <td id=\"T_8ca0c_row4_col4\" class=\"data row4 col4\" >0.1972</td>\n",
       "      <td id=\"T_8ca0c_row4_col5\" class=\"data row4 col5\" >0.1938</td>\n",
       "      <td id=\"T_8ca0c_row4_col6\" class=\"data row4 col6\" >0.2072</td>\n",
       "    </tr>\n",
       "    <tr>\n",
       "      <th id=\"T_8ca0c_level0_row5\" class=\"row_heading level0 row5\" >5</th>\n",
       "      <td id=\"T_8ca0c_row5_col0\" class=\"data row5 col0\" >0.9912</td>\n",
       "      <td id=\"T_8ca0c_row5_col1\" class=\"data row5 col1\" >0.7358</td>\n",
       "      <td id=\"T_8ca0c_row5_col2\" class=\"data row5 col2\" >0.1094</td>\n",
       "      <td id=\"T_8ca0c_row5_col3\" class=\"data row5 col3\" >0.4375</td>\n",
       "      <td id=\"T_8ca0c_row5_col4\" class=\"data row5 col4\" >0.1750</td>\n",
       "      <td id=\"T_8ca0c_row5_col5\" class=\"data row5 col5\" >0.1722</td>\n",
       "      <td id=\"T_8ca0c_row5_col6\" class=\"data row5 col6\" >0.2156</td>\n",
       "    </tr>\n",
       "    <tr>\n",
       "      <th id=\"T_8ca0c_level0_row6\" class=\"row_heading level0 row6\" >6</th>\n",
       "      <td id=\"T_8ca0c_row6_col0\" class=\"data row6 col0\" >0.9899</td>\n",
       "      <td id=\"T_8ca0c_row6_col1\" class=\"data row6 col1\" >0.7020</td>\n",
       "      <td id=\"T_8ca0c_row6_col2\" class=\"data row6 col2\" >0.0833</td>\n",
       "      <td id=\"T_8ca0c_row6_col3\" class=\"data row6 col3\" >0.3750</td>\n",
       "      <td id=\"T_8ca0c_row6_col4\" class=\"data row6 col4\" >0.1364</td>\n",
       "      <td id=\"T_8ca0c_row6_col5\" class=\"data row6 col5\" >0.1333</td>\n",
       "      <td id=\"T_8ca0c_row6_col6\" class=\"data row6 col6\" >0.1733</td>\n",
       "    </tr>\n",
       "    <tr>\n",
       "      <th id=\"T_8ca0c_level0_row7\" class=\"row_heading level0 row7\" >7</th>\n",
       "      <td id=\"T_8ca0c_row7_col0\" class=\"data row7 col0\" >0.9927</td>\n",
       "      <td id=\"T_8ca0c_row7_col1\" class=\"data row7 col1\" >0.5989</td>\n",
       "      <td id=\"T_8ca0c_row7_col2\" class=\"data row7 col2\" >0.0213</td>\n",
       "      <td id=\"T_8ca0c_row7_col3\" class=\"data row7 col3\" >0.1000</td>\n",
       "      <td id=\"T_8ca0c_row7_col4\" class=\"data row7 col4\" >0.0351</td>\n",
       "      <td id=\"T_8ca0c_row7_col5\" class=\"data row7 col5\" >0.0330</td>\n",
       "      <td id=\"T_8ca0c_row7_col6\" class=\"data row7 col6\" >0.0434</td>\n",
       "    </tr>\n",
       "    <tr>\n",
       "      <th id=\"T_8ca0c_level0_row8\" class=\"row_heading level0 row8\" >8</th>\n",
       "      <td id=\"T_8ca0c_row8_col0\" class=\"data row8 col0\" >0.9919</td>\n",
       "      <td id=\"T_8ca0c_row8_col1\" class=\"data row8 col1\" >0.5897</td>\n",
       "      <td id=\"T_8ca0c_row8_col2\" class=\"data row8 col2\" >0.0714</td>\n",
       "      <td id=\"T_8ca0c_row8_col3\" class=\"data row8 col3\" >0.3077</td>\n",
       "      <td id=\"T_8ca0c_row8_col4\" class=\"data row8 col4\" >0.1159</td>\n",
       "      <td id=\"T_8ca0c_row8_col5\" class=\"data row8 col5\" >0.1135</td>\n",
       "      <td id=\"T_8ca0c_row8_col6\" class=\"data row8 col6\" >0.1453</td>\n",
       "    </tr>\n",
       "    <tr>\n",
       "      <th id=\"T_8ca0c_level0_row9\" class=\"row_heading level0 row9\" >9</th>\n",
       "      <td id=\"T_8ca0c_row9_col0\" class=\"data row9 col0\" >0.9912</td>\n",
       "      <td id=\"T_8ca0c_row9_col1\" class=\"data row9 col1\" >0.6538</td>\n",
       "      <td id=\"T_8ca0c_row9_col2\" class=\"data row9 col2\" >0.0526</td>\n",
       "      <td id=\"T_8ca0c_row9_col3\" class=\"data row9 col3\" >0.2000</td>\n",
       "      <td id=\"T_8ca0c_row9_col4\" class=\"data row9 col4\" >0.0833</td>\n",
       "      <td id=\"T_8ca0c_row9_col5\" class=\"data row9 col5\" >0.0804</td>\n",
       "      <td id=\"T_8ca0c_row9_col6\" class=\"data row9 col6\" >0.0992</td>\n",
       "    </tr>\n",
       "    <tr>\n",
       "      <th id=\"T_8ca0c_level0_row10\" class=\"row_heading level0 row10\" >Mean</th>\n",
       "      <td id=\"T_8ca0c_row10_col0\" class=\"data row10 col0\" >0.9917</td>\n",
       "      <td id=\"T_8ca0c_row10_col1\" class=\"data row10 col1\" >0.6588</td>\n",
       "      <td id=\"T_8ca0c_row10_col2\" class=\"data row10 col2\" >0.0770</td>\n",
       "      <td id=\"T_8ca0c_row10_col3\" class=\"data row10 col3\" >0.3457</td>\n",
       "      <td id=\"T_8ca0c_row10_col4\" class=\"data row10 col4\" >0.1216</td>\n",
       "      <td id=\"T_8ca0c_row10_col5\" class=\"data row10 col5\" >0.1191</td>\n",
       "      <td id=\"T_8ca0c_row10_col6\" class=\"data row10 col6\" >0.1542</td>\n",
       "    </tr>\n",
       "    <tr>\n",
       "      <th id=\"T_8ca0c_level0_row11\" class=\"row_heading level0 row11\" >Std</th>\n",
       "      <td id=\"T_8ca0c_row11_col0\" class=\"data row11 col0\" >0.0009</td>\n",
       "      <td id=\"T_8ca0c_row11_col1\" class=\"data row11 col1\" >0.0556</td>\n",
       "      <td id=\"T_8ca0c_row11_col2\" class=\"data row11 col2\" >0.0370</td>\n",
       "      <td id=\"T_8ca0c_row11_col3\" class=\"data row11 col3\" >0.1194</td>\n",
       "      <td id=\"T_8ca0c_row11_col4\" class=\"data row11 col4\" >0.0523</td>\n",
       "      <td id=\"T_8ca0c_row11_col5\" class=\"data row11 col5\" >0.0518</td>\n",
       "      <td id=\"T_8ca0c_row11_col6\" class=\"data row11 col6\" >0.0548</td>\n",
       "    </tr>\n",
       "  </tbody>\n",
       "</table>\n"
      ],
      "text/plain": [
       "<pandas.io.formats.style.Styler at 0x1872e8e93a0>"
      ]
     },
     "metadata": {},
     "output_type": "display_data"
    }
   ],
   "source": [
    "tuned = tune_model(mlp, n_iter = 10, optimize = 'Prec.')"
   ]
  },
  {
   "cell_type": "markdown",
   "metadata": {},
   "source": [
    "### Checking the Paramters of our tuned model so we know what all of the model paramters are explicitly"
   ]
  },
  {
   "cell_type": "code",
   "execution_count": 51,
   "metadata": {},
   "outputs": [
    {
     "name": "stdout",
     "output_type": "stream",
     "text": [
      "MLPClassifier(activation='relu', alpha=1e-07, batch_size='auto', beta_1=0.9,\n",
      "              beta_2=0.999, early_stopping=False, epsilon=1e-08,\n",
      "              hidden_layer_sizes=[50, 50], learning_rate='adaptive',\n",
      "              learning_rate_init=0.001, max_fun=15000, max_iter=500,\n",
      "              momentum=0.9, n_iter_no_change=10, nesterovs_momentum=True,\n",
      "              power_t=0.5, random_state=7553, shuffle=True, solver='adam',\n",
      "              tol=0.0001, validation_fraction=0.1, verbose=False,\n",
      "              warm_start=False)\n"
     ]
    }
   ],
   "source": [
    "print(tuned)"
   ]
  },
  {
   "cell_type": "markdown",
   "metadata": {},
   "source": [
    "### Attempting to optimize our probability threshold within the tuned model"
   ]
  },
  {
   "cell_type": "code",
   "execution_count": 52,
   "metadata": {},
   "outputs": [
    {
     "data": {
      "application/vnd.plotly.v1+json": {
       "config": {
        "plotlyServerURL": "https://plot.ly"
       },
       "data": [
        {
         "hovertemplate": "variable=Accuracy<br>probability_threshold=%{x}<br>value=%{y}<extra></extra>",
         "legendgroup": "Accuracy",
         "line": {
          "color": "#636efa",
          "dash": "solid"
         },
         "marker": {
          "symbol": "circle"
         },
         "mode": "lines",
         "name": "Accuracy",
         "orientation": "v",
         "showlegend": true,
         "type": "scatter",
         "x": [
          0,
          0.1,
          0.2,
          0.30000000000000004,
          0.4,
          0.5,
          0.6000000000000001,
          0.7000000000000001,
          0.8,
          0.9,
          1
         ],
         "xaxis": "x",
         "y": [
          0.9917,
          0.9874,
          0.9905,
          0.9912,
          0.9915,
          0.9917,
          0.9919,
          0.9921,
          0.9921,
          0.9922,
          0.9923
         ],
         "yaxis": "y"
        },
        {
         "hovertemplate": "variable=AUC<br>probability_threshold=%{x}<br>value=%{y}<extra></extra>",
         "legendgroup": "AUC",
         "line": {
          "color": "#EF553B",
          "dash": "solid"
         },
         "marker": {
          "symbol": "circle"
         },
         "mode": "lines",
         "name": "AUC",
         "orientation": "v",
         "showlegend": true,
         "type": "scatter",
         "x": [
          0,
          0.1,
          0.2,
          0.30000000000000004,
          0.4,
          0.5,
          0.6000000000000001,
          0.7000000000000001,
          0.8,
          0.9,
          1
         ],
         "xaxis": "x",
         "y": [
          0.6588,
          0.6588,
          0.6588,
          0.6588,
          0.6588,
          0.6588,
          0.6588,
          0.6588,
          0.6588,
          0.6588,
          0.6588
         ],
         "yaxis": "y"
        },
        {
         "hovertemplate": "variable=Recall<br>probability_threshold=%{x}<br>value=%{y}<extra></extra>",
         "legendgroup": "Recall",
         "line": {
          "color": "#00cc96",
          "dash": "solid"
         },
         "marker": {
          "symbol": "circle"
         },
         "mode": "lines",
         "name": "Recall",
         "orientation": "v",
         "showlegend": true,
         "type": "scatter",
         "x": [
          0,
          0.1,
          0.2,
          0.30000000000000004,
          0.4,
          0.5,
          0.6000000000000001,
          0.7000000000000001,
          0.8,
          0.9,
          1
         ],
         "xaxis": "x",
         "y": [
          0.077,
          0.1524,
          0.1116,
          0.0953,
          0.0867,
          0.077,
          0.0681,
          0.059,
          0.0507,
          0.0432,
          0.0021
         ],
         "yaxis": "y"
        },
        {
         "hovertemplate": "variable=Prec.<br>probability_threshold=%{x}<br>value=%{y}<extra></extra>",
         "legendgroup": "Prec.",
         "line": {
          "color": "#ab63fa",
          "dash": "solid"
         },
         "marker": {
          "symbol": "circle"
         },
         "mode": "lines",
         "name": "Prec.",
         "orientation": "v",
         "showlegend": true,
         "type": "scatter",
         "x": [
          0,
          0.1,
          0.2,
          0.30000000000000004,
          0.4,
          0.5,
          0.6000000000000001,
          0.7000000000000001,
          0.8,
          0.9,
          1
         ],
         "xaxis": "x",
         "y": [
          0.3457,
          0.1707,
          0.2589,
          0.3143,
          0.3474,
          0.3457,
          0.4231,
          0.4418,
          0.3431,
          0.3782,
          0.05
         ],
         "yaxis": "y"
        },
        {
         "hovertemplate": "variable=F1<br>probability_threshold=%{x}<br>value=%{y}<extra></extra>",
         "legendgroup": "F1",
         "line": {
          "color": "#FFA15A",
          "dash": "solid"
         },
         "marker": {
          "symbol": "circle"
         },
         "mode": "lines",
         "name": "F1",
         "orientation": "v",
         "showlegend": true,
         "type": "scatter",
         "x": [
          0,
          0.1,
          0.2,
          0.30000000000000004,
          0.4,
          0.5,
          0.6000000000000001,
          0.7000000000000001,
          0.8,
          0.9,
          1
         ],
         "xaxis": "x",
         "y": [
          0.1216,
          0.1538,
          0.1494,
          0.1409,
          0.1334,
          0.1216,
          0.112,
          0.1001,
          0.0867,
          0.0767,
          0.004
         ],
         "yaxis": "y"
        },
        {
         "hovertemplate": "variable=Kappa<br>probability_threshold=%{x}<br>value=%{y}<extra></extra>",
         "legendgroup": "Kappa",
         "line": {
          "color": "#19d3f3",
          "dash": "solid"
         },
         "marker": {
          "symbol": "circle"
         },
         "mode": "lines",
         "name": "Kappa",
         "orientation": "v",
         "showlegend": true,
         "type": "scatter",
         "x": [
          0,
          0.1,
          0.2,
          0.30000000000000004,
          0.4,
          0.5,
          0.6000000000000001,
          0.7000000000000001,
          0.8,
          0.9,
          1
         ],
         "xaxis": "x",
         "y": [
          0.1191,
          0.1477,
          0.1454,
          0.1377,
          0.1306,
          0.1191,
          0.1099,
          0.0984,
          0.0852,
          0.0755,
          0.004
         ],
         "yaxis": "y"
        },
        {
         "hovertemplate": "variable=MCC<br>probability_threshold=%{x}<br>value=%{y}<extra></extra>",
         "legendgroup": "MCC",
         "line": {
          "color": "#FF6692",
          "dash": "solid"
         },
         "marker": {
          "symbol": "circle"
         },
         "mode": "lines",
         "name": "MCC",
         "orientation": "v",
         "showlegend": true,
         "type": "scatter",
         "x": [
          0,
          0.1,
          0.2,
          0.30000000000000004,
          0.4,
          0.5,
          0.6000000000000001,
          0.7000000000000001,
          0.8,
          0.9,
          1
         ],
         "xaxis": "x",
         "y": [
          0.1542,
          0.1512,
          0.1605,
          0.1644,
          0.1644,
          0.1542,
          0.1557,
          0.1493,
          0.1275,
          0.1245,
          0.0101
         ],
         "yaxis": "y"
        }
       ],
       "layout": {
        "legend": {
         "title": {
          "text": "variable"
         },
         "tracegroupgap": 0
        },
        "template": {
         "data": {
          "bar": [
           {
            "error_x": {
             "color": "#2a3f5f"
            },
            "error_y": {
             "color": "#2a3f5f"
            },
            "marker": {
             "line": {
              "color": "#E5ECF6",
              "width": 0.5
             },
             "pattern": {
              "fillmode": "overlay",
              "size": 10,
              "solidity": 0.2
             }
            },
            "type": "bar"
           }
          ],
          "barpolar": [
           {
            "marker": {
             "line": {
              "color": "#E5ECF6",
              "width": 0.5
             },
             "pattern": {
              "fillmode": "overlay",
              "size": 10,
              "solidity": 0.2
             }
            },
            "type": "barpolar"
           }
          ],
          "carpet": [
           {
            "aaxis": {
             "endlinecolor": "#2a3f5f",
             "gridcolor": "white",
             "linecolor": "white",
             "minorgridcolor": "white",
             "startlinecolor": "#2a3f5f"
            },
            "baxis": {
             "endlinecolor": "#2a3f5f",
             "gridcolor": "white",
             "linecolor": "white",
             "minorgridcolor": "white",
             "startlinecolor": "#2a3f5f"
            },
            "type": "carpet"
           }
          ],
          "choropleth": [
           {
            "colorbar": {
             "outlinewidth": 0,
             "ticks": ""
            },
            "type": "choropleth"
           }
          ],
          "contour": [
           {
            "colorbar": {
             "outlinewidth": 0,
             "ticks": ""
            },
            "colorscale": [
             [
              0,
              "#0d0887"
             ],
             [
              0.1111111111111111,
              "#46039f"
             ],
             [
              0.2222222222222222,
              "#7201a8"
             ],
             [
              0.3333333333333333,
              "#9c179e"
             ],
             [
              0.4444444444444444,
              "#bd3786"
             ],
             [
              0.5555555555555556,
              "#d8576b"
             ],
             [
              0.6666666666666666,
              "#ed7953"
             ],
             [
              0.7777777777777778,
              "#fb9f3a"
             ],
             [
              0.8888888888888888,
              "#fdca26"
             ],
             [
              1,
              "#f0f921"
             ]
            ],
            "type": "contour"
           }
          ],
          "contourcarpet": [
           {
            "colorbar": {
             "outlinewidth": 0,
             "ticks": ""
            },
            "type": "contourcarpet"
           }
          ],
          "heatmap": [
           {
            "colorbar": {
             "outlinewidth": 0,
             "ticks": ""
            },
            "colorscale": [
             [
              0,
              "#0d0887"
             ],
             [
              0.1111111111111111,
              "#46039f"
             ],
             [
              0.2222222222222222,
              "#7201a8"
             ],
             [
              0.3333333333333333,
              "#9c179e"
             ],
             [
              0.4444444444444444,
              "#bd3786"
             ],
             [
              0.5555555555555556,
              "#d8576b"
             ],
             [
              0.6666666666666666,
              "#ed7953"
             ],
             [
              0.7777777777777778,
              "#fb9f3a"
             ],
             [
              0.8888888888888888,
              "#fdca26"
             ],
             [
              1,
              "#f0f921"
             ]
            ],
            "type": "heatmap"
           }
          ],
          "heatmapgl": [
           {
            "colorbar": {
             "outlinewidth": 0,
             "ticks": ""
            },
            "colorscale": [
             [
              0,
              "#0d0887"
             ],
             [
              0.1111111111111111,
              "#46039f"
             ],
             [
              0.2222222222222222,
              "#7201a8"
             ],
             [
              0.3333333333333333,
              "#9c179e"
             ],
             [
              0.4444444444444444,
              "#bd3786"
             ],
             [
              0.5555555555555556,
              "#d8576b"
             ],
             [
              0.6666666666666666,
              "#ed7953"
             ],
             [
              0.7777777777777778,
              "#fb9f3a"
             ],
             [
              0.8888888888888888,
              "#fdca26"
             ],
             [
              1,
              "#f0f921"
             ]
            ],
            "type": "heatmapgl"
           }
          ],
          "histogram": [
           {
            "marker": {
             "pattern": {
              "fillmode": "overlay",
              "size": 10,
              "solidity": 0.2
             }
            },
            "type": "histogram"
           }
          ],
          "histogram2d": [
           {
            "colorbar": {
             "outlinewidth": 0,
             "ticks": ""
            },
            "colorscale": [
             [
              0,
              "#0d0887"
             ],
             [
              0.1111111111111111,
              "#46039f"
             ],
             [
              0.2222222222222222,
              "#7201a8"
             ],
             [
              0.3333333333333333,
              "#9c179e"
             ],
             [
              0.4444444444444444,
              "#bd3786"
             ],
             [
              0.5555555555555556,
              "#d8576b"
             ],
             [
              0.6666666666666666,
              "#ed7953"
             ],
             [
              0.7777777777777778,
              "#fb9f3a"
             ],
             [
              0.8888888888888888,
              "#fdca26"
             ],
             [
              1,
              "#f0f921"
             ]
            ],
            "type": "histogram2d"
           }
          ],
          "histogram2dcontour": [
           {
            "colorbar": {
             "outlinewidth": 0,
             "ticks": ""
            },
            "colorscale": [
             [
              0,
              "#0d0887"
             ],
             [
              0.1111111111111111,
              "#46039f"
             ],
             [
              0.2222222222222222,
              "#7201a8"
             ],
             [
              0.3333333333333333,
              "#9c179e"
             ],
             [
              0.4444444444444444,
              "#bd3786"
             ],
             [
              0.5555555555555556,
              "#d8576b"
             ],
             [
              0.6666666666666666,
              "#ed7953"
             ],
             [
              0.7777777777777778,
              "#fb9f3a"
             ],
             [
              0.8888888888888888,
              "#fdca26"
             ],
             [
              1,
              "#f0f921"
             ]
            ],
            "type": "histogram2dcontour"
           }
          ],
          "mesh3d": [
           {
            "colorbar": {
             "outlinewidth": 0,
             "ticks": ""
            },
            "type": "mesh3d"
           }
          ],
          "parcoords": [
           {
            "line": {
             "colorbar": {
              "outlinewidth": 0,
              "ticks": ""
             }
            },
            "type": "parcoords"
           }
          ],
          "pie": [
           {
            "automargin": true,
            "type": "pie"
           }
          ],
          "scatter": [
           {
            "fillpattern": {
             "fillmode": "overlay",
             "size": 10,
             "solidity": 0.2
            },
            "type": "scatter"
           }
          ],
          "scatter3d": [
           {
            "line": {
             "colorbar": {
              "outlinewidth": 0,
              "ticks": ""
             }
            },
            "marker": {
             "colorbar": {
              "outlinewidth": 0,
              "ticks": ""
             }
            },
            "type": "scatter3d"
           }
          ],
          "scattercarpet": [
           {
            "marker": {
             "colorbar": {
              "outlinewidth": 0,
              "ticks": ""
             }
            },
            "type": "scattercarpet"
           }
          ],
          "scattergeo": [
           {
            "marker": {
             "colorbar": {
              "outlinewidth": 0,
              "ticks": ""
             }
            },
            "type": "scattergeo"
           }
          ],
          "scattergl": [
           {
            "marker": {
             "colorbar": {
              "outlinewidth": 0,
              "ticks": ""
             }
            },
            "type": "scattergl"
           }
          ],
          "scattermapbox": [
           {
            "marker": {
             "colorbar": {
              "outlinewidth": 0,
              "ticks": ""
             }
            },
            "type": "scattermapbox"
           }
          ],
          "scatterpolar": [
           {
            "marker": {
             "colorbar": {
              "outlinewidth": 0,
              "ticks": ""
             }
            },
            "type": "scatterpolar"
           }
          ],
          "scatterpolargl": [
           {
            "marker": {
             "colorbar": {
              "outlinewidth": 0,
              "ticks": ""
             }
            },
            "type": "scatterpolargl"
           }
          ],
          "scatterternary": [
           {
            "marker": {
             "colorbar": {
              "outlinewidth": 0,
              "ticks": ""
             }
            },
            "type": "scatterternary"
           }
          ],
          "surface": [
           {
            "colorbar": {
             "outlinewidth": 0,
             "ticks": ""
            },
            "colorscale": [
             [
              0,
              "#0d0887"
             ],
             [
              0.1111111111111111,
              "#46039f"
             ],
             [
              0.2222222222222222,
              "#7201a8"
             ],
             [
              0.3333333333333333,
              "#9c179e"
             ],
             [
              0.4444444444444444,
              "#bd3786"
             ],
             [
              0.5555555555555556,
              "#d8576b"
             ],
             [
              0.6666666666666666,
              "#ed7953"
             ],
             [
              0.7777777777777778,
              "#fb9f3a"
             ],
             [
              0.8888888888888888,
              "#fdca26"
             ],
             [
              1,
              "#f0f921"
             ]
            ],
            "type": "surface"
           }
          ],
          "table": [
           {
            "cells": {
             "fill": {
              "color": "#EBF0F8"
             },
             "line": {
              "color": "white"
             }
            },
            "header": {
             "fill": {
              "color": "#C8D4E3"
             },
             "line": {
              "color": "white"
             }
            },
            "type": "table"
           }
          ]
         },
         "layout": {
          "annotationdefaults": {
           "arrowcolor": "#2a3f5f",
           "arrowhead": 0,
           "arrowwidth": 1
          },
          "autotypenumbers": "strict",
          "coloraxis": {
           "colorbar": {
            "outlinewidth": 0,
            "ticks": ""
           }
          },
          "colorscale": {
           "diverging": [
            [
             0,
             "#8e0152"
            ],
            [
             0.1,
             "#c51b7d"
            ],
            [
             0.2,
             "#de77ae"
            ],
            [
             0.3,
             "#f1b6da"
            ],
            [
             0.4,
             "#fde0ef"
            ],
            [
             0.5,
             "#f7f7f7"
            ],
            [
             0.6,
             "#e6f5d0"
            ],
            [
             0.7,
             "#b8e186"
            ],
            [
             0.8,
             "#7fbc41"
            ],
            [
             0.9,
             "#4d9221"
            ],
            [
             1,
             "#276419"
            ]
           ],
           "sequential": [
            [
             0,
             "#0d0887"
            ],
            [
             0.1111111111111111,
             "#46039f"
            ],
            [
             0.2222222222222222,
             "#7201a8"
            ],
            [
             0.3333333333333333,
             "#9c179e"
            ],
            [
             0.4444444444444444,
             "#bd3786"
            ],
            [
             0.5555555555555556,
             "#d8576b"
            ],
            [
             0.6666666666666666,
             "#ed7953"
            ],
            [
             0.7777777777777778,
             "#fb9f3a"
            ],
            [
             0.8888888888888888,
             "#fdca26"
            ],
            [
             1,
             "#f0f921"
            ]
           ],
           "sequentialminus": [
            [
             0,
             "#0d0887"
            ],
            [
             0.1111111111111111,
             "#46039f"
            ],
            [
             0.2222222222222222,
             "#7201a8"
            ],
            [
             0.3333333333333333,
             "#9c179e"
            ],
            [
             0.4444444444444444,
             "#bd3786"
            ],
            [
             0.5555555555555556,
             "#d8576b"
            ],
            [
             0.6666666666666666,
             "#ed7953"
            ],
            [
             0.7777777777777778,
             "#fb9f3a"
            ],
            [
             0.8888888888888888,
             "#fdca26"
            ],
            [
             1,
             "#f0f921"
            ]
           ]
          },
          "colorway": [
           "#636efa",
           "#EF553B",
           "#00cc96",
           "#ab63fa",
           "#FFA15A",
           "#19d3f3",
           "#FF6692",
           "#B6E880",
           "#FF97FF",
           "#FECB52"
          ],
          "font": {
           "color": "#2a3f5f"
          },
          "geo": {
           "bgcolor": "white",
           "lakecolor": "white",
           "landcolor": "#E5ECF6",
           "showlakes": true,
           "showland": true,
           "subunitcolor": "white"
          },
          "hoverlabel": {
           "align": "left"
          },
          "hovermode": "closest",
          "mapbox": {
           "style": "light"
          },
          "paper_bgcolor": "white",
          "plot_bgcolor": "#E5ECF6",
          "polar": {
           "angularaxis": {
            "gridcolor": "white",
            "linecolor": "white",
            "ticks": ""
           },
           "bgcolor": "#E5ECF6",
           "radialaxis": {
            "gridcolor": "white",
            "linecolor": "white",
            "ticks": ""
           }
          },
          "scene": {
           "xaxis": {
            "backgroundcolor": "#E5ECF6",
            "gridcolor": "white",
            "gridwidth": 2,
            "linecolor": "white",
            "showbackground": true,
            "ticks": "",
            "zerolinecolor": "white"
           },
           "yaxis": {
            "backgroundcolor": "#E5ECF6",
            "gridcolor": "white",
            "gridwidth": 2,
            "linecolor": "white",
            "showbackground": true,
            "ticks": "",
            "zerolinecolor": "white"
           },
           "zaxis": {
            "backgroundcolor": "#E5ECF6",
            "gridcolor": "white",
            "gridwidth": 2,
            "linecolor": "white",
            "showbackground": true,
            "ticks": "",
            "zerolinecolor": "white"
           }
          },
          "shapedefaults": {
           "line": {
            "color": "#2a3f5f"
           }
          },
          "ternary": {
           "aaxis": {
            "gridcolor": "white",
            "linecolor": "white",
            "ticks": ""
           },
           "baxis": {
            "gridcolor": "white",
            "linecolor": "white",
            "ticks": ""
           },
           "bgcolor": "#E5ECF6",
           "caxis": {
            "gridcolor": "white",
            "linecolor": "white",
            "ticks": ""
           }
          },
          "title": {
           "x": 0.05
          },
          "xaxis": {
           "automargin": true,
           "gridcolor": "white",
           "linecolor": "white",
           "ticks": "",
           "title": {
            "standoff": 15
           },
           "zerolinecolor": "white",
           "zerolinewidth": 2
          },
          "yaxis": {
           "automargin": true,
           "gridcolor": "white",
           "linecolor": "white",
           "ticks": "",
           "title": {
            "standoff": 15
           },
           "zerolinecolor": "white",
           "zerolinewidth": 2
          }
         }
        },
        "title": {
         "text": "MLP Classifier Probability Threshold Optimization (default = 0.5)"
        },
        "xaxis": {
         "anchor": "y",
         "domain": [
          0,
          1
         ],
         "title": {
          "text": "probability_threshold"
         }
        },
        "yaxis": {
         "anchor": "x",
         "domain": [
          0,
          1
         ],
         "title": {
          "text": "value"
         }
        }
       }
      },
      "text/html": [
       "<div>                            <div id=\"6863d43e-fe21-4a25-80bf-ba0f98b962cb\" class=\"plotly-graph-div\" style=\"height:525px; width:100%;\"></div>            <script type=\"text/javascript\">                require([\"plotly\"], function(Plotly) {                    window.PLOTLYENV=window.PLOTLYENV || {};                                    if (document.getElementById(\"6863d43e-fe21-4a25-80bf-ba0f98b962cb\")) {                    Plotly.newPlot(                        \"6863d43e-fe21-4a25-80bf-ba0f98b962cb\",                        [{\"hovertemplate\":\"variable=Accuracy<br>probability_threshold=%{x}<br>value=%{y}<extra></extra>\",\"legendgroup\":\"Accuracy\",\"line\":{\"color\":\"#636efa\",\"dash\":\"solid\"},\"marker\":{\"symbol\":\"circle\"},\"mode\":\"lines\",\"name\":\"Accuracy\",\"orientation\":\"v\",\"showlegend\":true,\"x\":[0.0,0.1,0.2,0.30000000000000004,0.4,0.5,0.6000000000000001,0.7000000000000001,0.8,0.9,1.0],\"xaxis\":\"x\",\"y\":[0.9917,0.9874,0.9905,0.9912,0.9915,0.9917,0.9919,0.9921,0.9921,0.9922,0.9923],\"yaxis\":\"y\",\"type\":\"scatter\"},{\"hovertemplate\":\"variable=AUC<br>probability_threshold=%{x}<br>value=%{y}<extra></extra>\",\"legendgroup\":\"AUC\",\"line\":{\"color\":\"#EF553B\",\"dash\":\"solid\"},\"marker\":{\"symbol\":\"circle\"},\"mode\":\"lines\",\"name\":\"AUC\",\"orientation\":\"v\",\"showlegend\":true,\"x\":[0.0,0.1,0.2,0.30000000000000004,0.4,0.5,0.6000000000000001,0.7000000000000001,0.8,0.9,1.0],\"xaxis\":\"x\",\"y\":[0.6588,0.6588,0.6588,0.6588,0.6588,0.6588,0.6588,0.6588,0.6588,0.6588,0.6588],\"yaxis\":\"y\",\"type\":\"scatter\"},{\"hovertemplate\":\"variable=Recall<br>probability_threshold=%{x}<br>value=%{y}<extra></extra>\",\"legendgroup\":\"Recall\",\"line\":{\"color\":\"#00cc96\",\"dash\":\"solid\"},\"marker\":{\"symbol\":\"circle\"},\"mode\":\"lines\",\"name\":\"Recall\",\"orientation\":\"v\",\"showlegend\":true,\"x\":[0.0,0.1,0.2,0.30000000000000004,0.4,0.5,0.6000000000000001,0.7000000000000001,0.8,0.9,1.0],\"xaxis\":\"x\",\"y\":[0.077,0.1524,0.1116,0.0953,0.0867,0.077,0.0681,0.059,0.0507,0.0432,0.0021],\"yaxis\":\"y\",\"type\":\"scatter\"},{\"hovertemplate\":\"variable=Prec.<br>probability_threshold=%{x}<br>value=%{y}<extra></extra>\",\"legendgroup\":\"Prec.\",\"line\":{\"color\":\"#ab63fa\",\"dash\":\"solid\"},\"marker\":{\"symbol\":\"circle\"},\"mode\":\"lines\",\"name\":\"Prec.\",\"orientation\":\"v\",\"showlegend\":true,\"x\":[0.0,0.1,0.2,0.30000000000000004,0.4,0.5,0.6000000000000001,0.7000000000000001,0.8,0.9,1.0],\"xaxis\":\"x\",\"y\":[0.3457,0.1707,0.2589,0.3143,0.3474,0.3457,0.4231,0.4418,0.3431,0.3782,0.05],\"yaxis\":\"y\",\"type\":\"scatter\"},{\"hovertemplate\":\"variable=F1<br>probability_threshold=%{x}<br>value=%{y}<extra></extra>\",\"legendgroup\":\"F1\",\"line\":{\"color\":\"#FFA15A\",\"dash\":\"solid\"},\"marker\":{\"symbol\":\"circle\"},\"mode\":\"lines\",\"name\":\"F1\",\"orientation\":\"v\",\"showlegend\":true,\"x\":[0.0,0.1,0.2,0.30000000000000004,0.4,0.5,0.6000000000000001,0.7000000000000001,0.8,0.9,1.0],\"xaxis\":\"x\",\"y\":[0.1216,0.1538,0.1494,0.1409,0.1334,0.1216,0.112,0.1001,0.0867,0.0767,0.004],\"yaxis\":\"y\",\"type\":\"scatter\"},{\"hovertemplate\":\"variable=Kappa<br>probability_threshold=%{x}<br>value=%{y}<extra></extra>\",\"legendgroup\":\"Kappa\",\"line\":{\"color\":\"#19d3f3\",\"dash\":\"solid\"},\"marker\":{\"symbol\":\"circle\"},\"mode\":\"lines\",\"name\":\"Kappa\",\"orientation\":\"v\",\"showlegend\":true,\"x\":[0.0,0.1,0.2,0.30000000000000004,0.4,0.5,0.6000000000000001,0.7000000000000001,0.8,0.9,1.0],\"xaxis\":\"x\",\"y\":[0.1191,0.1477,0.1454,0.1377,0.1306,0.1191,0.1099,0.0984,0.0852,0.0755,0.004],\"yaxis\":\"y\",\"type\":\"scatter\"},{\"hovertemplate\":\"variable=MCC<br>probability_threshold=%{x}<br>value=%{y}<extra></extra>\",\"legendgroup\":\"MCC\",\"line\":{\"color\":\"#FF6692\",\"dash\":\"solid\"},\"marker\":{\"symbol\":\"circle\"},\"mode\":\"lines\",\"name\":\"MCC\",\"orientation\":\"v\",\"showlegend\":true,\"x\":[0.0,0.1,0.2,0.30000000000000004,0.4,0.5,0.6000000000000001,0.7000000000000001,0.8,0.9,1.0],\"xaxis\":\"x\",\"y\":[0.1542,0.1512,0.1605,0.1644,0.1644,0.1542,0.1557,0.1493,0.1275,0.1245,0.0101],\"yaxis\":\"y\",\"type\":\"scatter\"}],                        {\"template\":{\"data\":{\"histogram2dcontour\":[{\"type\":\"histogram2dcontour\",\"colorbar\":{\"outlinewidth\":0,\"ticks\":\"\"},\"colorscale\":[[0.0,\"#0d0887\"],[0.1111111111111111,\"#46039f\"],[0.2222222222222222,\"#7201a8\"],[0.3333333333333333,\"#9c179e\"],[0.4444444444444444,\"#bd3786\"],[0.5555555555555556,\"#d8576b\"],[0.6666666666666666,\"#ed7953\"],[0.7777777777777778,\"#fb9f3a\"],[0.8888888888888888,\"#fdca26\"],[1.0,\"#f0f921\"]]}],\"choropleth\":[{\"type\":\"choropleth\",\"colorbar\":{\"outlinewidth\":0,\"ticks\":\"\"}}],\"histogram2d\":[{\"type\":\"histogram2d\",\"colorbar\":{\"outlinewidth\":0,\"ticks\":\"\"},\"colorscale\":[[0.0,\"#0d0887\"],[0.1111111111111111,\"#46039f\"],[0.2222222222222222,\"#7201a8\"],[0.3333333333333333,\"#9c179e\"],[0.4444444444444444,\"#bd3786\"],[0.5555555555555556,\"#d8576b\"],[0.6666666666666666,\"#ed7953\"],[0.7777777777777778,\"#fb9f3a\"],[0.8888888888888888,\"#fdca26\"],[1.0,\"#f0f921\"]]}],\"heatmap\":[{\"type\":\"heatmap\",\"colorbar\":{\"outlinewidth\":0,\"ticks\":\"\"},\"colorscale\":[[0.0,\"#0d0887\"],[0.1111111111111111,\"#46039f\"],[0.2222222222222222,\"#7201a8\"],[0.3333333333333333,\"#9c179e\"],[0.4444444444444444,\"#bd3786\"],[0.5555555555555556,\"#d8576b\"],[0.6666666666666666,\"#ed7953\"],[0.7777777777777778,\"#fb9f3a\"],[0.8888888888888888,\"#fdca26\"],[1.0,\"#f0f921\"]]}],\"heatmapgl\":[{\"type\":\"heatmapgl\",\"colorbar\":{\"outlinewidth\":0,\"ticks\":\"\"},\"colorscale\":[[0.0,\"#0d0887\"],[0.1111111111111111,\"#46039f\"],[0.2222222222222222,\"#7201a8\"],[0.3333333333333333,\"#9c179e\"],[0.4444444444444444,\"#bd3786\"],[0.5555555555555556,\"#d8576b\"],[0.6666666666666666,\"#ed7953\"],[0.7777777777777778,\"#fb9f3a\"],[0.8888888888888888,\"#fdca26\"],[1.0,\"#f0f921\"]]}],\"contourcarpet\":[{\"type\":\"contourcarpet\",\"colorbar\":{\"outlinewidth\":0,\"ticks\":\"\"}}],\"contour\":[{\"type\":\"contour\",\"colorbar\":{\"outlinewidth\":0,\"ticks\":\"\"},\"colorscale\":[[0.0,\"#0d0887\"],[0.1111111111111111,\"#46039f\"],[0.2222222222222222,\"#7201a8\"],[0.3333333333333333,\"#9c179e\"],[0.4444444444444444,\"#bd3786\"],[0.5555555555555556,\"#d8576b\"],[0.6666666666666666,\"#ed7953\"],[0.7777777777777778,\"#fb9f3a\"],[0.8888888888888888,\"#fdca26\"],[1.0,\"#f0f921\"]]}],\"surface\":[{\"type\":\"surface\",\"colorbar\":{\"outlinewidth\":0,\"ticks\":\"\"},\"colorscale\":[[0.0,\"#0d0887\"],[0.1111111111111111,\"#46039f\"],[0.2222222222222222,\"#7201a8\"],[0.3333333333333333,\"#9c179e\"],[0.4444444444444444,\"#bd3786\"],[0.5555555555555556,\"#d8576b\"],[0.6666666666666666,\"#ed7953\"],[0.7777777777777778,\"#fb9f3a\"],[0.8888888888888888,\"#fdca26\"],[1.0,\"#f0f921\"]]}],\"mesh3d\":[{\"type\":\"mesh3d\",\"colorbar\":{\"outlinewidth\":0,\"ticks\":\"\"}}],\"scatter\":[{\"fillpattern\":{\"fillmode\":\"overlay\",\"size\":10,\"solidity\":0.2},\"type\":\"scatter\"}],\"parcoords\":[{\"type\":\"parcoords\",\"line\":{\"colorbar\":{\"outlinewidth\":0,\"ticks\":\"\"}}}],\"scatterpolargl\":[{\"type\":\"scatterpolargl\",\"marker\":{\"colorbar\":{\"outlinewidth\":0,\"ticks\":\"\"}}}],\"bar\":[{\"error_x\":{\"color\":\"#2a3f5f\"},\"error_y\":{\"color\":\"#2a3f5f\"},\"marker\":{\"line\":{\"color\":\"#E5ECF6\",\"width\":0.5},\"pattern\":{\"fillmode\":\"overlay\",\"size\":10,\"solidity\":0.2}},\"type\":\"bar\"}],\"scattergeo\":[{\"type\":\"scattergeo\",\"marker\":{\"colorbar\":{\"outlinewidth\":0,\"ticks\":\"\"}}}],\"scatterpolar\":[{\"type\":\"scatterpolar\",\"marker\":{\"colorbar\":{\"outlinewidth\":0,\"ticks\":\"\"}}}],\"histogram\":[{\"marker\":{\"pattern\":{\"fillmode\":\"overlay\",\"size\":10,\"solidity\":0.2}},\"type\":\"histogram\"}],\"scattergl\":[{\"type\":\"scattergl\",\"marker\":{\"colorbar\":{\"outlinewidth\":0,\"ticks\":\"\"}}}],\"scatter3d\":[{\"type\":\"scatter3d\",\"line\":{\"colorbar\":{\"outlinewidth\":0,\"ticks\":\"\"}},\"marker\":{\"colorbar\":{\"outlinewidth\":0,\"ticks\":\"\"}}}],\"scattermapbox\":[{\"type\":\"scattermapbox\",\"marker\":{\"colorbar\":{\"outlinewidth\":0,\"ticks\":\"\"}}}],\"scatterternary\":[{\"type\":\"scatterternary\",\"marker\":{\"colorbar\":{\"outlinewidth\":0,\"ticks\":\"\"}}}],\"scattercarpet\":[{\"type\":\"scattercarpet\",\"marker\":{\"colorbar\":{\"outlinewidth\":0,\"ticks\":\"\"}}}],\"carpet\":[{\"aaxis\":{\"endlinecolor\":\"#2a3f5f\",\"gridcolor\":\"white\",\"linecolor\":\"white\",\"minorgridcolor\":\"white\",\"startlinecolor\":\"#2a3f5f\"},\"baxis\":{\"endlinecolor\":\"#2a3f5f\",\"gridcolor\":\"white\",\"linecolor\":\"white\",\"minorgridcolor\":\"white\",\"startlinecolor\":\"#2a3f5f\"},\"type\":\"carpet\"}],\"table\":[{\"cells\":{\"fill\":{\"color\":\"#EBF0F8\"},\"line\":{\"color\":\"white\"}},\"header\":{\"fill\":{\"color\":\"#C8D4E3\"},\"line\":{\"color\":\"white\"}},\"type\":\"table\"}],\"barpolar\":[{\"marker\":{\"line\":{\"color\":\"#E5ECF6\",\"width\":0.5},\"pattern\":{\"fillmode\":\"overlay\",\"size\":10,\"solidity\":0.2}},\"type\":\"barpolar\"}],\"pie\":[{\"automargin\":true,\"type\":\"pie\"}]},\"layout\":{\"autotypenumbers\":\"strict\",\"colorway\":[\"#636efa\",\"#EF553B\",\"#00cc96\",\"#ab63fa\",\"#FFA15A\",\"#19d3f3\",\"#FF6692\",\"#B6E880\",\"#FF97FF\",\"#FECB52\"],\"font\":{\"color\":\"#2a3f5f\"},\"hovermode\":\"closest\",\"hoverlabel\":{\"align\":\"left\"},\"paper_bgcolor\":\"white\",\"plot_bgcolor\":\"#E5ECF6\",\"polar\":{\"bgcolor\":\"#E5ECF6\",\"angularaxis\":{\"gridcolor\":\"white\",\"linecolor\":\"white\",\"ticks\":\"\"},\"radialaxis\":{\"gridcolor\":\"white\",\"linecolor\":\"white\",\"ticks\":\"\"}},\"ternary\":{\"bgcolor\":\"#E5ECF6\",\"aaxis\":{\"gridcolor\":\"white\",\"linecolor\":\"white\",\"ticks\":\"\"},\"baxis\":{\"gridcolor\":\"white\",\"linecolor\":\"white\",\"ticks\":\"\"},\"caxis\":{\"gridcolor\":\"white\",\"linecolor\":\"white\",\"ticks\":\"\"}},\"coloraxis\":{\"colorbar\":{\"outlinewidth\":0,\"ticks\":\"\"}},\"colorscale\":{\"sequential\":[[0.0,\"#0d0887\"],[0.1111111111111111,\"#46039f\"],[0.2222222222222222,\"#7201a8\"],[0.3333333333333333,\"#9c179e\"],[0.4444444444444444,\"#bd3786\"],[0.5555555555555556,\"#d8576b\"],[0.6666666666666666,\"#ed7953\"],[0.7777777777777778,\"#fb9f3a\"],[0.8888888888888888,\"#fdca26\"],[1.0,\"#f0f921\"]],\"sequentialminus\":[[0.0,\"#0d0887\"],[0.1111111111111111,\"#46039f\"],[0.2222222222222222,\"#7201a8\"],[0.3333333333333333,\"#9c179e\"],[0.4444444444444444,\"#bd3786\"],[0.5555555555555556,\"#d8576b\"],[0.6666666666666666,\"#ed7953\"],[0.7777777777777778,\"#fb9f3a\"],[0.8888888888888888,\"#fdca26\"],[1.0,\"#f0f921\"]],\"diverging\":[[0,\"#8e0152\"],[0.1,\"#c51b7d\"],[0.2,\"#de77ae\"],[0.3,\"#f1b6da\"],[0.4,\"#fde0ef\"],[0.5,\"#f7f7f7\"],[0.6,\"#e6f5d0\"],[0.7,\"#b8e186\"],[0.8,\"#7fbc41\"],[0.9,\"#4d9221\"],[1,\"#276419\"]]},\"xaxis\":{\"gridcolor\":\"white\",\"linecolor\":\"white\",\"ticks\":\"\",\"title\":{\"standoff\":15},\"zerolinecolor\":\"white\",\"automargin\":true,\"zerolinewidth\":2},\"yaxis\":{\"gridcolor\":\"white\",\"linecolor\":\"white\",\"ticks\":\"\",\"title\":{\"standoff\":15},\"zerolinecolor\":\"white\",\"automargin\":true,\"zerolinewidth\":2},\"scene\":{\"xaxis\":{\"backgroundcolor\":\"#E5ECF6\",\"gridcolor\":\"white\",\"linecolor\":\"white\",\"showbackground\":true,\"ticks\":\"\",\"zerolinecolor\":\"white\",\"gridwidth\":2},\"yaxis\":{\"backgroundcolor\":\"#E5ECF6\",\"gridcolor\":\"white\",\"linecolor\":\"white\",\"showbackground\":true,\"ticks\":\"\",\"zerolinecolor\":\"white\",\"gridwidth\":2},\"zaxis\":{\"backgroundcolor\":\"#E5ECF6\",\"gridcolor\":\"white\",\"linecolor\":\"white\",\"showbackground\":true,\"ticks\":\"\",\"zerolinecolor\":\"white\",\"gridwidth\":2}},\"shapedefaults\":{\"line\":{\"color\":\"#2a3f5f\"}},\"annotationdefaults\":{\"arrowcolor\":\"#2a3f5f\",\"arrowhead\":0,\"arrowwidth\":1},\"geo\":{\"bgcolor\":\"white\",\"landcolor\":\"#E5ECF6\",\"subunitcolor\":\"white\",\"showland\":true,\"showlakes\":true,\"lakecolor\":\"white\"},\"title\":{\"x\":0.05},\"mapbox\":{\"style\":\"light\"}}},\"xaxis\":{\"anchor\":\"y\",\"domain\":[0.0,1.0],\"title\":{\"text\":\"probability_threshold\"}},\"yaxis\":{\"anchor\":\"x\",\"domain\":[0.0,1.0],\"title\":{\"text\":\"value\"}},\"legend\":{\"title\":{\"text\":\"variable\"},\"tracegroupgap\":0},\"title\":{\"text\":\"MLP Classifier Probability Threshold Optimization (default = 0.5)\"}},                        {\"responsive\": true}                    ).then(function(){\n",
       "                            \n",
       "var gd = document.getElementById('6863d43e-fe21-4a25-80bf-ba0f98b962cb');\n",
       "var x = new MutationObserver(function (mutations, observer) {{\n",
       "        var display = window.getComputedStyle(gd).display;\n",
       "        if (!display || display === 'none') {{\n",
       "            console.log([gd, 'removed!']);\n",
       "            Plotly.purge(gd);\n",
       "            observer.disconnect();\n",
       "        }}\n",
       "}});\n",
       "\n",
       "// Listen for the removal of the full notebook cells\n",
       "var notebookContainer = gd.closest('#notebook-container');\n",
       "if (notebookContainer) {{\n",
       "    x.observe(notebookContainer, {childList: true});\n",
       "}}\n",
       "\n",
       "// Listen for the clearing of the current output cell\n",
       "var outputEl = gd.closest('.output');\n",
       "if (outputEl) {{\n",
       "    x.observe(outputEl, {childList: true});\n",
       "}}\n",
       "\n",
       "                        })                };                });            </script>        </div>"
      ]
     },
     "metadata": {},
     "output_type": "display_data"
    }
   ],
   "source": [
    " final_model = optimize_threshold(tuned, optimize = 'Prec.')   "
   ]
  },
  {
   "cell_type": "markdown",
   "metadata": {},
   "source": [
    "### Checking the Paramters of our tuned model so we know what all of the model paramters are explicitly"
   ]
  },
  {
   "cell_type": "code",
   "execution_count": 61,
   "metadata": {},
   "outputs": [
    {
     "name": "stdout",
     "output_type": "stream",
     "text": [
      "CustomProbabilityThresholdClassifier(activation='relu', alpha=1e-07,\n",
      "                                     batch_size='auto', beta_1=0.9,\n",
      "                                     beta_2=0.999,\n",
      "                                     classifier=MLPClassifier(activation='relu',\n",
      "                                                              alpha=1e-07,\n",
      "                                                              batch_size='auto',\n",
      "                                                              beta_1=0.9,\n",
      "                                                              beta_2=0.999,\n",
      "                                                              early_stopping=False,\n",
      "                                                              epsilon=1e-08,\n",
      "                                                              hidden_layer_sizes=[50,\n",
      "                                                                                  50],\n",
      "                                                              learning_rate='adaptive',\n",
      "                                                              learning_rate_init=0.001,\n",
      "                                                              max_fun=15000,\n",
      "                                                              max_iter=500,\n",
      "                                                              momen...\n",
      "                                     early_stopping=False, epsilon=1e-08,\n",
      "                                     hidden_layer_sizes=[50, 50],\n",
      "                                     learning_rate='adaptive',\n",
      "                                     learning_rate_init=0.001, max_fun=15000,\n",
      "                                     max_iter=500, momentum=0.9,\n",
      "                                     n_iter_no_change=10,\n",
      "                                     nesterovs_momentum=True, power_t=0.5,\n",
      "                                     probability_threshold=0.7000000000000001,\n",
      "                                     random_state=7553, shuffle=True,\n",
      "                                     solver='adam', tol=0.0001,\n",
      "                                     validation_fraction=0.1, verbose=False,\n",
      "                                     warm_start=False)\n"
     ]
    }
   ],
   "source": [
    "print(final_model)"
   ]
  },
  {
   "cell_type": "code",
   "execution_count": 62,
   "metadata": {},
   "outputs": [
    {
     "name": "stdout",
     "output_type": "stream",
     "text": [
      "Transformation Pipeline and Model Successfully Saved\n"
     ]
    },
    {
     "data": {
      "text/plain": [
       "(Pipeline(memory=None,\n",
       "          steps=[('dtypes',\n",
       "                  DataTypes_Auto_infer(categorical_features=[],\n",
       "                                       display_types=True, features_todrop=[],\n",
       "                                       id_columns=[],\n",
       "                                       ml_usecase='classification',\n",
       "                                       numerical_features=[], target='Fraud',\n",
       "                                       time_features=[])),\n",
       "                 ('imputer',\n",
       "                  Simple_Imputer(categorical_strategy='not_available',\n",
       "                                 fill_value_categorical=None,\n",
       "                                 fill_value_numerical=None,\n",
       "                                 numeric_strate...\n",
       "                                                       epsilon=1e-08,\n",
       "                                                       hidden_layer_sizes=[50,\n",
       "                                                                           50],\n",
       "                                                       learning_rate='adaptive',\n",
       "                                                       learning_rate_init=0.001,\n",
       "                                                       max_fun=15000,\n",
       "                                                       max_iter=500,\n",
       "                                                       momentum=0.9,\n",
       "                                                       n_iter_no_change=10,\n",
       "                                                       nesterovs_momentum=True,\n",
       "                                                       power_t=0.5,\n",
       "                                                       probability_threshold=0.7000000000000001,\n",
       "                                                       random_state=7553,\n",
       "                                                       shuffle=True,\n",
       "                                                       solver='adam', tol=0.0001,\n",
       "                                                       validation_fraction=0.1,\n",
       "                                                       verbose=False,\n",
       "                                                       warm_start=False)]],\n",
       "          verbose=False),\n",
       " 'final_model.pkl')"
      ]
     },
     "execution_count": 62,
     "metadata": {},
     "output_type": "execute_result"
    }
   ],
   "source": [
    "save_model(final_model, 'final_model')"
   ]
  },
  {
   "cell_type": "markdown",
   "metadata": {},
   "source": [
    "### Using our model to test its prediction capabilities on our test set that was automatically held out by pycaret setup function."
   ]
  },
  {
   "cell_type": "code",
   "execution_count": 63,
   "metadata": {},
   "outputs": [
    {
     "data": {
      "text/html": [
       "<style type=\"text/css\">\n",
       "</style>\n",
       "<table id=\"T_56468\">\n",
       "  <thead>\n",
       "    <tr>\n",
       "      <th class=\"blank level0\" >&nbsp;</th>\n",
       "      <th id=\"T_56468_level0_col0\" class=\"col_heading level0 col0\" >Model</th>\n",
       "      <th id=\"T_56468_level0_col1\" class=\"col_heading level0 col1\" >Accuracy</th>\n",
       "      <th id=\"T_56468_level0_col2\" class=\"col_heading level0 col2\" >AUC</th>\n",
       "      <th id=\"T_56468_level0_col3\" class=\"col_heading level0 col3\" >Recall</th>\n",
       "      <th id=\"T_56468_level0_col4\" class=\"col_heading level0 col4\" >Prec.</th>\n",
       "      <th id=\"T_56468_level0_col5\" class=\"col_heading level0 col5\" >F1</th>\n",
       "      <th id=\"T_56468_level0_col6\" class=\"col_heading level0 col6\" >Kappa</th>\n",
       "      <th id=\"T_56468_level0_col7\" class=\"col_heading level0 col7\" >MCC</th>\n",
       "    </tr>\n",
       "  </thead>\n",
       "  <tbody>\n",
       "    <tr>\n",
       "      <th id=\"T_56468_level0_row0\" class=\"row_heading level0 row0\" >0</th>\n",
       "      <td id=\"T_56468_row0_col0\" class=\"data row0 col0\" >MLP Classifier</td>\n",
       "      <td id=\"T_56468_row0_col1\" class=\"data row0 col1\" >0.9917</td>\n",
       "      <td id=\"T_56468_row0_col2\" class=\"data row0 col2\" >0.7233</td>\n",
       "      <td id=\"T_56468_row0_col3\" class=\"data row0 col3\" >0.0484</td>\n",
       "      <td id=\"T_56468_row0_col4\" class=\"data row0 col4\" >0.2727</td>\n",
       "      <td id=\"T_56468_row0_col5\" class=\"data row0 col5\" >0.0822</td>\n",
       "      <td id=\"T_56468_row0_col6\" class=\"data row0 col6\" >0.0801</td>\n",
       "      <td id=\"T_56468_row0_col7\" class=\"data row0 col7\" >0.1121</td>\n",
       "    </tr>\n",
       "  </tbody>\n",
       "</table>\n"
      ],
      "text/plain": [
       "<pandas.io.formats.style.Styler at 0x1873bab2df0>"
      ]
     },
     "metadata": {},
     "output_type": "display_data"
    }
   ],
   "source": [
    "test_prediction = predict_model(final_model)"
   ]
  },
  {
   "cell_type": "markdown",
   "metadata": {},
   "source": [
    "### Using our model to test its prediction capabilities on our test set of data after 2008 to see how we perform in the new age regulatory environment."
   ]
  },
  {
   "cell_type": "code",
   "execution_count": 64,
   "metadata": {},
   "outputs": [
    {
     "data": {
      "text/html": [
       "<style type=\"text/css\">\n",
       "</style>\n",
       "<table id=\"T_7aca5\">\n",
       "  <thead>\n",
       "    <tr>\n",
       "      <th class=\"blank level0\" >&nbsp;</th>\n",
       "      <th id=\"T_7aca5_level0_col0\" class=\"col_heading level0 col0\" >Model</th>\n",
       "      <th id=\"T_7aca5_level0_col1\" class=\"col_heading level0 col1\" >Accuracy</th>\n",
       "      <th id=\"T_7aca5_level0_col2\" class=\"col_heading level0 col2\" >AUC</th>\n",
       "      <th id=\"T_7aca5_level0_col3\" class=\"col_heading level0 col3\" >Recall</th>\n",
       "      <th id=\"T_7aca5_level0_col4\" class=\"col_heading level0 col4\" >Prec.</th>\n",
       "      <th id=\"T_7aca5_level0_col5\" class=\"col_heading level0 col5\" >F1</th>\n",
       "      <th id=\"T_7aca5_level0_col6\" class=\"col_heading level0 col6\" >Kappa</th>\n",
       "      <th id=\"T_7aca5_level0_col7\" class=\"col_heading level0 col7\" >MCC</th>\n",
       "    </tr>\n",
       "  </thead>\n",
       "  <tbody>\n",
       "    <tr>\n",
       "      <th id=\"T_7aca5_level0_row0\" class=\"row_heading level0 row0\" >0</th>\n",
       "      <td id=\"T_7aca5_row0_col0\" class=\"data row0 col0\" >MLP Classifier</td>\n",
       "      <td id=\"T_7aca5_row0_col1\" class=\"data row0 col1\" >0.9957</td>\n",
       "      <td id=\"T_7aca5_row0_col2\" class=\"data row0 col2\" >0.4772</td>\n",
       "      <td id=\"T_7aca5_row0_col3\" class=\"data row0 col3\" >0.0000</td>\n",
       "      <td id=\"T_7aca5_row0_col4\" class=\"data row0 col4\" >0.0000</td>\n",
       "      <td id=\"T_7aca5_row0_col5\" class=\"data row0 col5\" >0.0000</td>\n",
       "      <td id=\"T_7aca5_row0_col6\" class=\"data row0 col6\" >-0.0013</td>\n",
       "      <td id=\"T_7aca5_row0_col7\" class=\"data row0 col7\" >-0.0017</td>\n",
       "    </tr>\n",
       "  </tbody>\n",
       "</table>\n"
      ],
      "text/plain": [
       "<pandas.io.formats.style.Styler at 0x187391576a0>"
      ]
     },
     "metadata": {},
     "output_type": "display_data"
    }
   ],
   "source": [
    "test_08_prediction = predict_model(final_model, data = data_test_08)"
   ]
  },
  {
   "cell_type": "markdown",
   "metadata": {},
   "source": [
    "### Using our model to test its prediction capabilites on our contemporary set of 2020-2021 data."
   ]
  },
  {
   "cell_type": "code",
   "execution_count": null,
   "metadata": {},
   "outputs": [],
   "source": []
  },
  {
   "cell_type": "markdown",
   "metadata": {},
   "source": [
    "### Confusion Matrix of our base model just to see what predictions it made"
   ]
  },
  {
   "cell_type": "code",
   "execution_count": 65,
   "metadata": {},
   "outputs": [
    {
     "data": {
      "image/png": "[encoded data removed]",
      "text/plain": [
       "<Figure size 576x396 with 1 Axes>"
      ]
     },
     "metadata": {},
     "output_type": "display_data"
    }
   ],
   "source": [
    "plot_model(mlp, plot = 'confusion_matrix')"
   ]
  },
  {
   "cell_type": "markdown",
   "metadata": {},
   "source": [
    "### Confusion Matrix of our tuned model to see the improvement in the raw numbers of our predictions"
   ]
  },
  {
   "cell_type": "code",
   "execution_count": 66,
   "metadata": {},
   "outputs": [
    {
     "data": {
      "image/png": "[encoded data removed]",
      "text/plain": [
       "<Figure size 576x396 with 1 Axes>"
      ]
     },
     "metadata": {},
     "output_type": "display_data"
    }
   ],
   "source": [
    "plot_model(tuned, plot = 'confusion_matrix')"
   ]
  },
  {
   "cell_type": "markdown",
   "metadata": {},
   "source": [
    "### Confusion Matrix of our final model to see the improvement in the raw numbers of our predictions"
   ]
  },
  {
   "cell_type": "code",
   "execution_count": 67,
   "metadata": {},
   "outputs": [
    {
     "data": {
      "image/png": "[encoded data removed]",
      "text/plain": [
       "<Figure size 576x396 with 1 Axes>"
      ]
     },
     "metadata": {},
     "output_type": "display_data"
    }
   ],
   "source": [
    "plot_model(final_model, plot = 'confusion_matrix')"
   ]
  },
  {
   "cell_type": "markdown",
   "metadata": {},
   "source": [
    "### Gain chart of our base model"
   ]
  },
  {
   "cell_type": "code",
   "execution_count": 55,
   "metadata": {},
   "outputs": [
    {
     "data": {
      "image/png": "[encoded data removed]",
      "text/plain": [
       "<Figure size 1000x600 with 1 Axes>"
      ]
     },
     "metadata": {},
     "output_type": "display_data"
    }
   ],
   "source": [
    "plot_model(mlp, plot = 'gain')"
   ]
  },
  {
   "cell_type": "markdown",
   "metadata": {},
   "source": [
    "### Gain chart of our tuned model"
   ]
  },
  {
   "cell_type": "code",
   "execution_count": 56,
   "metadata": {},
   "outputs": [
    {
     "data": {
      "image/png": "[encoded data removed]",
      "text/plain": [
       "<Figure size 1000x600 with 1 Axes>"
      ]
     },
     "metadata": {},
     "output_type": "display_data"
    }
   ],
   "source": [
    "plot_model(tuned, plot = 'gain')"
   ]
  },
  {
   "cell_type": "markdown",
   "metadata": {},
   "source": [
    "### Gain chart of our final model"
   ]
  },
  {
   "cell_type": "code",
   "execution_count": 58,
   "metadata": {},
   "outputs": [
    {
     "data": {
      "image/png": "[encoded data removed]",
      "text/plain": [
       "<Figure size 1000x600 with 1 Axes>"
      ]
     },
     "metadata": {},
     "output_type": "display_data"
    }
   ],
   "source": [
    "plot_model(final_model, plot = 'gain')"
   ]
  },
  {
   "cell_type": "markdown",
   "metadata": {},
   "source": [
    "### ROC Area Under Curve plots for base model"
   ]
  },
  {
   "cell_type": "code",
   "execution_count": 57,
   "metadata": {},
   "outputs": [
    {
     "data": {
      "image/png": "[encoded data removed]",
      "text/plain": [
       "<Figure size 576x396 with 1 Axes>"
      ]
     },
     "metadata": {},
     "output_type": "display_data"
    }
   ],
   "source": [
    "plot_model(mlp, plot = 'auc')"
   ]
  },
  {
   "cell_type": "markdown",
   "metadata": {},
   "source": [
    "### ROC Area Under Curve plots for tuned model"
   ]
  },
  {
   "cell_type": "code",
   "execution_count": 59,
   "metadata": {},
   "outputs": [
    {
     "data": {
      "image/png": "[encoded data removed]",
      "text/plain": [
       "<Figure size 576x396 with 1 Axes>"
      ]
     },
     "metadata": {},
     "output_type": "display_data"
    }
   ],
   "source": [
    "plot_model(tuned, plot = 'auc')"
   ]
  },
  {
   "cell_type": "markdown",
   "metadata": {},
   "source": [
    "### ROC Area Under Curve plots for final model"
   ]
  },
  {
   "cell_type": "code",
   "execution_count": 60,
   "metadata": {},
   "outputs": [
    {
     "data": {
      "image/png": "[encoded data removed]",
      "text/plain": [
       "<Figure size 576x396 with 1 Axes>"
      ]
     },
     "metadata": {},
     "output_type": "display_data"
    }
   ],
   "source": [
    "plot_model(final_model, plot = 'auc')"
   ]
  }
 ],
 "metadata": {
  "kernelspec": {
   "display_name": "KC",
   "language": "python",
   "name": "kyle"
  },
  "language_info": {
   "codemirror_mode": {
    "name": "ipython",
    "version": 3
   },
   "file_extension": ".py",
   "mimetype": "text/x-python",
   "name": "python",
   "nbconvert_exporter": "python",
   "pygments_lexer": "ipython3",
   "version": "3.8.13"
  }
 },
 "nbformat": 4,
 "nbformat_minor": 4
}
