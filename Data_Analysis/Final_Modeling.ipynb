{
 "cells": [
  {
   "cell_type": "markdown",
   "metadata": {},
   "source": [
    "### Importing all of the classification modules from pycaret. Important to note that prior to this I created a python environment in which I installed pycaret. I did not do it within the notebook because I have other libraries and dependencies I didn't want to mess with."
   ]
  },
  {
   "cell_type": "code",
   "execution_count": 24,
   "metadata": {},
   "outputs": [],
   "source": [
    "from pycaret.classification import *"
   ]
  },
  {
   "cell_type": "markdown",
   "metadata": {},
   "source": [
    "### Importing additional libraries now that we need to complete some of the data organization."
   ]
  },
  {
   "cell_type": "code",
   "execution_count": 25,
   "metadata": {},
   "outputs": [],
   "source": [
    "import pandas as pd\n",
    "import numpy as np"
   ]
  },
  {
   "cell_type": "markdown",
   "metadata": {},
   "source": [
    "### Organizing Dataset -- Getting rid of variables that are not of interest and have far too many NA values, getting all points before 2008, Grabbing the subset of our data containing the 28 accounting variables of interest as well as the gvkey (unique for each firm) and the year of the observation"
   ]
  },
  {
   "cell_type": "code",
   "execution_count": 26,
   "metadata": {},
   "outputs": [
    {
     "data": {
      "text/html": [
       "<div>\n",
       "<style scoped>\n",
       "    .dataframe tbody tr th:only-of-type {\n",
       "        vertical-align: middle;\n",
       "    }\n",
       "\n",
       "    .dataframe tbody tr th {\n",
       "        vertical-align: top;\n",
       "    }\n",
       "\n",
       "    .dataframe thead th {\n",
       "        text-align: right;\n",
       "    }\n",
       "</style>\n",
       "<table border=\"1\" class=\"dataframe\">\n",
       "  <thead>\n",
       "    <tr style=\"text-align: right;\">\n",
       "      <th></th>\n",
       "      <th>Year</th>\n",
       "      <th>gvkey</th>\n",
       "      <th>Fraud</th>\n",
       "      <th>Current Assets</th>\n",
       "      <th>Accounts Payable</th>\n",
       "      <th>Total Assets</th>\n",
       "      <th>Common Equity</th>\n",
       "      <th>Cash and Short-Term Investments</th>\n",
       "      <th>Cost of Goods Sold</th>\n",
       "      <th>Common Shares Outstanding</th>\n",
       "      <th>...</th>\n",
       "      <th>Property, Plant, and Equipment</th>\n",
       "      <th>Preferred Stock</th>\n",
       "      <th>Retained Earnings</th>\n",
       "      <th>Receivables</th>\n",
       "      <th>Net Sales</th>\n",
       "      <th>Sale of Common and Preferred Stock</th>\n",
       "      <th>Income Taxes Payable</th>\n",
       "      <th>Total Income Taxes</th>\n",
       "      <th>Interest and Related Expense</th>\n",
       "      <th>Price Close, Annual, Fiscal</th>\n",
       "    </tr>\n",
       "  </thead>\n",
       "  <tbody>\n",
       "    <tr>\n",
       "      <th>0</th>\n",
       "      <td>1990.0</td>\n",
       "      <td>1009.0</td>\n",
       "      <td>0.0</td>\n",
       "      <td>10.047</td>\n",
       "      <td>3.736</td>\n",
       "      <td>32.335</td>\n",
       "      <td>6.262</td>\n",
       "      <td>0.002</td>\n",
       "      <td>30.633</td>\n",
       "      <td>2.526</td>\n",
       "      <td>...</td>\n",
       "      <td>31.767</td>\n",
       "      <td>0.000</td>\n",
       "      <td>5.420</td>\n",
       "      <td>6.895</td>\n",
       "      <td>40.522</td>\n",
       "      <td>0.000</td>\n",
       "      <td>0.000</td>\n",
       "      <td>0.769</td>\n",
       "      <td>2.333</td>\n",
       "      <td>6.000</td>\n",
       "    </tr>\n",
       "    <tr>\n",
       "      <th>1</th>\n",
       "      <td>1990.0</td>\n",
       "      <td>1011.0</td>\n",
       "      <td>0.0</td>\n",
       "      <td>1.247</td>\n",
       "      <td>0.803</td>\n",
       "      <td>7.784</td>\n",
       "      <td>0.667</td>\n",
       "      <td>0.171</td>\n",
       "      <td>1.125</td>\n",
       "      <td>3.556</td>\n",
       "      <td>...</td>\n",
       "      <td>7.328</td>\n",
       "      <td>0.000</td>\n",
       "      <td>-3.339</td>\n",
       "      <td>0.290</td>\n",
       "      <td>3.635</td>\n",
       "      <td>0.006</td>\n",
       "      <td>0.000</td>\n",
       "      <td>0.000</td>\n",
       "      <td>0.640</td>\n",
       "      <td>1.188</td>\n",
       "    </tr>\n",
       "    <tr>\n",
       "      <th>2</th>\n",
       "      <td>1990.0</td>\n",
       "      <td>1017.0</td>\n",
       "      <td>0.0</td>\n",
       "      <td>55.040</td>\n",
       "      <td>3.601</td>\n",
       "      <td>118.120</td>\n",
       "      <td>44.393</td>\n",
       "      <td>3.132</td>\n",
       "      <td>107.343</td>\n",
       "      <td>3.882</td>\n",
       "      <td>...</td>\n",
       "      <td>78.331</td>\n",
       "      <td>0.000</td>\n",
       "      <td>46.630</td>\n",
       "      <td>47.366</td>\n",
       "      <td>144.258</td>\n",
       "      <td>0.000</td>\n",
       "      <td>0.000</td>\n",
       "      <td>0.986</td>\n",
       "      <td>3.962</td>\n",
       "      <td>5.125</td>\n",
       "    </tr>\n",
       "    <tr>\n",
       "      <th>3</th>\n",
       "      <td>1990.0</td>\n",
       "      <td>1021.0</td>\n",
       "      <td>0.0</td>\n",
       "      <td>24.684</td>\n",
       "      <td>3.948</td>\n",
       "      <td>34.591</td>\n",
       "      <td>7.751</td>\n",
       "      <td>0.411</td>\n",
       "      <td>31.214</td>\n",
       "      <td>4.755</td>\n",
       "      <td>...</td>\n",
       "      <td>11.145</td>\n",
       "      <td>1.295</td>\n",
       "      <td>3.280</td>\n",
       "      <td>8.522</td>\n",
       "      <td>48.292</td>\n",
       "      <td>0.000</td>\n",
       "      <td>0.448</td>\n",
       "      <td>0.365</td>\n",
       "      <td>2.269</td>\n",
       "      <td>1.562</td>\n",
       "    </tr>\n",
       "    <tr>\n",
       "      <th>4</th>\n",
       "      <td>1990.0</td>\n",
       "      <td>1028.0</td>\n",
       "      <td>0.0</td>\n",
       "      <td>17.325</td>\n",
       "      <td>3.520</td>\n",
       "      <td>27.542</td>\n",
       "      <td>-12.142</td>\n",
       "      <td>1.017</td>\n",
       "      <td>32.662</td>\n",
       "      <td>6.735</td>\n",
       "      <td>...</td>\n",
       "      <td>5.782</td>\n",
       "      <td>0.000</td>\n",
       "      <td>-25.955</td>\n",
       "      <td>6.354</td>\n",
       "      <td>33.543</td>\n",
       "      <td>0.000</td>\n",
       "      <td>0.000</td>\n",
       "      <td>0.000</td>\n",
       "      <td>3.510</td>\n",
       "      <td>1.125</td>\n",
       "    </tr>\n",
       "  </tbody>\n",
       "</table>\n",
       "<p>5 rows × 31 columns</p>\n",
       "</div>"
      ],
      "text/plain": [
       "     Year   gvkey  Fraud  Current Assets  Accounts Payable  Total Assets  \\\n",
       "0  1990.0  1009.0    0.0          10.047             3.736        32.335   \n",
       "1  1990.0  1011.0    0.0           1.247             0.803         7.784   \n",
       "2  1990.0  1017.0    0.0          55.040             3.601       118.120   \n",
       "3  1990.0  1021.0    0.0          24.684             3.948        34.591   \n",
       "4  1990.0  1028.0    0.0          17.325             3.520        27.542   \n",
       "\n",
       "   Common Equity  Cash and Short-Term Investments  Cost of Goods Sold  \\\n",
       "0          6.262                            0.002              30.633   \n",
       "1          0.667                            0.171               1.125   \n",
       "2         44.393                            3.132             107.343   \n",
       "3          7.751                            0.411              31.214   \n",
       "4        -12.142                            1.017              32.662   \n",
       "\n",
       "   Common Shares Outstanding  ...  Property, Plant, and Equipment  \\\n",
       "0                      2.526  ...                          31.767   \n",
       "1                      3.556  ...                           7.328   \n",
       "2                      3.882  ...                          78.331   \n",
       "3                      4.755  ...                          11.145   \n",
       "4                      6.735  ...                           5.782   \n",
       "\n",
       "   Preferred Stock  Retained Earnings  Receivables  Net Sales  \\\n",
       "0            0.000              5.420        6.895     40.522   \n",
       "1            0.000             -3.339        0.290      3.635   \n",
       "2            0.000             46.630       47.366    144.258   \n",
       "3            1.295              3.280        8.522     48.292   \n",
       "4            0.000            -25.955        6.354     33.543   \n",
       "\n",
       "   Sale of Common and Preferred Stock  Income Taxes Payable  \\\n",
       "0                               0.000                 0.000   \n",
       "1                               0.006                 0.000   \n",
       "2                               0.000                 0.000   \n",
       "3                               0.000                 0.448   \n",
       "4                               0.000                 0.000   \n",
       "\n",
       "   Total Income Taxes  Interest and Related Expense  \\\n",
       "0               0.769                         2.333   \n",
       "1               0.000                         0.640   \n",
       "2               0.986                         3.962   \n",
       "3               0.365                         2.269   \n",
       "4               0.000                         3.510   \n",
       "\n",
       "   Price Close, Annual, Fiscal  \n",
       "0                        6.000  \n",
       "1                        1.188  \n",
       "2                        5.125  \n",
       "3                        1.562  \n",
       "4                        1.125  \n",
       "\n",
       "[5 rows x 31 columns]"
      ]
     },
     "execution_count": 26,
     "metadata": {},
     "output_type": "execute_result"
    }
   ],
   "source": [
    "df = pd.read_csv(\"Documents/findata.csv\")\n",
    "df.head()\n",
    "df.drop(labels=['sich', 'insbnk', 'understatement', 'option','p_aaer','new_p_aaer'], axis=1, inplace=True)\n",
    "df.head()\n",
    "dffin = df[df['Year'] < 2008]\n",
    "dffin.head()\n",
    "data = dffin.iloc[:, list((x for x in range(0,31)))]\n",
    "data = data.dropna()\n",
    "data.head()"
   ]
  },
  {
   "cell_type": "markdown",
   "metadata": {},
   "source": [
    "### Generating one of our test datasets here. we will actually grab only the data past 2008 in an effort to further stress test our model and see how it peforms in a post '08 regulatory environment"
   ]
  },
  {
   "cell_type": "code",
   "execution_count": 27,
   "metadata": {},
   "outputs": [
    {
     "data": {
      "text/html": [
       "<div>\n",
       "<style scoped>\n",
       "    .dataframe tbody tr th:only-of-type {\n",
       "        vertical-align: middle;\n",
       "    }\n",
       "\n",
       "    .dataframe tbody tr th {\n",
       "        vertical-align: top;\n",
       "    }\n",
       "\n",
       "    .dataframe thead th {\n",
       "        text-align: right;\n",
       "    }\n",
       "</style>\n",
       "<table border=\"1\" class=\"dataframe\">\n",
       "  <thead>\n",
       "    <tr style=\"text-align: right;\">\n",
       "      <th></th>\n",
       "      <th>Year</th>\n",
       "      <th>gvkey</th>\n",
       "      <th>Fraud</th>\n",
       "      <th>Current Assets</th>\n",
       "      <th>Accounts Payable</th>\n",
       "      <th>Total Assets</th>\n",
       "      <th>Common Equity</th>\n",
       "      <th>Cash and Short-Term Investments</th>\n",
       "      <th>Cost of Goods Sold</th>\n",
       "      <th>Common Shares Outstanding</th>\n",
       "      <th>...</th>\n",
       "      <th>Property, Plant, and Equipment</th>\n",
       "      <th>Preferred Stock</th>\n",
       "      <th>Retained Earnings</th>\n",
       "      <th>Receivables</th>\n",
       "      <th>Net Sales</th>\n",
       "      <th>Sale of Common and Preferred Stock</th>\n",
       "      <th>Income Taxes Payable</th>\n",
       "      <th>Total Income Taxes</th>\n",
       "      <th>Interest and Related Expense</th>\n",
       "      <th>Price Close, Annual, Fiscal</th>\n",
       "    </tr>\n",
       "  </thead>\n",
       "  <tbody>\n",
       "    <tr>\n",
       "      <th>107369</th>\n",
       "      <td>2008.0</td>\n",
       "      <td>1004.0</td>\n",
       "      <td>0.0</td>\n",
       "      <td>851.312</td>\n",
       "      <td>100.651</td>\n",
       "      <td>1377.511</td>\n",
       "      <td>656.895</td>\n",
       "      <td>112.505</td>\n",
       "      <td>1110.677</td>\n",
       "      <td>38.884</td>\n",
       "      <td>...</td>\n",
       "      <td>420.459</td>\n",
       "      <td>0.0</td>\n",
       "      <td>385.851</td>\n",
       "      <td>227.300</td>\n",
       "      <td>1423.976</td>\n",
       "      <td>0.599</td>\n",
       "      <td>6.482</td>\n",
       "      <td>39.309</td>\n",
       "      <td>18.371</td>\n",
       "      <td>14.70</td>\n",
       "    </tr>\n",
       "    <tr>\n",
       "      <th>107370</th>\n",
       "      <td>2008.0</td>\n",
       "      <td>1013.0</td>\n",
       "      <td>0.0</td>\n",
       "      <td>1077.400</td>\n",
       "      <td>99.100</td>\n",
       "      <td>1921.000</td>\n",
       "      <td>914.200</td>\n",
       "      <td>631.500</td>\n",
       "      <td>870.700</td>\n",
       "      <td>111.300</td>\n",
       "      <td>...</td>\n",
       "      <td>584.800</td>\n",
       "      <td>0.0</td>\n",
       "      <td>-505.600</td>\n",
       "      <td>240.600</td>\n",
       "      <td>1456.400</td>\n",
       "      <td>0.500</td>\n",
       "      <td>2.400</td>\n",
       "      <td>6.200</td>\n",
       "      <td>28.200</td>\n",
       "      <td>6.34</td>\n",
       "    </tr>\n",
       "    <tr>\n",
       "      <th>107371</th>\n",
       "      <td>2008.0</td>\n",
       "      <td>1021.0</td>\n",
       "      <td>0.0</td>\n",
       "      <td>12.686</td>\n",
       "      <td>3.557</td>\n",
       "      <td>21.401</td>\n",
       "      <td>4.177</td>\n",
       "      <td>0.819</td>\n",
       "      <td>19.334</td>\n",
       "      <td>17.929</td>\n",
       "      <td>...</td>\n",
       "      <td>2.252</td>\n",
       "      <td>0.0</td>\n",
       "      <td>-21.447</td>\n",
       "      <td>4.282</td>\n",
       "      <td>34.280</td>\n",
       "      <td>0.000</td>\n",
       "      <td>0.466</td>\n",
       "      <td>2.118</td>\n",
       "      <td>0.967</td>\n",
       "      <td>0.28</td>\n",
       "    </tr>\n",
       "    <tr>\n",
       "      <th>107372</th>\n",
       "      <td>2008.0</td>\n",
       "      <td>1045.0</td>\n",
       "      <td>0.0</td>\n",
       "      <td>5935.000</td>\n",
       "      <td>952.000</td>\n",
       "      <td>25175.000</td>\n",
       "      <td>-2935.000</td>\n",
       "      <td>3566.000</td>\n",
       "      <td>20232.000</td>\n",
       "      <td>278.949</td>\n",
       "      <td>...</td>\n",
       "      <td>26180.000</td>\n",
       "      <td>0.0</td>\n",
       "      <td>-6638.000</td>\n",
       "      <td>811.000</td>\n",
       "      <td>23766.000</td>\n",
       "      <td>295.000</td>\n",
       "      <td>0.000</td>\n",
       "      <td>0.000</td>\n",
       "      <td>756.000</td>\n",
       "      <td>10.67</td>\n",
       "    </tr>\n",
       "    <tr>\n",
       "      <th>107373</th>\n",
       "      <td>2008.0</td>\n",
       "      <td>1050.0</td>\n",
       "      <td>0.0</td>\n",
       "      <td>69.819</td>\n",
       "      <td>22.886</td>\n",
       "      <td>120.017</td>\n",
       "      <td>44.513</td>\n",
       "      <td>1.169</td>\n",
       "      <td>172.874</td>\n",
       "      <td>14.323</td>\n",
       "      <td>...</td>\n",
       "      <td>24.110</td>\n",
       "      <td>0.0</td>\n",
       "      <td>3.381</td>\n",
       "      <td>47.574</td>\n",
       "      <td>217.890</td>\n",
       "      <td>0.043</td>\n",
       "      <td>2.291</td>\n",
       "      <td>2.626</td>\n",
       "      <td>1.479</td>\n",
       "      <td>2.42</td>\n",
       "    </tr>\n",
       "  </tbody>\n",
       "</table>\n",
       "<p>5 rows × 31 columns</p>\n",
       "</div>"
      ],
      "text/plain": [
       "          Year   gvkey  Fraud  Current Assets  Accounts Payable  Total Assets  \\\n",
       "107369  2008.0  1004.0    0.0         851.312           100.651      1377.511   \n",
       "107370  2008.0  1013.0    0.0        1077.400            99.100      1921.000   \n",
       "107371  2008.0  1021.0    0.0          12.686             3.557        21.401   \n",
       "107372  2008.0  1045.0    0.0        5935.000           952.000     25175.000   \n",
       "107373  2008.0  1050.0    0.0          69.819            22.886       120.017   \n",
       "\n",
       "        Common Equity  Cash and Short-Term Investments  Cost of Goods Sold  \\\n",
       "107369        656.895                          112.505            1110.677   \n",
       "107370        914.200                          631.500             870.700   \n",
       "107371          4.177                            0.819              19.334   \n",
       "107372      -2935.000                         3566.000           20232.000   \n",
       "107373         44.513                            1.169             172.874   \n",
       "\n",
       "        Common Shares Outstanding  ...  Property, Plant, and Equipment  \\\n",
       "107369                     38.884  ...                         420.459   \n",
       "107370                    111.300  ...                         584.800   \n",
       "107371                     17.929  ...                           2.252   \n",
       "107372                    278.949  ...                       26180.000   \n",
       "107373                     14.323  ...                          24.110   \n",
       "\n",
       "        Preferred Stock  Retained Earnings  Receivables  Net Sales  \\\n",
       "107369              0.0            385.851      227.300   1423.976   \n",
       "107370              0.0           -505.600      240.600   1456.400   \n",
       "107371              0.0            -21.447        4.282     34.280   \n",
       "107372              0.0          -6638.000      811.000  23766.000   \n",
       "107373              0.0              3.381       47.574    217.890   \n",
       "\n",
       "        Sale of Common and Preferred Stock  Income Taxes Payable  \\\n",
       "107369                               0.599                 6.482   \n",
       "107370                               0.500                 2.400   \n",
       "107371                               0.000                 0.466   \n",
       "107372                             295.000                 0.000   \n",
       "107373                               0.043                 2.291   \n",
       "\n",
       "        Total Income Taxes  Interest and Related Expense  \\\n",
       "107369              39.309                        18.371   \n",
       "107370               6.200                        28.200   \n",
       "107371               2.118                         0.967   \n",
       "107372               0.000                       756.000   \n",
       "107373               2.626                         1.479   \n",
       "\n",
       "        Price Close, Annual, Fiscal  \n",
       "107369                        14.70  \n",
       "107370                         6.34  \n",
       "107371                         0.28  \n",
       "107372                        10.67  \n",
       "107373                         2.42  \n",
       "\n",
       "[5 rows x 31 columns]"
      ]
     },
     "execution_count": 27,
     "metadata": {},
     "output_type": "execute_result"
    }
   ],
   "source": [
    "df2 = pd.read_csv(\"Documents/findata.csv\")\n",
    "df2.head()\n",
    "df2.drop(labels=['sich', 'insbnk', 'understatement', 'option','p_aaer','new_p_aaer'], axis=1, inplace=True)\n",
    "df2.head()\n",
    "dffin2 = df2[df2['Year'] >= 2008]\n",
    "dffin2.head()\n",
    "data_test_08 = dffin2.iloc[:, list((x for x in range(0,31)))]\n",
    "data_test_08 = data_test_08.dropna()\n",
    "data_test_08.head()"
   ]
  },
  {
   "cell_type": "markdown",
   "metadata": {},
   "source": [
    "### Generating one of our test datasets here. This where we are grabbing our contemporary dataset"
   ]
  },
  {
   "cell_type": "code",
   "execution_count": 34,
   "metadata": {},
   "outputs": [
    {
     "data": {
      "text/html": [
       "<div>\n",
       "<style scoped>\n",
       "    .dataframe tbody tr th:only-of-type {\n",
       "        vertical-align: middle;\n",
       "    }\n",
       "\n",
       "    .dataframe tbody tr th {\n",
       "        vertical-align: top;\n",
       "    }\n",
       "\n",
       "    .dataframe thead th {\n",
       "        text-align: right;\n",
       "    }\n",
       "</style>\n",
       "<table border=\"1\" class=\"dataframe\">\n",
       "  <thead>\n",
       "    <tr style=\"text-align: right;\">\n",
       "      <th></th>\n",
       "      <th>gvkey</th>\n",
       "      <th>Year</th>\n",
       "      <th>Current Assets</th>\n",
       "      <th>Accounts Payable</th>\n",
       "      <th>Total Assets</th>\n",
       "      <th>Common Equity</th>\n",
       "      <th>Cash and Short-Term Investments</th>\n",
       "      <th>Cost of Goods Sold</th>\n",
       "      <th>Common Shares Outstanding</th>\n",
       "      <th>Debt in Current Liabilities</th>\n",
       "      <th>...</th>\n",
       "      <th>Property, Plant, and Equipment</th>\n",
       "      <th>Preferred Stock</th>\n",
       "      <th>Retained Earnings</th>\n",
       "      <th>Receivables</th>\n",
       "      <th>Net Sales</th>\n",
       "      <th>Sale of Common and Preferred Stock</th>\n",
       "      <th>Income Taxes Payable</th>\n",
       "      <th>Total Income Taxes</th>\n",
       "      <th>Interest and Related Expense</th>\n",
       "      <th>Price Close, Annual, Fiscal</th>\n",
       "    </tr>\n",
       "  </thead>\n",
       "  <tbody>\n",
       "    <tr>\n",
       "      <th>148904</th>\n",
       "      <td>1084</td>\n",
       "      <td>2019</td>\n",
       "      <td>1.571</td>\n",
       "      <td>0.841</td>\n",
       "      <td>1.774</td>\n",
       "      <td>-1.445</td>\n",
       "      <td>1.571</td>\n",
       "      <td>0.000</td>\n",
       "      <td>56.815</td>\n",
       "      <td>0.773</td>\n",
       "      <td>...</td>\n",
       "      <td>0.000</td>\n",
       "      <td>0.0</td>\n",
       "      <td>-42.399</td>\n",
       "      <td>0.000</td>\n",
       "      <td>0.000</td>\n",
       "      <td>0.000</td>\n",
       "      <td>0.000</td>\n",
       "      <td>0.000</td>\n",
       "      <td>0.083</td>\n",
       "      <td>0.230</td>\n",
       "    </tr>\n",
       "    <tr>\n",
       "      <th>148905</th>\n",
       "      <td>1096</td>\n",
       "      <td>2019</td>\n",
       "      <td>222.852</td>\n",
       "      <td>185.904</td>\n",
       "      <td>11703.084</td>\n",
       "      <td>3548.906</td>\n",
       "      <td>123.168</td>\n",
       "      <td>588.047</td>\n",
       "      <td>11.283</td>\n",
       "      <td>919.871</td>\n",
       "      <td>...</td>\n",
       "      <td>10947.978</td>\n",
       "      <td>0.0</td>\n",
       "      <td>3446.480</td>\n",
       "      <td>80.588</td>\n",
       "      <td>1192.973</td>\n",
       "      <td>0.000</td>\n",
       "      <td>0.000</td>\n",
       "      <td>36.695</td>\n",
       "      <td>236.398</td>\n",
       "      <td>201.000</td>\n",
       "    </tr>\n",
       "    <tr>\n",
       "      <th>148906</th>\n",
       "      <td>1121</td>\n",
       "      <td>2019</td>\n",
       "      <td>247.324</td>\n",
       "      <td>147.856</td>\n",
       "      <td>330.842</td>\n",
       "      <td>151.641</td>\n",
       "      <td>122.255</td>\n",
       "      <td>1776.608</td>\n",
       "      <td>4.236</td>\n",
       "      <td>4.419</td>\n",
       "      <td>...</td>\n",
       "      <td>173.820</td>\n",
       "      <td>0.0</td>\n",
       "      <td>138.440</td>\n",
       "      <td>97.103</td>\n",
       "      <td>1811.247</td>\n",
       "      <td>0.000</td>\n",
       "      <td>0.000</td>\n",
       "      <td>2.296</td>\n",
       "      <td>0.636</td>\n",
       "      <td>38.070</td>\n",
       "    </tr>\n",
       "    <tr>\n",
       "      <th>148907</th>\n",
       "      <td>1161</td>\n",
       "      <td>2019</td>\n",
       "      <td>4597.000</td>\n",
       "      <td>1201.000</td>\n",
       "      <td>6028.000</td>\n",
       "      <td>2827.000</td>\n",
       "      <td>1507.000</td>\n",
       "      <td>3721.000</td>\n",
       "      <td>1170.000</td>\n",
       "      <td>43.000</td>\n",
       "      <td>...</td>\n",
       "      <td>1473.000</td>\n",
       "      <td>0.0</td>\n",
       "      <td>-7095.000</td>\n",
       "      <td>1879.000</td>\n",
       "      <td>6731.000</td>\n",
       "      <td>523.000</td>\n",
       "      <td>0.000</td>\n",
       "      <td>31.000</td>\n",
       "      <td>94.000</td>\n",
       "      <td>45.860</td>\n",
       "    </tr>\n",
       "    <tr>\n",
       "      <th>148908</th>\n",
       "      <td>1166</td>\n",
       "      <td>2019</td>\n",
       "      <td>1060.796</td>\n",
       "      <td>134.338</td>\n",
       "      <td>2440.903</td>\n",
       "      <td>2040.859</td>\n",
       "      <td>558.706</td>\n",
       "      <td>641.695</td>\n",
       "      <td>48.866</td>\n",
       "      <td>7.858</td>\n",
       "      <td>...</td>\n",
       "      <td>545.053</td>\n",
       "      <td>0.0</td>\n",
       "      <td>2179.986</td>\n",
       "      <td>284.473</td>\n",
       "      <td>1262.075</td>\n",
       "      <td>7.594</td>\n",
       "      <td>38.826</td>\n",
       "      <td>60.205</td>\n",
       "      <td>1.982</td>\n",
       "      <td>112.418</td>\n",
       "    </tr>\n",
       "  </tbody>\n",
       "</table>\n",
       "<p>5 rows × 30 columns</p>\n",
       "</div>"
      ],
      "text/plain": [
       "        gvkey  Year  Current Assets  Accounts Payable  Total Assets  \\\n",
       "148904   1084  2019           1.571             0.841         1.774   \n",
       "148905   1096  2019         222.852           185.904     11703.084   \n",
       "148906   1121  2019         247.324           147.856       330.842   \n",
       "148907   1161  2019        4597.000          1201.000      6028.000   \n",
       "148908   1166  2019        1060.796           134.338      2440.903   \n",
       "\n",
       "        Common Equity  Cash and Short-Term Investments  Cost of Goods Sold  \\\n",
       "148904         -1.445                            1.571               0.000   \n",
       "148905       3548.906                          123.168             588.047   \n",
       "148906        151.641                          122.255            1776.608   \n",
       "148907       2827.000                         1507.000            3721.000   \n",
       "148908       2040.859                          558.706             641.695   \n",
       "\n",
       "        Common Shares Outstanding  Debt in Current Liabilities  ...  \\\n",
       "148904                     56.815                        0.773  ...   \n",
       "148905                     11.283                      919.871  ...   \n",
       "148906                      4.236                        4.419  ...   \n",
       "148907                   1170.000                       43.000  ...   \n",
       "148908                     48.866                        7.858  ...   \n",
       "\n",
       "        Property, Plant, and Equipment  Preferred Stock  Retained Earnings  \\\n",
       "148904                           0.000              0.0            -42.399   \n",
       "148905                       10947.978              0.0           3446.480   \n",
       "148906                         173.820              0.0            138.440   \n",
       "148907                        1473.000              0.0          -7095.000   \n",
       "148908                         545.053              0.0           2179.986   \n",
       "\n",
       "        Receivables  Net Sales  Sale of Common and Preferred Stock  \\\n",
       "148904        0.000      0.000                               0.000   \n",
       "148905       80.588   1192.973                               0.000   \n",
       "148906       97.103   1811.247                               0.000   \n",
       "148907     1879.000   6731.000                             523.000   \n",
       "148908      284.473   1262.075                               7.594   \n",
       "\n",
       "        Income Taxes Payable  Total Income Taxes  \\\n",
       "148904                 0.000               0.000   \n",
       "148905                 0.000              36.695   \n",
       "148906                 0.000               2.296   \n",
       "148907                 0.000              31.000   \n",
       "148908                38.826              60.205   \n",
       "\n",
       "        Interest and Related Expense  Price Close, Annual, Fiscal  \n",
       "148904                         0.083                        0.230  \n",
       "148905                       236.398                      201.000  \n",
       "148906                         0.636                       38.070  \n",
       "148907                        94.000                       45.860  \n",
       "148908                         1.982                      112.418  \n",
       "\n",
       "[5 rows x 30 columns]"
      ]
     },
     "execution_count": 34,
     "metadata": {},
     "output_type": "execute_result"
    }
   ],
   "source": [
    "df3 = pd.read_csv(\"Documents/full_sample.csv\")\n",
    "df3.head()\n",
    "df3.drop(labels=['tic', 'cusip', 'exchg','sich','conm'], axis=1, inplace=True)\n",
    "df3.head()\n",
    "dffin3 = df3[df3['Year'] > 2018]\n",
    "data_test_contemporary = dffin3.dropna()\n",
    "data_test_contemporary.head()"
   ]
  },
  {
   "cell_type": "markdown",
   "metadata": {},
   "source": [
    "### Setting up Pycaret classification environment. Notice that we are stratiying our data in the based on target variable 'Fraud', as well as doing our fold strategy grouping by 'gvkey' which is a unique identifier for the company"
   ]
  },
  {
   "cell_type": "code",
   "execution_count": 28,
   "metadata": {},
   "outputs": [
    {
     "data": {
      "text/html": [
       "<style type=\"text/css\">\n",
       "#T_ce3f9_row29_col1, #T_ce3f9_row44_col1 {\n",
       "  background-color: lightgreen;\n",
       "}\n",
       "</style>\n",
       "<table id=\"T_ce3f9\">\n",
       "  <thead>\n",
       "    <tr>\n",
       "      <th class=\"blank level0\" >&nbsp;</th>\n",
       "      <th id=\"T_ce3f9_level0_col0\" class=\"col_heading level0 col0\" >Description</th>\n",
       "      <th id=\"T_ce3f9_level0_col1\" class=\"col_heading level0 col1\" >Value</th>\n",
       "    </tr>\n",
       "  </thead>\n",
       "  <tbody>\n",
       "    <tr>\n",
       "      <th id=\"T_ce3f9_level0_row0\" class=\"row_heading level0 row0\" >0</th>\n",
       "      <td id=\"T_ce3f9_row0_col0\" class=\"data row0 col0\" >session_id</td>\n",
       "      <td id=\"T_ce3f9_row0_col1\" class=\"data row0 col1\" >3418</td>\n",
       "    </tr>\n",
       "    <tr>\n",
       "      <th id=\"T_ce3f9_level0_row1\" class=\"row_heading level0 row1\" >1</th>\n",
       "      <td id=\"T_ce3f9_row1_col0\" class=\"data row1 col0\" >Target</td>\n",
       "      <td id=\"T_ce3f9_row1_col1\" class=\"data row1 col1\" >Fraud</td>\n",
       "    </tr>\n",
       "    <tr>\n",
       "      <th id=\"T_ce3f9_level0_row2\" class=\"row_heading level0 row2\" >2</th>\n",
       "      <td id=\"T_ce3f9_row2_col0\" class=\"data row2 col0\" >Target Type</td>\n",
       "      <td id=\"T_ce3f9_row2_col1\" class=\"data row2 col1\" >Binary</td>\n",
       "    </tr>\n",
       "    <tr>\n",
       "      <th id=\"T_ce3f9_level0_row3\" class=\"row_heading level0 row3\" >3</th>\n",
       "      <td id=\"T_ce3f9_row3_col0\" class=\"data row3 col0\" >Label Encoded</td>\n",
       "      <td id=\"T_ce3f9_row3_col1\" class=\"data row3 col1\" >0.0: 0, 1.0: 1</td>\n",
       "    </tr>\n",
       "    <tr>\n",
       "      <th id=\"T_ce3f9_level0_row4\" class=\"row_heading level0 row4\" >4</th>\n",
       "      <td id=\"T_ce3f9_row4_col0\" class=\"data row4 col0\" >Original Data</td>\n",
       "      <td id=\"T_ce3f9_row4_col1\" class=\"data row4 col1\" >(107369, 31)</td>\n",
       "    </tr>\n",
       "    <tr>\n",
       "      <th id=\"T_ce3f9_level0_row5\" class=\"row_heading level0 row5\" >5</th>\n",
       "      <td id=\"T_ce3f9_row5_col0\" class=\"data row5 col0\" >Missing Values</td>\n",
       "      <td id=\"T_ce3f9_row5_col1\" class=\"data row5 col1\" >False</td>\n",
       "    </tr>\n",
       "    <tr>\n",
       "      <th id=\"T_ce3f9_level0_row6\" class=\"row_heading level0 row6\" >6</th>\n",
       "      <td id=\"T_ce3f9_row6_col0\" class=\"data row6 col0\" >Numeric Features</td>\n",
       "      <td id=\"T_ce3f9_row6_col1\" class=\"data row6 col1\" >30</td>\n",
       "    </tr>\n",
       "    <tr>\n",
       "      <th id=\"T_ce3f9_level0_row7\" class=\"row_heading level0 row7\" >7</th>\n",
       "      <td id=\"T_ce3f9_row7_col0\" class=\"data row7 col0\" >Categorical Features</td>\n",
       "      <td id=\"T_ce3f9_row7_col1\" class=\"data row7 col1\" >0</td>\n",
       "    </tr>\n",
       "    <tr>\n",
       "      <th id=\"T_ce3f9_level0_row8\" class=\"row_heading level0 row8\" >8</th>\n",
       "      <td id=\"T_ce3f9_row8_col0\" class=\"data row8 col0\" >Ordinal Features</td>\n",
       "      <td id=\"T_ce3f9_row8_col1\" class=\"data row8 col1\" >False</td>\n",
       "    </tr>\n",
       "    <tr>\n",
       "      <th id=\"T_ce3f9_level0_row9\" class=\"row_heading level0 row9\" >9</th>\n",
       "      <td id=\"T_ce3f9_row9_col0\" class=\"data row9 col0\" >High Cardinality Features</td>\n",
       "      <td id=\"T_ce3f9_row9_col1\" class=\"data row9 col1\" >False</td>\n",
       "    </tr>\n",
       "    <tr>\n",
       "      <th id=\"T_ce3f9_level0_row10\" class=\"row_heading level0 row10\" >10</th>\n",
       "      <td id=\"T_ce3f9_row10_col0\" class=\"data row10 col0\" >High Cardinality Method</td>\n",
       "      <td id=\"T_ce3f9_row10_col1\" class=\"data row10 col1\" >None</td>\n",
       "    </tr>\n",
       "    <tr>\n",
       "      <th id=\"T_ce3f9_level0_row11\" class=\"row_heading level0 row11\" >11</th>\n",
       "      <td id=\"T_ce3f9_row11_col0\" class=\"data row11 col0\" >Transformed Train Set</td>\n",
       "      <td id=\"T_ce3f9_row11_col1\" class=\"data row11 col1\" >(75158, 30)</td>\n",
       "    </tr>\n",
       "    <tr>\n",
       "      <th id=\"T_ce3f9_level0_row12\" class=\"row_heading level0 row12\" >12</th>\n",
       "      <td id=\"T_ce3f9_row12_col0\" class=\"data row12 col0\" >Transformed Test Set</td>\n",
       "      <td id=\"T_ce3f9_row12_col1\" class=\"data row12 col1\" >(32211, 30)</td>\n",
       "    </tr>\n",
       "    <tr>\n",
       "      <th id=\"T_ce3f9_level0_row13\" class=\"row_heading level0 row13\" >13</th>\n",
       "      <td id=\"T_ce3f9_row13_col0\" class=\"data row13 col0\" >Shuffle Train-Test</td>\n",
       "      <td id=\"T_ce3f9_row13_col1\" class=\"data row13 col1\" >True</td>\n",
       "    </tr>\n",
       "    <tr>\n",
       "      <th id=\"T_ce3f9_level0_row14\" class=\"row_heading level0 row14\" >14</th>\n",
       "      <td id=\"T_ce3f9_row14_col0\" class=\"data row14 col0\" >Stratify Train-Test</td>\n",
       "      <td id=\"T_ce3f9_row14_col1\" class=\"data row14 col1\" >True</td>\n",
       "    </tr>\n",
       "    <tr>\n",
       "      <th id=\"T_ce3f9_level0_row15\" class=\"row_heading level0 row15\" >15</th>\n",
       "      <td id=\"T_ce3f9_row15_col0\" class=\"data row15 col0\" >Fold Generator</td>\n",
       "      <td id=\"T_ce3f9_row15_col1\" class=\"data row15 col1\" >GroupKFold</td>\n",
       "    </tr>\n",
       "    <tr>\n",
       "      <th id=\"T_ce3f9_level0_row16\" class=\"row_heading level0 row16\" >16</th>\n",
       "      <td id=\"T_ce3f9_row16_col0\" class=\"data row16 col0\" >Fold Number</td>\n",
       "      <td id=\"T_ce3f9_row16_col1\" class=\"data row16 col1\" >10</td>\n",
       "    </tr>\n",
       "    <tr>\n",
       "      <th id=\"T_ce3f9_level0_row17\" class=\"row_heading level0 row17\" >17</th>\n",
       "      <td id=\"T_ce3f9_row17_col0\" class=\"data row17 col0\" >CPU Jobs</td>\n",
       "      <td id=\"T_ce3f9_row17_col1\" class=\"data row17 col1\" >-1</td>\n",
       "    </tr>\n",
       "    <tr>\n",
       "      <th id=\"T_ce3f9_level0_row18\" class=\"row_heading level0 row18\" >18</th>\n",
       "      <td id=\"T_ce3f9_row18_col0\" class=\"data row18 col0\" >Use GPU</td>\n",
       "      <td id=\"T_ce3f9_row18_col1\" class=\"data row18 col1\" >False</td>\n",
       "    </tr>\n",
       "    <tr>\n",
       "      <th id=\"T_ce3f9_level0_row19\" class=\"row_heading level0 row19\" >19</th>\n",
       "      <td id=\"T_ce3f9_row19_col0\" class=\"data row19 col0\" >Log Experiment</td>\n",
       "      <td id=\"T_ce3f9_row19_col1\" class=\"data row19 col1\" >False</td>\n",
       "    </tr>\n",
       "    <tr>\n",
       "      <th id=\"T_ce3f9_level0_row20\" class=\"row_heading level0 row20\" >20</th>\n",
       "      <td id=\"T_ce3f9_row20_col0\" class=\"data row20 col0\" >Experiment Name</td>\n",
       "      <td id=\"T_ce3f9_row20_col1\" class=\"data row20 col1\" >clf-default-name</td>\n",
       "    </tr>\n",
       "    <tr>\n",
       "      <th id=\"T_ce3f9_level0_row21\" class=\"row_heading level0 row21\" >21</th>\n",
       "      <td id=\"T_ce3f9_row21_col0\" class=\"data row21 col0\" >USI</td>\n",
       "      <td id=\"T_ce3f9_row21_col1\" class=\"data row21 col1\" >fcb8</td>\n",
       "    </tr>\n",
       "    <tr>\n",
       "      <th id=\"T_ce3f9_level0_row22\" class=\"row_heading level0 row22\" >22</th>\n",
       "      <td id=\"T_ce3f9_row22_col0\" class=\"data row22 col0\" >Imputation Type</td>\n",
       "      <td id=\"T_ce3f9_row22_col1\" class=\"data row22 col1\" >simple</td>\n",
       "    </tr>\n",
       "    <tr>\n",
       "      <th id=\"T_ce3f9_level0_row23\" class=\"row_heading level0 row23\" >23</th>\n",
       "      <td id=\"T_ce3f9_row23_col0\" class=\"data row23 col0\" >Iterative Imputation Iteration</td>\n",
       "      <td id=\"T_ce3f9_row23_col1\" class=\"data row23 col1\" >None</td>\n",
       "    </tr>\n",
       "    <tr>\n",
       "      <th id=\"T_ce3f9_level0_row24\" class=\"row_heading level0 row24\" >24</th>\n",
       "      <td id=\"T_ce3f9_row24_col0\" class=\"data row24 col0\" >Numeric Imputer</td>\n",
       "      <td id=\"T_ce3f9_row24_col1\" class=\"data row24 col1\" >mean</td>\n",
       "    </tr>\n",
       "    <tr>\n",
       "      <th id=\"T_ce3f9_level0_row25\" class=\"row_heading level0 row25\" >25</th>\n",
       "      <td id=\"T_ce3f9_row25_col0\" class=\"data row25 col0\" >Iterative Imputation Numeric Model</td>\n",
       "      <td id=\"T_ce3f9_row25_col1\" class=\"data row25 col1\" >None</td>\n",
       "    </tr>\n",
       "    <tr>\n",
       "      <th id=\"T_ce3f9_level0_row26\" class=\"row_heading level0 row26\" >26</th>\n",
       "      <td id=\"T_ce3f9_row26_col0\" class=\"data row26 col0\" >Categorical Imputer</td>\n",
       "      <td id=\"T_ce3f9_row26_col1\" class=\"data row26 col1\" >constant</td>\n",
       "    </tr>\n",
       "    <tr>\n",
       "      <th id=\"T_ce3f9_level0_row27\" class=\"row_heading level0 row27\" >27</th>\n",
       "      <td id=\"T_ce3f9_row27_col0\" class=\"data row27 col0\" >Iterative Imputation Categorical Model</td>\n",
       "      <td id=\"T_ce3f9_row27_col1\" class=\"data row27 col1\" >None</td>\n",
       "    </tr>\n",
       "    <tr>\n",
       "      <th id=\"T_ce3f9_level0_row28\" class=\"row_heading level0 row28\" >28</th>\n",
       "      <td id=\"T_ce3f9_row28_col0\" class=\"data row28 col0\" >Unknown Categoricals Handling</td>\n",
       "      <td id=\"T_ce3f9_row28_col1\" class=\"data row28 col1\" >least_frequent</td>\n",
       "    </tr>\n",
       "    <tr>\n",
       "      <th id=\"T_ce3f9_level0_row29\" class=\"row_heading level0 row29\" >29</th>\n",
       "      <td id=\"T_ce3f9_row29_col0\" class=\"data row29 col0\" >Normalize</td>\n",
       "      <td id=\"T_ce3f9_row29_col1\" class=\"data row29 col1\" >True</td>\n",
       "    </tr>\n",
       "    <tr>\n",
       "      <th id=\"T_ce3f9_level0_row30\" class=\"row_heading level0 row30\" >30</th>\n",
       "      <td id=\"T_ce3f9_row30_col0\" class=\"data row30 col0\" >Normalize Method</td>\n",
       "      <td id=\"T_ce3f9_row30_col1\" class=\"data row30 col1\" >zscore</td>\n",
       "    </tr>\n",
       "    <tr>\n",
       "      <th id=\"T_ce3f9_level0_row31\" class=\"row_heading level0 row31\" >31</th>\n",
       "      <td id=\"T_ce3f9_row31_col0\" class=\"data row31 col0\" >Transformation</td>\n",
       "      <td id=\"T_ce3f9_row31_col1\" class=\"data row31 col1\" >False</td>\n",
       "    </tr>\n",
       "    <tr>\n",
       "      <th id=\"T_ce3f9_level0_row32\" class=\"row_heading level0 row32\" >32</th>\n",
       "      <td id=\"T_ce3f9_row32_col0\" class=\"data row32 col0\" >Transformation Method</td>\n",
       "      <td id=\"T_ce3f9_row32_col1\" class=\"data row32 col1\" >None</td>\n",
       "    </tr>\n",
       "    <tr>\n",
       "      <th id=\"T_ce3f9_level0_row33\" class=\"row_heading level0 row33\" >33</th>\n",
       "      <td id=\"T_ce3f9_row33_col0\" class=\"data row33 col0\" >PCA</td>\n",
       "      <td id=\"T_ce3f9_row33_col1\" class=\"data row33 col1\" >False</td>\n",
       "    </tr>\n",
       "    <tr>\n",
       "      <th id=\"T_ce3f9_level0_row34\" class=\"row_heading level0 row34\" >34</th>\n",
       "      <td id=\"T_ce3f9_row34_col0\" class=\"data row34 col0\" >PCA Method</td>\n",
       "      <td id=\"T_ce3f9_row34_col1\" class=\"data row34 col1\" >None</td>\n",
       "    </tr>\n",
       "    <tr>\n",
       "      <th id=\"T_ce3f9_level0_row35\" class=\"row_heading level0 row35\" >35</th>\n",
       "      <td id=\"T_ce3f9_row35_col0\" class=\"data row35 col0\" >PCA Components</td>\n",
       "      <td id=\"T_ce3f9_row35_col1\" class=\"data row35 col1\" >None</td>\n",
       "    </tr>\n",
       "    <tr>\n",
       "      <th id=\"T_ce3f9_level0_row36\" class=\"row_heading level0 row36\" >36</th>\n",
       "      <td id=\"T_ce3f9_row36_col0\" class=\"data row36 col0\" >Ignore Low Variance</td>\n",
       "      <td id=\"T_ce3f9_row36_col1\" class=\"data row36 col1\" >False</td>\n",
       "    </tr>\n",
       "    <tr>\n",
       "      <th id=\"T_ce3f9_level0_row37\" class=\"row_heading level0 row37\" >37</th>\n",
       "      <td id=\"T_ce3f9_row37_col0\" class=\"data row37 col0\" >Combine Rare Levels</td>\n",
       "      <td id=\"T_ce3f9_row37_col1\" class=\"data row37 col1\" >False</td>\n",
       "    </tr>\n",
       "    <tr>\n",
       "      <th id=\"T_ce3f9_level0_row38\" class=\"row_heading level0 row38\" >38</th>\n",
       "      <td id=\"T_ce3f9_row38_col0\" class=\"data row38 col0\" >Rare Level Threshold</td>\n",
       "      <td id=\"T_ce3f9_row38_col1\" class=\"data row38 col1\" >None</td>\n",
       "    </tr>\n",
       "    <tr>\n",
       "      <th id=\"T_ce3f9_level0_row39\" class=\"row_heading level0 row39\" >39</th>\n",
       "      <td id=\"T_ce3f9_row39_col0\" class=\"data row39 col0\" >Numeric Binning</td>\n",
       "      <td id=\"T_ce3f9_row39_col1\" class=\"data row39 col1\" >False</td>\n",
       "    </tr>\n",
       "    <tr>\n",
       "      <th id=\"T_ce3f9_level0_row40\" class=\"row_heading level0 row40\" >40</th>\n",
       "      <td id=\"T_ce3f9_row40_col0\" class=\"data row40 col0\" >Remove Outliers</td>\n",
       "      <td id=\"T_ce3f9_row40_col1\" class=\"data row40 col1\" >False</td>\n",
       "    </tr>\n",
       "    <tr>\n",
       "      <th id=\"T_ce3f9_level0_row41\" class=\"row_heading level0 row41\" >41</th>\n",
       "      <td id=\"T_ce3f9_row41_col0\" class=\"data row41 col0\" >Outliers Threshold</td>\n",
       "      <td id=\"T_ce3f9_row41_col1\" class=\"data row41 col1\" >None</td>\n",
       "    </tr>\n",
       "    <tr>\n",
       "      <th id=\"T_ce3f9_level0_row42\" class=\"row_heading level0 row42\" >42</th>\n",
       "      <td id=\"T_ce3f9_row42_col0\" class=\"data row42 col0\" >Remove Multicollinearity</td>\n",
       "      <td id=\"T_ce3f9_row42_col1\" class=\"data row42 col1\" >False</td>\n",
       "    </tr>\n",
       "    <tr>\n",
       "      <th id=\"T_ce3f9_level0_row43\" class=\"row_heading level0 row43\" >43</th>\n",
       "      <td id=\"T_ce3f9_row43_col0\" class=\"data row43 col0\" >Multicollinearity Threshold</td>\n",
       "      <td id=\"T_ce3f9_row43_col1\" class=\"data row43 col1\" >None</td>\n",
       "    </tr>\n",
       "    <tr>\n",
       "      <th id=\"T_ce3f9_level0_row44\" class=\"row_heading level0 row44\" >44</th>\n",
       "      <td id=\"T_ce3f9_row44_col0\" class=\"data row44 col0\" >Remove Perfect Collinearity</td>\n",
       "      <td id=\"T_ce3f9_row44_col1\" class=\"data row44 col1\" >True</td>\n",
       "    </tr>\n",
       "    <tr>\n",
       "      <th id=\"T_ce3f9_level0_row45\" class=\"row_heading level0 row45\" >45</th>\n",
       "      <td id=\"T_ce3f9_row45_col0\" class=\"data row45 col0\" >Clustering</td>\n",
       "      <td id=\"T_ce3f9_row45_col1\" class=\"data row45 col1\" >False</td>\n",
       "    </tr>\n",
       "    <tr>\n",
       "      <th id=\"T_ce3f9_level0_row46\" class=\"row_heading level0 row46\" >46</th>\n",
       "      <td id=\"T_ce3f9_row46_col0\" class=\"data row46 col0\" >Clustering Iteration</td>\n",
       "      <td id=\"T_ce3f9_row46_col1\" class=\"data row46 col1\" >None</td>\n",
       "    </tr>\n",
       "    <tr>\n",
       "      <th id=\"T_ce3f9_level0_row47\" class=\"row_heading level0 row47\" >47</th>\n",
       "      <td id=\"T_ce3f9_row47_col0\" class=\"data row47 col0\" >Polynomial Features</td>\n",
       "      <td id=\"T_ce3f9_row47_col1\" class=\"data row47 col1\" >False</td>\n",
       "    </tr>\n",
       "    <tr>\n",
       "      <th id=\"T_ce3f9_level0_row48\" class=\"row_heading level0 row48\" >48</th>\n",
       "      <td id=\"T_ce3f9_row48_col0\" class=\"data row48 col0\" >Polynomial Degree</td>\n",
       "      <td id=\"T_ce3f9_row48_col1\" class=\"data row48 col1\" >None</td>\n",
       "    </tr>\n",
       "    <tr>\n",
       "      <th id=\"T_ce3f9_level0_row49\" class=\"row_heading level0 row49\" >49</th>\n",
       "      <td id=\"T_ce3f9_row49_col0\" class=\"data row49 col0\" >Trignometry Features</td>\n",
       "      <td id=\"T_ce3f9_row49_col1\" class=\"data row49 col1\" >False</td>\n",
       "    </tr>\n",
       "    <tr>\n",
       "      <th id=\"T_ce3f9_level0_row50\" class=\"row_heading level0 row50\" >50</th>\n",
       "      <td id=\"T_ce3f9_row50_col0\" class=\"data row50 col0\" >Polynomial Threshold</td>\n",
       "      <td id=\"T_ce3f9_row50_col1\" class=\"data row50 col1\" >None</td>\n",
       "    </tr>\n",
       "    <tr>\n",
       "      <th id=\"T_ce3f9_level0_row51\" class=\"row_heading level0 row51\" >51</th>\n",
       "      <td id=\"T_ce3f9_row51_col0\" class=\"data row51 col0\" >Group Features</td>\n",
       "      <td id=\"T_ce3f9_row51_col1\" class=\"data row51 col1\" >False</td>\n",
       "    </tr>\n",
       "    <tr>\n",
       "      <th id=\"T_ce3f9_level0_row52\" class=\"row_heading level0 row52\" >52</th>\n",
       "      <td id=\"T_ce3f9_row52_col0\" class=\"data row52 col0\" >Feature Selection</td>\n",
       "      <td id=\"T_ce3f9_row52_col1\" class=\"data row52 col1\" >False</td>\n",
       "    </tr>\n",
       "    <tr>\n",
       "      <th id=\"T_ce3f9_level0_row53\" class=\"row_heading level0 row53\" >53</th>\n",
       "      <td id=\"T_ce3f9_row53_col0\" class=\"data row53 col0\" >Feature Selection Method</td>\n",
       "      <td id=\"T_ce3f9_row53_col1\" class=\"data row53 col1\" >classic</td>\n",
       "    </tr>\n",
       "    <tr>\n",
       "      <th id=\"T_ce3f9_level0_row54\" class=\"row_heading level0 row54\" >54</th>\n",
       "      <td id=\"T_ce3f9_row54_col0\" class=\"data row54 col0\" >Features Selection Threshold</td>\n",
       "      <td id=\"T_ce3f9_row54_col1\" class=\"data row54 col1\" >None</td>\n",
       "    </tr>\n",
       "    <tr>\n",
       "      <th id=\"T_ce3f9_level0_row55\" class=\"row_heading level0 row55\" >55</th>\n",
       "      <td id=\"T_ce3f9_row55_col0\" class=\"data row55 col0\" >Feature Interaction</td>\n",
       "      <td id=\"T_ce3f9_row55_col1\" class=\"data row55 col1\" >False</td>\n",
       "    </tr>\n",
       "    <tr>\n",
       "      <th id=\"T_ce3f9_level0_row56\" class=\"row_heading level0 row56\" >56</th>\n",
       "      <td id=\"T_ce3f9_row56_col0\" class=\"data row56 col0\" >Feature Ratio</td>\n",
       "      <td id=\"T_ce3f9_row56_col1\" class=\"data row56 col1\" >False</td>\n",
       "    </tr>\n",
       "    <tr>\n",
       "      <th id=\"T_ce3f9_level0_row57\" class=\"row_heading level0 row57\" >57</th>\n",
       "      <td id=\"T_ce3f9_row57_col0\" class=\"data row57 col0\" >Interaction Threshold</td>\n",
       "      <td id=\"T_ce3f9_row57_col1\" class=\"data row57 col1\" >None</td>\n",
       "    </tr>\n",
       "    <tr>\n",
       "      <th id=\"T_ce3f9_level0_row58\" class=\"row_heading level0 row58\" >58</th>\n",
       "      <td id=\"T_ce3f9_row58_col0\" class=\"data row58 col0\" >Fix Imbalance</td>\n",
       "      <td id=\"T_ce3f9_row58_col1\" class=\"data row58 col1\" >False</td>\n",
       "    </tr>\n",
       "    <tr>\n",
       "      <th id=\"T_ce3f9_level0_row59\" class=\"row_heading level0 row59\" >59</th>\n",
       "      <td id=\"T_ce3f9_row59_col0\" class=\"data row59 col0\" >Fix Imbalance Method</td>\n",
       "      <td id=\"T_ce3f9_row59_col1\" class=\"data row59 col1\" >SMOTE</td>\n",
       "    </tr>\n",
       "  </tbody>\n",
       "</table>\n"
      ],
      "text/plain": [
       "<pandas.io.formats.style.Styler at 0x181346fc1f0>"
      ]
     },
     "metadata": {},
     "output_type": "display_data"
    }
   ],
   "source": [
    "s = setup(data, target = 'Fraud', normalize = True, data_split_stratify = True, fold_strategy = 'groupkfold', fold_groups = 'gvkey')"
   ]
  },
  {
   "cell_type": "markdown",
   "metadata": {},
   "source": [
    "### Instantiate the Multi Layer Perceptron Neural Network Model"
   ]
  },
  {
   "cell_type": "code",
   "execution_count": 29,
   "metadata": {},
   "outputs": [
    {
     "data": {
      "text/html": [
       "<style type=\"text/css\">\n",
       "#T_e8103_row10_col0, #T_e8103_row10_col1, #T_e8103_row10_col2, #T_e8103_row10_col3, #T_e8103_row10_col4, #T_e8103_row10_col5, #T_e8103_row10_col6 {\n",
       "  background: yellow;\n",
       "}\n",
       "</style>\n",
       "<table id=\"T_e8103\">\n",
       "  <thead>\n",
       "    <tr>\n",
       "      <th class=\"blank level0\" >&nbsp;</th>\n",
       "      <th id=\"T_e8103_level0_col0\" class=\"col_heading level0 col0\" >Accuracy</th>\n",
       "      <th id=\"T_e8103_level0_col1\" class=\"col_heading level0 col1\" >AUC</th>\n",
       "      <th id=\"T_e8103_level0_col2\" class=\"col_heading level0 col2\" >Recall</th>\n",
       "      <th id=\"T_e8103_level0_col3\" class=\"col_heading level0 col3\" >Prec.</th>\n",
       "      <th id=\"T_e8103_level0_col4\" class=\"col_heading level0 col4\" >F1</th>\n",
       "      <th id=\"T_e8103_level0_col5\" class=\"col_heading level0 col5\" >Kappa</th>\n",
       "      <th id=\"T_e8103_level0_col6\" class=\"col_heading level0 col6\" >MCC</th>\n",
       "    </tr>\n",
       "    <tr>\n",
       "      <th class=\"index_name level0\" >Fold</th>\n",
       "      <th class=\"blank col0\" >&nbsp;</th>\n",
       "      <th class=\"blank col1\" >&nbsp;</th>\n",
       "      <th class=\"blank col2\" >&nbsp;</th>\n",
       "      <th class=\"blank col3\" >&nbsp;</th>\n",
       "      <th class=\"blank col4\" >&nbsp;</th>\n",
       "      <th class=\"blank col5\" >&nbsp;</th>\n",
       "      <th class=\"blank col6\" >&nbsp;</th>\n",
       "    </tr>\n",
       "  </thead>\n",
       "  <tbody>\n",
       "    <tr>\n",
       "      <th id=\"T_e8103_level0_row0\" class=\"row_heading level0 row0\" >0</th>\n",
       "      <td id=\"T_e8103_row0_col0\" class=\"data row0 col0\" >0.9927</td>\n",
       "      <td id=\"T_e8103_row0_col1\" class=\"data row0 col1\" >0.7502</td>\n",
       "      <td id=\"T_e8103_row0_col2\" class=\"data row0 col2\" >0.0000</td>\n",
       "      <td id=\"T_e8103_row0_col3\" class=\"data row0 col3\" >0.0000</td>\n",
       "      <td id=\"T_e8103_row0_col4\" class=\"data row0 col4\" >0.0000</td>\n",
       "      <td id=\"T_e8103_row0_col5\" class=\"data row0 col5\" >0.0000</td>\n",
       "      <td id=\"T_e8103_row0_col6\" class=\"data row0 col6\" >0.0000</td>\n",
       "    </tr>\n",
       "    <tr>\n",
       "      <th id=\"T_e8103_level0_row1\" class=\"row_heading level0 row1\" >1</th>\n",
       "      <td id=\"T_e8103_row1_col0\" class=\"data row1 col0\" >0.9918</td>\n",
       "      <td id=\"T_e8103_row1_col1\" class=\"data row1 col1\" >0.7223</td>\n",
       "      <td id=\"T_e8103_row1_col2\" class=\"data row1 col2\" >0.0000</td>\n",
       "      <td id=\"T_e8103_row1_col3\" class=\"data row1 col3\" >0.0000</td>\n",
       "      <td id=\"T_e8103_row1_col4\" class=\"data row1 col4\" >0.0000</td>\n",
       "      <td id=\"T_e8103_row1_col5\" class=\"data row1 col5\" >0.0000</td>\n",
       "      <td id=\"T_e8103_row1_col6\" class=\"data row1 col6\" >0.0000</td>\n",
       "    </tr>\n",
       "    <tr>\n",
       "      <th id=\"T_e8103_level0_row2\" class=\"row_heading level0 row2\" >2</th>\n",
       "      <td id=\"T_e8103_row2_col0\" class=\"data row2 col0\" >0.9924</td>\n",
       "      <td id=\"T_e8103_row2_col1\" class=\"data row2 col1\" >0.7796</td>\n",
       "      <td id=\"T_e8103_row2_col2\" class=\"data row2 col2\" >0.0000</td>\n",
       "      <td id=\"T_e8103_row2_col3\" class=\"data row2 col3\" >0.0000</td>\n",
       "      <td id=\"T_e8103_row2_col4\" class=\"data row2 col4\" >0.0000</td>\n",
       "      <td id=\"T_e8103_row2_col5\" class=\"data row2 col5\" >0.0000</td>\n",
       "      <td id=\"T_e8103_row2_col6\" class=\"data row2 col6\" >0.0000</td>\n",
       "    </tr>\n",
       "    <tr>\n",
       "      <th id=\"T_e8103_level0_row3\" class=\"row_heading level0 row3\" >3</th>\n",
       "      <td id=\"T_e8103_row3_col0\" class=\"data row3 col0\" >0.9915</td>\n",
       "      <td id=\"T_e8103_row3_col1\" class=\"data row3 col1\" >0.6247</td>\n",
       "      <td id=\"T_e8103_row3_col2\" class=\"data row3 col2\" >0.0000</td>\n",
       "      <td id=\"T_e8103_row3_col3\" class=\"data row3 col3\" >0.0000</td>\n",
       "      <td id=\"T_e8103_row3_col4\" class=\"data row3 col4\" >0.0000</td>\n",
       "      <td id=\"T_e8103_row3_col5\" class=\"data row3 col5\" >0.0000</td>\n",
       "      <td id=\"T_e8103_row3_col6\" class=\"data row3 col6\" >0.0000</td>\n",
       "    </tr>\n",
       "    <tr>\n",
       "      <th id=\"T_e8103_level0_row4\" class=\"row_heading level0 row4\" >4</th>\n",
       "      <td id=\"T_e8103_row4_col0\" class=\"data row4 col0\" >0.9929</td>\n",
       "      <td id=\"T_e8103_row4_col1\" class=\"data row4 col1\" >0.6619</td>\n",
       "      <td id=\"T_e8103_row4_col2\" class=\"data row4 col2\" >0.0000</td>\n",
       "      <td id=\"T_e8103_row4_col3\" class=\"data row4 col3\" >0.0000</td>\n",
       "      <td id=\"T_e8103_row4_col4\" class=\"data row4 col4\" >0.0000</td>\n",
       "      <td id=\"T_e8103_row4_col5\" class=\"data row4 col5\" >0.0000</td>\n",
       "      <td id=\"T_e8103_row4_col6\" class=\"data row4 col6\" >0.0000</td>\n",
       "    </tr>\n",
       "    <tr>\n",
       "      <th id=\"T_e8103_level0_row5\" class=\"row_heading level0 row5\" >5</th>\n",
       "      <td id=\"T_e8103_row5_col0\" class=\"data row5 col0\" >0.9922</td>\n",
       "      <td id=\"T_e8103_row5_col1\" class=\"data row5 col1\" >0.7192</td>\n",
       "      <td id=\"T_e8103_row5_col2\" class=\"data row5 col2\" >0.0000</td>\n",
       "      <td id=\"T_e8103_row5_col3\" class=\"data row5 col3\" >0.0000</td>\n",
       "      <td id=\"T_e8103_row5_col4\" class=\"data row5 col4\" >0.0000</td>\n",
       "      <td id=\"T_e8103_row5_col5\" class=\"data row5 col5\" >0.0000</td>\n",
       "      <td id=\"T_e8103_row5_col6\" class=\"data row5 col6\" >0.0000</td>\n",
       "    </tr>\n",
       "    <tr>\n",
       "      <th id=\"T_e8103_level0_row6\" class=\"row_heading level0 row6\" >6</th>\n",
       "      <td id=\"T_e8103_row6_col0\" class=\"data row6 col0\" >0.9932</td>\n",
       "      <td id=\"T_e8103_row6_col1\" class=\"data row6 col1\" >0.6899</td>\n",
       "      <td id=\"T_e8103_row6_col2\" class=\"data row6 col2\" >0.0000</td>\n",
       "      <td id=\"T_e8103_row6_col3\" class=\"data row6 col3\" >0.0000</td>\n",
       "      <td id=\"T_e8103_row6_col4\" class=\"data row6 col4\" >0.0000</td>\n",
       "      <td id=\"T_e8103_row6_col5\" class=\"data row6 col5\" >0.0000</td>\n",
       "      <td id=\"T_e8103_row6_col6\" class=\"data row6 col6\" >0.0000</td>\n",
       "    </tr>\n",
       "    <tr>\n",
       "      <th id=\"T_e8103_level0_row7\" class=\"row_heading level0 row7\" >7</th>\n",
       "      <td id=\"T_e8103_row7_col0\" class=\"data row7 col0\" >0.9933</td>\n",
       "      <td id=\"T_e8103_row7_col1\" class=\"data row7 col1\" >0.7210</td>\n",
       "      <td id=\"T_e8103_row7_col2\" class=\"data row7 col2\" >0.0000</td>\n",
       "      <td id=\"T_e8103_row7_col3\" class=\"data row7 col3\" >0.0000</td>\n",
       "      <td id=\"T_e8103_row7_col4\" class=\"data row7 col4\" >0.0000</td>\n",
       "      <td id=\"T_e8103_row7_col5\" class=\"data row7 col5\" >0.0000</td>\n",
       "      <td id=\"T_e8103_row7_col6\" class=\"data row7 col6\" >0.0000</td>\n",
       "    </tr>\n",
       "    <tr>\n",
       "      <th id=\"T_e8103_level0_row8\" class=\"row_heading level0 row8\" >8</th>\n",
       "      <td id=\"T_e8103_row8_col0\" class=\"data row8 col0\" >0.9911</td>\n",
       "      <td id=\"T_e8103_row8_col1\" class=\"data row8 col1\" >0.6920</td>\n",
       "      <td id=\"T_e8103_row8_col2\" class=\"data row8 col2\" >0.0000</td>\n",
       "      <td id=\"T_e8103_row8_col3\" class=\"data row8 col3\" >0.0000</td>\n",
       "      <td id=\"T_e8103_row8_col4\" class=\"data row8 col4\" >0.0000</td>\n",
       "      <td id=\"T_e8103_row8_col5\" class=\"data row8 col5\" >0.0000</td>\n",
       "      <td id=\"T_e8103_row8_col6\" class=\"data row8 col6\" >0.0000</td>\n",
       "    </tr>\n",
       "    <tr>\n",
       "      <th id=\"T_e8103_level0_row9\" class=\"row_heading level0 row9\" >9</th>\n",
       "      <td id=\"T_e8103_row9_col0\" class=\"data row9 col0\" >0.9920</td>\n",
       "      <td id=\"T_e8103_row9_col1\" class=\"data row9 col1\" >0.6939</td>\n",
       "      <td id=\"T_e8103_row9_col2\" class=\"data row9 col2\" >0.0000</td>\n",
       "      <td id=\"T_e8103_row9_col3\" class=\"data row9 col3\" >0.0000</td>\n",
       "      <td id=\"T_e8103_row9_col4\" class=\"data row9 col4\" >0.0000</td>\n",
       "      <td id=\"T_e8103_row9_col5\" class=\"data row9 col5\" >0.0000</td>\n",
       "      <td id=\"T_e8103_row9_col6\" class=\"data row9 col6\" >0.0000</td>\n",
       "    </tr>\n",
       "    <tr>\n",
       "      <th id=\"T_e8103_level0_row10\" class=\"row_heading level0 row10\" >Mean</th>\n",
       "      <td id=\"T_e8103_row10_col0\" class=\"data row10 col0\" >0.9923</td>\n",
       "      <td id=\"T_e8103_row10_col1\" class=\"data row10 col1\" >0.7055</td>\n",
       "      <td id=\"T_e8103_row10_col2\" class=\"data row10 col2\" >0.0000</td>\n",
       "      <td id=\"T_e8103_row10_col3\" class=\"data row10 col3\" >0.0000</td>\n",
       "      <td id=\"T_e8103_row10_col4\" class=\"data row10 col4\" >0.0000</td>\n",
       "      <td id=\"T_e8103_row10_col5\" class=\"data row10 col5\" >0.0000</td>\n",
       "      <td id=\"T_e8103_row10_col6\" class=\"data row10 col6\" >0.0000</td>\n",
       "    </tr>\n",
       "    <tr>\n",
       "      <th id=\"T_e8103_level0_row11\" class=\"row_heading level0 row11\" >Std</th>\n",
       "      <td id=\"T_e8103_row11_col0\" class=\"data row11 col0\" >0.0007</td>\n",
       "      <td id=\"T_e8103_row11_col1\" class=\"data row11 col1\" >0.0415</td>\n",
       "      <td id=\"T_e8103_row11_col2\" class=\"data row11 col2\" >0.0000</td>\n",
       "      <td id=\"T_e8103_row11_col3\" class=\"data row11 col3\" >0.0000</td>\n",
       "      <td id=\"T_e8103_row11_col4\" class=\"data row11 col4\" >0.0000</td>\n",
       "      <td id=\"T_e8103_row11_col5\" class=\"data row11 col5\" >0.0000</td>\n",
       "      <td id=\"T_e8103_row11_col6\" class=\"data row11 col6\" >0.0000</td>\n",
       "    </tr>\n",
       "  </tbody>\n",
       "</table>\n"
      ],
      "text/plain": [
       "<pandas.io.formats.style.Styler at 0x1813af4ca90>"
      ]
     },
     "metadata": {},
     "output_type": "display_data"
    }
   ],
   "source": [
    "mlp = create_model('mlp', probability_threshold = 0.25, hidden_layer_sizes = [2,32])"
   ]
  },
  {
   "cell_type": "markdown",
   "metadata": {},
   "source": [
    "### Checking the Paramters of our initial model just to get a feel for what the baseline looks like"
   ]
  },
  {
   "cell_type": "code",
   "execution_count": 30,
   "metadata": {},
   "outputs": [
    {
     "name": "stdout",
     "output_type": "stream",
     "text": [
      "CustomProbabilityThresholdClassifier(activation='relu', alpha=0.0001,\n",
      "                                     batch_size='auto', beta_1=0.9,\n",
      "                                     beta_2=0.999,\n",
      "                                     classifier=MLPClassifier(activation='relu',\n",
      "                                                              alpha=0.0001,\n",
      "                                                              batch_size='auto',\n",
      "                                                              beta_1=0.9,\n",
      "                                                              beta_2=0.999,\n",
      "                                                              early_stopping=False,\n",
      "                                                              epsilon=1e-08,\n",
      "                                                              hidden_layer_sizes=[2,\n",
      "                                                                                  32],\n",
      "                                                              learning_rate='constant',\n",
      "                                                              learning_rate_init=0.001,\n",
      "                                                              max_fun=15000,\n",
      "                                                              max_iter=500,\n",
      "                                                              mome...\n",
      "                                                              warm_start=False),\n",
      "                                     early_stopping=False, epsilon=1e-08,\n",
      "                                     hidden_layer_sizes=[2, 32],\n",
      "                                     learning_rate='constant',\n",
      "                                     learning_rate_init=0.001, max_fun=15000,\n",
      "                                     max_iter=500, momentum=0.9,\n",
      "                                     n_iter_no_change=10,\n",
      "                                     nesterovs_momentum=True, power_t=0.5,\n",
      "                                     probability_threshold=0.25,\n",
      "                                     random_state=3418, shuffle=True,\n",
      "                                     solver='adam', tol=0.0001,\n",
      "                                     validation_fraction=0.1, verbose=False,\n",
      "                                     warm_start=False)\n"
     ]
    }
   ],
   "source": [
    "print(mlp)"
   ]
  },
  {
   "cell_type": "markdown",
   "metadata": {},
   "source": [
    "### Now we will begin hyperparamter tuning. Special attention paid to the fact that we are optimizing for precision. This was  a deliberate choice because we feel that limiting our number of false positives is important in this based on the business value of our model."
   ]
  },
  {
   "cell_type": "code",
   "execution_count": 31,
   "metadata": {},
   "outputs": [
    {
     "data": {
      "text/html": [
       "<style type=\"text/css\">\n",
       "#T_85d8c_row10_col0, #T_85d8c_row10_col1, #T_85d8c_row10_col2, #T_85d8c_row10_col3, #T_85d8c_row10_col4, #T_85d8c_row10_col5, #T_85d8c_row10_col6 {\n",
       "  background: yellow;\n",
       "}\n",
       "</style>\n",
       "<table id=\"T_85d8c\">\n",
       "  <thead>\n",
       "    <tr>\n",
       "      <th class=\"blank level0\" >&nbsp;</th>\n",
       "      <th id=\"T_85d8c_level0_col0\" class=\"col_heading level0 col0\" >Accuracy</th>\n",
       "      <th id=\"T_85d8c_level0_col1\" class=\"col_heading level0 col1\" >AUC</th>\n",
       "      <th id=\"T_85d8c_level0_col2\" class=\"col_heading level0 col2\" >Recall</th>\n",
       "      <th id=\"T_85d8c_level0_col3\" class=\"col_heading level0 col3\" >Prec.</th>\n",
       "      <th id=\"T_85d8c_level0_col4\" class=\"col_heading level0 col4\" >F1</th>\n",
       "      <th id=\"T_85d8c_level0_col5\" class=\"col_heading level0 col5\" >Kappa</th>\n",
       "      <th id=\"T_85d8c_level0_col6\" class=\"col_heading level0 col6\" >MCC</th>\n",
       "    </tr>\n",
       "    <tr>\n",
       "      <th class=\"index_name level0\" >Fold</th>\n",
       "      <th class=\"blank col0\" >&nbsp;</th>\n",
       "      <th class=\"blank col1\" >&nbsp;</th>\n",
       "      <th class=\"blank col2\" >&nbsp;</th>\n",
       "      <th class=\"blank col3\" >&nbsp;</th>\n",
       "      <th class=\"blank col4\" >&nbsp;</th>\n",
       "      <th class=\"blank col5\" >&nbsp;</th>\n",
       "      <th class=\"blank col6\" >&nbsp;</th>\n",
       "    </tr>\n",
       "  </thead>\n",
       "  <tbody>\n",
       "    <tr>\n",
       "      <th id=\"T_85d8c_level0_row0\" class=\"row_heading level0 row0\" >0</th>\n",
       "      <td id=\"T_85d8c_row0_col0\" class=\"data row0 col0\" >0.9910</td>\n",
       "      <td id=\"T_85d8c_row0_col1\" class=\"data row0 col1\" >0.6805</td>\n",
       "      <td id=\"T_85d8c_row0_col2\" class=\"data row0 col2\" >0.0545</td>\n",
       "      <td id=\"T_85d8c_row0_col3\" class=\"data row0 col3\" >0.1579</td>\n",
       "      <td id=\"T_85d8c_row0_col4\" class=\"data row0 col4\" >0.0811</td>\n",
       "      <td id=\"T_85d8c_row0_col5\" class=\"data row0 col5\" >0.0776</td>\n",
       "      <td id=\"T_85d8c_row0_col6\" class=\"data row0 col6\" >0.0889</td>\n",
       "    </tr>\n",
       "    <tr>\n",
       "      <th id=\"T_85d8c_level0_row1\" class=\"row_heading level0 row1\" >1</th>\n",
       "      <td id=\"T_85d8c_row1_col0\" class=\"data row1 col0\" >0.9911</td>\n",
       "      <td id=\"T_85d8c_row1_col1\" class=\"data row1 col1\" >0.6649</td>\n",
       "      <td id=\"T_85d8c_row1_col2\" class=\"data row1 col2\" >0.0323</td>\n",
       "      <td id=\"T_85d8c_row1_col3\" class=\"data row1 col3\" >0.2222</td>\n",
       "      <td id=\"T_85d8c_row1_col4\" class=\"data row1 col4\" >0.0563</td>\n",
       "      <td id=\"T_85d8c_row1_col5\" class=\"data row1 col5\" >0.0544</td>\n",
       "      <td id=\"T_85d8c_row1_col6\" class=\"data row1 col6\" >0.0819</td>\n",
       "    </tr>\n",
       "    <tr>\n",
       "      <th id=\"T_85d8c_level0_row2\" class=\"row_heading level0 row2\" >2</th>\n",
       "      <td id=\"T_85d8c_row2_col0\" class=\"data row2 col0\" >0.9927</td>\n",
       "      <td id=\"T_85d8c_row2_col1\" class=\"data row2 col1\" >0.6611</td>\n",
       "      <td id=\"T_85d8c_row2_col2\" class=\"data row2 col2\" >0.0877</td>\n",
       "      <td id=\"T_85d8c_row2_col3\" class=\"data row2 col3\" >0.6250</td>\n",
       "      <td id=\"T_85d8c_row2_col4\" class=\"data row2 col4\" >0.1538</td>\n",
       "      <td id=\"T_85d8c_row2_col5\" class=\"data row2 col5\" >0.1523</td>\n",
       "      <td id=\"T_85d8c_row2_col6\" class=\"data row2 col6\" >0.2323</td>\n",
       "    </tr>\n",
       "    <tr>\n",
       "      <th id=\"T_85d8c_level0_row3\" class=\"row_heading level0 row3\" >3</th>\n",
       "      <td id=\"T_85d8c_row3_col0\" class=\"data row3 col0\" >0.9908</td>\n",
       "      <td id=\"T_85d8c_row3_col1\" class=\"data row3 col1\" >0.6959</td>\n",
       "      <td id=\"T_85d8c_row3_col2\" class=\"data row3 col2\" >0.0469</td>\n",
       "      <td id=\"T_85d8c_row3_col3\" class=\"data row3 col3\" >0.2727</td>\n",
       "      <td id=\"T_85d8c_row3_col4\" class=\"data row3 col4\" >0.0800</td>\n",
       "      <td id=\"T_85d8c_row3_col5\" class=\"data row3 col5\" >0.0777</td>\n",
       "      <td id=\"T_85d8c_row3_col6\" class=\"data row3 col6\" >0.1101</td>\n",
       "    </tr>\n",
       "    <tr>\n",
       "      <th id=\"T_85d8c_level0_row4\" class=\"row_heading level0 row4\" >4</th>\n",
       "      <td id=\"T_85d8c_row4_col0\" class=\"data row4 col0\" >0.9929</td>\n",
       "      <td id=\"T_85d8c_row4_col1\" class=\"data row4 col1\" >0.7510</td>\n",
       "      <td id=\"T_85d8c_row4_col2\" class=\"data row4 col2\" >0.0755</td>\n",
       "      <td id=\"T_85d8c_row4_col3\" class=\"data row4 col3\" >0.5000</td>\n",
       "      <td id=\"T_85d8c_row4_col4\" class=\"data row4 col4\" >0.1311</td>\n",
       "      <td id=\"T_85d8c_row4_col5\" class=\"data row4 col5\" >0.1295</td>\n",
       "      <td id=\"T_85d8c_row4_col6\" class=\"data row4 col6\" >0.1923</td>\n",
       "    </tr>\n",
       "    <tr>\n",
       "      <th id=\"T_85d8c_level0_row5\" class=\"row_heading level0 row5\" >5</th>\n",
       "      <td id=\"T_85d8c_row5_col0\" class=\"data row5 col0\" >0.9922</td>\n",
       "      <td id=\"T_85d8c_row5_col1\" class=\"data row5 col1\" >0.7008</td>\n",
       "      <td id=\"T_85d8c_row5_col2\" class=\"data row5 col2\" >0.0847</td>\n",
       "      <td id=\"T_85d8c_row5_col3\" class=\"data row5 col3\" >0.5000</td>\n",
       "      <td id=\"T_85d8c_row5_col4\" class=\"data row5 col4\" >0.1449</td>\n",
       "      <td id=\"T_85d8c_row5_col5\" class=\"data row5 col5\" >0.1430</td>\n",
       "      <td id=\"T_85d8c_row5_col6\" class=\"data row5 col6\" >0.2036</td>\n",
       "    </tr>\n",
       "    <tr>\n",
       "      <th id=\"T_85d8c_level0_row6\" class=\"row_heading level0 row6\" >6</th>\n",
       "      <td id=\"T_85d8c_row6_col0\" class=\"data row6 col0\" >0.9932</td>\n",
       "      <td id=\"T_85d8c_row6_col1\" class=\"data row6 col1\" >0.6696</td>\n",
       "      <td id=\"T_85d8c_row6_col2\" class=\"data row6 col2\" >0.0392</td>\n",
       "      <td id=\"T_85d8c_row6_col3\" class=\"data row6 col3\" >0.5000</td>\n",
       "      <td id=\"T_85d8c_row6_col4\" class=\"data row6 col4\" >0.0727</td>\n",
       "      <td id=\"T_85d8c_row6_col5\" class=\"data row6 col5\" >0.0718</td>\n",
       "      <td id=\"T_85d8c_row6_col6\" class=\"data row6 col6\" >0.1386</td>\n",
       "    </tr>\n",
       "    <tr>\n",
       "      <th id=\"T_85d8c_level0_row7\" class=\"row_heading level0 row7\" >7</th>\n",
       "      <td id=\"T_85d8c_row7_col0\" class=\"data row7 col0\" >0.9932</td>\n",
       "      <td id=\"T_85d8c_row7_col1\" class=\"data row7 col1\" >0.7286</td>\n",
       "      <td id=\"T_85d8c_row7_col2\" class=\"data row7 col2\" >0.1000</td>\n",
       "      <td id=\"T_85d8c_row7_col3\" class=\"data row7 col3\" >0.4545</td>\n",
       "      <td id=\"T_85d8c_row7_col4\" class=\"data row7 col4\" >0.1639</td>\n",
       "      <td id=\"T_85d8c_row7_col5\" class=\"data row7 col5\" >0.1619</td>\n",
       "      <td id=\"T_85d8c_row7_col6\" class=\"data row7 col6\" >0.2109</td>\n",
       "    </tr>\n",
       "    <tr>\n",
       "      <th id=\"T_85d8c_level0_row8\" class=\"row_heading level0 row8\" >8</th>\n",
       "      <td id=\"T_85d8c_row8_col0\" class=\"data row8 col0\" >0.9915</td>\n",
       "      <td id=\"T_85d8c_row8_col1\" class=\"data row8 col1\" >0.7173</td>\n",
       "      <td id=\"T_85d8c_row8_col2\" class=\"data row8 col2\" >0.0896</td>\n",
       "      <td id=\"T_85d8c_row8_col3\" class=\"data row8 col3\" >0.6667</td>\n",
       "      <td id=\"T_85d8c_row8_col4\" class=\"data row8 col4\" >0.1579</td>\n",
       "      <td id=\"T_85d8c_row8_col5\" class=\"data row8 col5\" >0.1561</td>\n",
       "      <td id=\"T_85d8c_row8_col6\" class=\"data row8 col6\" >0.2423</td>\n",
       "    </tr>\n",
       "    <tr>\n",
       "      <th id=\"T_85d8c_level0_row9\" class=\"row_heading level0 row9\" >9</th>\n",
       "      <td id=\"T_85d8c_row9_col0\" class=\"data row9 col0\" >0.9921</td>\n",
       "      <td id=\"T_85d8c_row9_col1\" class=\"data row9 col1\" >0.7275</td>\n",
       "      <td id=\"T_85d8c_row9_col2\" class=\"data row9 col2\" >0.0833</td>\n",
       "      <td id=\"T_85d8c_row9_col3\" class=\"data row9 col3\" >0.5556</td>\n",
       "      <td id=\"T_85d8c_row9_col4\" class=\"data row9 col4\" >0.1449</td>\n",
       "      <td id=\"T_85d8c_row9_col5\" class=\"data row9 col5\" >0.1431</td>\n",
       "      <td id=\"T_85d8c_row9_col6\" class=\"data row9 col6\" >0.2131</td>\n",
       "    </tr>\n",
       "    <tr>\n",
       "      <th id=\"T_85d8c_level0_row10\" class=\"row_heading level0 row10\" >Mean</th>\n",
       "      <td id=\"T_85d8c_row10_col0\" class=\"data row10 col0\" >0.9921</td>\n",
       "      <td id=\"T_85d8c_row10_col1\" class=\"data row10 col1\" >0.6997</td>\n",
       "      <td id=\"T_85d8c_row10_col2\" class=\"data row10 col2\" >0.0694</td>\n",
       "      <td id=\"T_85d8c_row10_col3\" class=\"data row10 col3\" >0.4455</td>\n",
       "      <td id=\"T_85d8c_row10_col4\" class=\"data row10 col4\" >0.1187</td>\n",
       "      <td id=\"T_85d8c_row10_col5\" class=\"data row10 col5\" >0.1167</td>\n",
       "      <td id=\"T_85d8c_row10_col6\" class=\"data row10 col6\" >0.1714</td>\n",
       "    </tr>\n",
       "    <tr>\n",
       "      <th id=\"T_85d8c_level0_row11\" class=\"row_heading level0 row11\" >Std</th>\n",
       "      <td id=\"T_85d8c_row11_col0\" class=\"data row11 col0\" >0.0009</td>\n",
       "      <td id=\"T_85d8c_row11_col1\" class=\"data row11 col1\" >0.0292</td>\n",
       "      <td id=\"T_85d8c_row11_col2\" class=\"data row11 col2\" >0.0227</td>\n",
       "      <td id=\"T_85d8c_row11_col3\" class=\"data row11 col3\" >0.1627</td>\n",
       "      <td id=\"T_85d8c_row11_col4\" class=\"data row11 col4\" >0.0391</td>\n",
       "      <td id=\"T_85d8c_row11_col5\" class=\"data row11 col5\" >0.0392</td>\n",
       "      <td id=\"T_85d8c_row11_col6\" class=\"data row11 col6\" >0.0576</td>\n",
       "    </tr>\n",
       "  </tbody>\n",
       "</table>\n"
      ],
      "text/plain": [
       "<pandas.io.formats.style.Styler at 0x1810886e970>"
      ]
     },
     "metadata": {},
     "output_type": "display_data"
    }
   ],
   "source": [
    "tuned = tune_model(mlp, n_iter = 10, optimize = 'Prec.')"
   ]
  },
  {
   "cell_type": "markdown",
   "metadata": {},
   "source": [
    "### Checking the Paramters of our tuned model so we know what all of the model paramters are explicitly"
   ]
  },
  {
   "cell_type": "code",
   "execution_count": 32,
   "metadata": {},
   "outputs": [
    {
     "name": "stdout",
     "output_type": "stream",
     "text": [
      "MLPClassifier(activation='tanh', alpha=0.001, batch_size='auto', beta_1=0.9,\n",
      "              beta_2=0.999, early_stopping=False, epsilon=1e-08,\n",
      "              hidden_layer_sizes=[100, 100], learning_rate='invscaling',\n",
      "              learning_rate_init=0.001, max_fun=15000, max_iter=500,\n",
      "              momentum=0.9, n_iter_no_change=10, nesterovs_momentum=True,\n",
      "              power_t=0.5, random_state=3418, shuffle=True, solver='adam',\n",
      "              tol=0.0001, validation_fraction=0.1, verbose=False,\n",
      "              warm_start=False)\n"
     ]
    }
   ],
   "source": [
    "print(tuned)"
   ]
  },
  {
   "cell_type": "markdown",
   "metadata": {},
   "source": [
    "### Attempting to optimize our probability threshold within the tuned model"
   ]
  },
  {
   "cell_type": "code",
   "execution_count": 33,
   "metadata": {},
   "outputs": [
    {
     "data": {
      "application/vnd.plotly.v1+json": {
       "config": {
        "plotlyServerURL": "https://plot.ly"
       },
       "data": [
        {
         "hovertemplate": "variable=Accuracy<br>probability_threshold=%{x}<br>value=%{y}<extra></extra>",
         "legendgroup": "Accuracy",
         "line": {
          "color": "#636efa",
          "dash": "solid"
         },
         "marker": {
          "symbol": "circle"
         },
         "mode": "lines",
         "name": "Accuracy",
         "orientation": "v",
         "showlegend": true,
         "type": "scatter",
         "x": [
          0,
          0.1,
          0.2,
          0.30000000000000004,
          0.4,
          0.5,
          0.6000000000000001,
          0.7000000000000001,
          0.8,
          0.9,
          1
         ],
         "xaxis": "x",
         "y": [
          0.9921,
          0.9875,
          0.9905,
          0.9913,
          0.9918,
          0.9921,
          0.9921,
          0.9922,
          0.9923,
          0.9923,
          0.9923
         ],
         "yaxis": "y"
        },
        {
         "hovertemplate": "variable=AUC<br>probability_threshold=%{x}<br>value=%{y}<extra></extra>",
         "legendgroup": "AUC",
         "line": {
          "color": "#EF553B",
          "dash": "solid"
         },
         "marker": {
          "symbol": "circle"
         },
         "mode": "lines",
         "name": "AUC",
         "orientation": "v",
         "showlegend": true,
         "type": "scatter",
         "x": [
          0,
          0.1,
          0.2,
          0.30000000000000004,
          0.4,
          0.5,
          0.6000000000000001,
          0.7000000000000001,
          0.8,
          0.9,
          1
         ],
         "xaxis": "x",
         "y": [
          0.6997,
          0.6997,
          0.6997,
          0.6997,
          0.6997,
          0.6997,
          0.6997,
          0.6997,
          0.6997,
          0.6997,
          0.6997
         ],
         "yaxis": "y"
        },
        {
         "hovertemplate": "variable=Recall<br>probability_threshold=%{x}<br>value=%{y}<extra></extra>",
         "legendgroup": "Recall",
         "line": {
          "color": "#00cc96",
          "dash": "solid"
         },
         "marker": {
          "symbol": "circle"
         },
         "mode": "lines",
         "name": "Recall",
         "orientation": "v",
         "showlegend": true,
         "type": "scatter",
         "x": [
          0,
          0.1,
          0.2,
          0.30000000000000004,
          0.4,
          0.5,
          0.6000000000000001,
          0.7000000000000001,
          0.8,
          0.9,
          1
         ],
         "xaxis": "x",
         "y": [
          0.0694,
          0.1388,
          0.0992,
          0.0835,
          0.0749,
          0.0694,
          0.0556,
          0.052,
          0.0394,
          0.0306,
          0
         ],
         "yaxis": "y"
        },
        {
         "hovertemplate": "variable=Prec.<br>probability_threshold=%{x}<br>value=%{y}<extra></extra>",
         "legendgroup": "Prec.",
         "line": {
          "color": "#ab63fa",
          "dash": "solid"
         },
         "marker": {
          "symbol": "circle"
         },
         "mode": "lines",
         "name": "Prec.",
         "orientation": "v",
         "showlegend": true,
         "type": "scatter",
         "x": [
          0,
          0.1,
          0.2,
          0.30000000000000004,
          0.4,
          0.5,
          0.6000000000000001,
          0.7000000000000001,
          0.8,
          0.9,
          1
         ],
         "xaxis": "x",
         "y": [
          0.4455,
          0.1612,
          0.2359,
          0.2932,
          0.3545,
          0.4455,
          0.4634,
          0.5223,
          0.5167,
          0.4952,
          0
         ],
         "yaxis": "y"
        },
        {
         "hovertemplate": "variable=F1<br>probability_threshold=%{x}<br>value=%{y}<extra></extra>",
         "legendgroup": "F1",
         "line": {
          "color": "#FFA15A",
          "dash": "solid"
         },
         "marker": {
          "symbol": "circle"
         },
         "mode": "lines",
         "name": "F1",
         "orientation": "v",
         "showlegend": true,
         "type": "scatter",
         "x": [
          0,
          0.1,
          0.2,
          0.30000000000000004,
          0.4,
          0.5,
          0.6000000000000001,
          0.7000000000000001,
          0.8,
          0.9,
          1
         ],
         "xaxis": "x",
         "y": [
          0.1187,
          0.1453,
          0.1373,
          0.1271,
          0.1216,
          0.1187,
          0.0984,
          0.0936,
          0.0727,
          0.057,
          0
         ],
         "yaxis": "y"
        },
        {
         "hovertemplate": "variable=Kappa<br>probability_threshold=%{x}<br>value=%{y}<extra></extra>",
         "legendgroup": "Kappa",
         "line": {
          "color": "#19d3f3",
          "dash": "solid"
         },
         "marker": {
          "symbol": "circle"
         },
         "mode": "lines",
         "name": "Kappa",
         "orientation": "v",
         "showlegend": true,
         "type": "scatter",
         "x": [
          0,
          0.1,
          0.2,
          0.30000000000000004,
          0.4,
          0.5,
          0.6000000000000001,
          0.7000000000000001,
          0.8,
          0.9,
          1
         ],
         "xaxis": "x",
         "y": [
          0.1167,
          0.1392,
          0.1333,
          0.124,
          0.1192,
          0.1167,
          0.0968,
          0.0922,
          0.0716,
          0.0561,
          0
         ],
         "yaxis": "y"
        },
        {
         "hovertemplate": "variable=MCC<br>probability_threshold=%{x}<br>value=%{y}<extra></extra>",
         "legendgroup": "MCC",
         "line": {
          "color": "#FF6692",
          "dash": "solid"
         },
         "marker": {
          "symbol": "circle"
         },
         "mode": "lines",
         "name": "MCC",
         "orientation": "v",
         "showlegend": true,
         "type": "scatter",
         "x": [
          0,
          0.1,
          0.2,
          0.30000000000000004,
          0.4,
          0.5,
          0.6000000000000001,
          0.7000000000000001,
          0.8,
          0.9,
          1
         ],
         "xaxis": "x",
         "y": [
          0.1714,
          0.1415,
          0.1473,
          0.1505,
          0.1578,
          0.1714,
          0.1568,
          0.1605,
          0.1392,
          0.1184,
          0
         ],
         "yaxis": "y"
        }
       ],
       "layout": {
        "legend": {
         "title": {
          "text": "variable"
         },
         "tracegroupgap": 0
        },
        "template": {
         "data": {
          "bar": [
           {
            "error_x": {
             "color": "#2a3f5f"
            },
            "error_y": {
             "color": "#2a3f5f"
            },
            "marker": {
             "line": {
              "color": "#E5ECF6",
              "width": 0.5
             },
             "pattern": {
              "fillmode": "overlay",
              "size": 10,
              "solidity": 0.2
             }
            },
            "type": "bar"
           }
          ],
          "barpolar": [
           {
            "marker": {
             "line": {
              "color": "#E5ECF6",
              "width": 0.5
             },
             "pattern": {
              "fillmode": "overlay",
              "size": 10,
              "solidity": 0.2
             }
            },
            "type": "barpolar"
           }
          ],
          "carpet": [
           {
            "aaxis": {
             "endlinecolor": "#2a3f5f",
             "gridcolor": "white",
             "linecolor": "white",
             "minorgridcolor": "white",
             "startlinecolor": "#2a3f5f"
            },
            "baxis": {
             "endlinecolor": "#2a3f5f",
             "gridcolor": "white",
             "linecolor": "white",
             "minorgridcolor": "white",
             "startlinecolor": "#2a3f5f"
            },
            "type": "carpet"
           }
          ],
          "choropleth": [
           {
            "colorbar": {
             "outlinewidth": 0,
             "ticks": ""
            },
            "type": "choropleth"
           }
          ],
          "contour": [
           {
            "colorbar": {
             "outlinewidth": 0,
             "ticks": ""
            },
            "colorscale": [
             [
              0,
              "#0d0887"
             ],
             [
              0.1111111111111111,
              "#46039f"
             ],
             [
              0.2222222222222222,
              "#7201a8"
             ],
             [
              0.3333333333333333,
              "#9c179e"
             ],
             [
              0.4444444444444444,
              "#bd3786"
             ],
             [
              0.5555555555555556,
              "#d8576b"
             ],
             [
              0.6666666666666666,
              "#ed7953"
             ],
             [
              0.7777777777777778,
              "#fb9f3a"
             ],
             [
              0.8888888888888888,
              "#fdca26"
             ],
             [
              1,
              "#f0f921"
             ]
            ],
            "type": "contour"
           }
          ],
          "contourcarpet": [
           {
            "colorbar": {
             "outlinewidth": 0,
             "ticks": ""
            },
            "type": "contourcarpet"
           }
          ],
          "heatmap": [
           {
            "colorbar": {
             "outlinewidth": 0,
             "ticks": ""
            },
            "colorscale": [
             [
              0,
              "#0d0887"
             ],
             [
              0.1111111111111111,
              "#46039f"
             ],
             [
              0.2222222222222222,
              "#7201a8"
             ],
             [
              0.3333333333333333,
              "#9c179e"
             ],
             [
              0.4444444444444444,
              "#bd3786"
             ],
             [
              0.5555555555555556,
              "#d8576b"
             ],
             [
              0.6666666666666666,
              "#ed7953"
             ],
             [
              0.7777777777777778,
              "#fb9f3a"
             ],
             [
              0.8888888888888888,
              "#fdca26"
             ],
             [
              1,
              "#f0f921"
             ]
            ],
            "type": "heatmap"
           }
          ],
          "heatmapgl": [
           {
            "colorbar": {
             "outlinewidth": 0,
             "ticks": ""
            },
            "colorscale": [
             [
              0,
              "#0d0887"
             ],
             [
              0.1111111111111111,
              "#46039f"
             ],
             [
              0.2222222222222222,
              "#7201a8"
             ],
             [
              0.3333333333333333,
              "#9c179e"
             ],
             [
              0.4444444444444444,
              "#bd3786"
             ],
             [
              0.5555555555555556,
              "#d8576b"
             ],
             [
              0.6666666666666666,
              "#ed7953"
             ],
             [
              0.7777777777777778,
              "#fb9f3a"
             ],
             [
              0.8888888888888888,
              "#fdca26"
             ],
             [
              1,
              "#f0f921"
             ]
            ],
            "type": "heatmapgl"
           }
          ],
          "histogram": [
           {
            "marker": {
             "pattern": {
              "fillmode": "overlay",
              "size": 10,
              "solidity": 0.2
             }
            },
            "type": "histogram"
           }
          ],
          "histogram2d": [
           {
            "colorbar": {
             "outlinewidth": 0,
             "ticks": ""
            },
            "colorscale": [
             [
              0,
              "#0d0887"
             ],
             [
              0.1111111111111111,
              "#46039f"
             ],
             [
              0.2222222222222222,
              "#7201a8"
             ],
             [
              0.3333333333333333,
              "#9c179e"
             ],
             [
              0.4444444444444444,
              "#bd3786"
             ],
             [
              0.5555555555555556,
              "#d8576b"
             ],
             [
              0.6666666666666666,
              "#ed7953"
             ],
             [
              0.7777777777777778,
              "#fb9f3a"
             ],
             [
              0.8888888888888888,
              "#fdca26"
             ],
             [
              1,
              "#f0f921"
             ]
            ],
            "type": "histogram2d"
           }
          ],
          "histogram2dcontour": [
           {
            "colorbar": {
             "outlinewidth": 0,
             "ticks": ""
            },
            "colorscale": [
             [
              0,
              "#0d0887"
             ],
             [
              0.1111111111111111,
              "#46039f"
             ],
             [
              0.2222222222222222,
              "#7201a8"
             ],
             [
              0.3333333333333333,
              "#9c179e"
             ],
             [
              0.4444444444444444,
              "#bd3786"
             ],
             [
              0.5555555555555556,
              "#d8576b"
             ],
             [
              0.6666666666666666,
              "#ed7953"
             ],
             [
              0.7777777777777778,
              "#fb9f3a"
             ],
             [
              0.8888888888888888,
              "#fdca26"
             ],
             [
              1,
              "#f0f921"
             ]
            ],
            "type": "histogram2dcontour"
           }
          ],
          "mesh3d": [
           {
            "colorbar": {
             "outlinewidth": 0,
             "ticks": ""
            },
            "type": "mesh3d"
           }
          ],
          "parcoords": [
           {
            "line": {
             "colorbar": {
              "outlinewidth": 0,
              "ticks": ""
             }
            },
            "type": "parcoords"
           }
          ],
          "pie": [
           {
            "automargin": true,
            "type": "pie"
           }
          ],
          "scatter": [
           {
            "fillpattern": {
             "fillmode": "overlay",
             "size": 10,
             "solidity": 0.2
            },
            "type": "scatter"
           }
          ],
          "scatter3d": [
           {
            "line": {
             "colorbar": {
              "outlinewidth": 0,
              "ticks": ""
             }
            },
            "marker": {
             "colorbar": {
              "outlinewidth": 0,
              "ticks": ""
             }
            },
            "type": "scatter3d"
           }
          ],
          "scattercarpet": [
           {
            "marker": {
             "colorbar": {
              "outlinewidth": 0,
              "ticks": ""
             }
            },
            "type": "scattercarpet"
           }
          ],
          "scattergeo": [
           {
            "marker": {
             "colorbar": {
              "outlinewidth": 0,
              "ticks": ""
             }
            },
            "type": "scattergeo"
           }
          ],
          "scattergl": [
           {
            "marker": {
             "colorbar": {
              "outlinewidth": 0,
              "ticks": ""
             }
            },
            "type": "scattergl"
           }
          ],
          "scattermapbox": [
           {
            "marker": {
             "colorbar": {
              "outlinewidth": 0,
              "ticks": ""
             }
            },
            "type": "scattermapbox"
           }
          ],
          "scatterpolar": [
           {
            "marker": {
             "colorbar": {
              "outlinewidth": 0,
              "ticks": ""
             }
            },
            "type": "scatterpolar"
           }
          ],
          "scatterpolargl": [
           {
            "marker": {
             "colorbar": {
              "outlinewidth": 0,
              "ticks": ""
             }
            },
            "type": "scatterpolargl"
           }
          ],
          "scatterternary": [
           {
            "marker": {
             "colorbar": {
              "outlinewidth": 0,
              "ticks": ""
             }
            },
            "type": "scatterternary"
           }
          ],
          "surface": [
           {
            "colorbar": {
             "outlinewidth": 0,
             "ticks": ""
            },
            "colorscale": [
             [
              0,
              "#0d0887"
             ],
             [
              0.1111111111111111,
              "#46039f"
             ],
             [
              0.2222222222222222,
              "#7201a8"
             ],
             [
              0.3333333333333333,
              "#9c179e"
             ],
             [
              0.4444444444444444,
              "#bd3786"
             ],
             [
              0.5555555555555556,
              "#d8576b"
             ],
             [
              0.6666666666666666,
              "#ed7953"
             ],
             [
              0.7777777777777778,
              "#fb9f3a"
             ],
             [
              0.8888888888888888,
              "#fdca26"
             ],
             [
              1,
              "#f0f921"
             ]
            ],
            "type": "surface"
           }
          ],
          "table": [
           {
            "cells": {
             "fill": {
              "color": "#EBF0F8"
             },
             "line": {
              "color": "white"
             }
            },
            "header": {
             "fill": {
              "color": "#C8D4E3"
             },
             "line": {
              "color": "white"
             }
            },
            "type": "table"
           }
          ]
         },
         "layout": {
          "annotationdefaults": {
           "arrowcolor": "#2a3f5f",
           "arrowhead": 0,
           "arrowwidth": 1
          },
          "autotypenumbers": "strict",
          "coloraxis": {
           "colorbar": {
            "outlinewidth": 0,
            "ticks": ""
           }
          },
          "colorscale": {
           "diverging": [
            [
             0,
             "#8e0152"
            ],
            [
             0.1,
             "#c51b7d"
            ],
            [
             0.2,
             "#de77ae"
            ],
            [
             0.3,
             "#f1b6da"
            ],
            [
             0.4,
             "#fde0ef"
            ],
            [
             0.5,
             "#f7f7f7"
            ],
            [
             0.6,
             "#e6f5d0"
            ],
            [
             0.7,
             "#b8e186"
            ],
            [
             0.8,
             "#7fbc41"
            ],
            [
             0.9,
             "#4d9221"
            ],
            [
             1,
             "#276419"
            ]
           ],
           "sequential": [
            [
             0,
             "#0d0887"
            ],
            [
             0.1111111111111111,
             "#46039f"
            ],
            [
             0.2222222222222222,
             "#7201a8"
            ],
            [
             0.3333333333333333,
             "#9c179e"
            ],
            [
             0.4444444444444444,
             "#bd3786"
            ],
            [
             0.5555555555555556,
             "#d8576b"
            ],
            [
             0.6666666666666666,
             "#ed7953"
            ],
            [
             0.7777777777777778,
             "#fb9f3a"
            ],
            [
             0.8888888888888888,
             "#fdca26"
            ],
            [
             1,
             "#f0f921"
            ]
           ],
           "sequentialminus": [
            [
             0,
             "#0d0887"
            ],
            [
             0.1111111111111111,
             "#46039f"
            ],
            [
             0.2222222222222222,
             "#7201a8"
            ],
            [
             0.3333333333333333,
             "#9c179e"
            ],
            [
             0.4444444444444444,
             "#bd3786"
            ],
            [
             0.5555555555555556,
             "#d8576b"
            ],
            [
             0.6666666666666666,
             "#ed7953"
            ],
            [
             0.7777777777777778,
             "#fb9f3a"
            ],
            [
             0.8888888888888888,
             "#fdca26"
            ],
            [
             1,
             "#f0f921"
            ]
           ]
          },
          "colorway": [
           "#636efa",
           "#EF553B",
           "#00cc96",
           "#ab63fa",
           "#FFA15A",
           "#19d3f3",
           "#FF6692",
           "#B6E880",
           "#FF97FF",
           "#FECB52"
          ],
          "font": {
           "color": "#2a3f5f"
          },
          "geo": {
           "bgcolor": "white",
           "lakecolor": "white",
           "landcolor": "#E5ECF6",
           "showlakes": true,
           "showland": true,
           "subunitcolor": "white"
          },
          "hoverlabel": {
           "align": "left"
          },
          "hovermode": "closest",
          "mapbox": {
           "style": "light"
          },
          "paper_bgcolor": "white",
          "plot_bgcolor": "#E5ECF6",
          "polar": {
           "angularaxis": {
            "gridcolor": "white",
            "linecolor": "white",
            "ticks": ""
           },
           "bgcolor": "#E5ECF6",
           "radialaxis": {
            "gridcolor": "white",
            "linecolor": "white",
            "ticks": ""
           }
          },
          "scene": {
           "xaxis": {
            "backgroundcolor": "#E5ECF6",
            "gridcolor": "white",
            "gridwidth": 2,
            "linecolor": "white",
            "showbackground": true,
            "ticks": "",
            "zerolinecolor": "white"
           },
           "yaxis": {
            "backgroundcolor": "#E5ECF6",
            "gridcolor": "white",
            "gridwidth": 2,
            "linecolor": "white",
            "showbackground": true,
            "ticks": "",
            "zerolinecolor": "white"
           },
           "zaxis": {
            "backgroundcolor": "#E5ECF6",
            "gridcolor": "white",
            "gridwidth": 2,
            "linecolor": "white",
            "showbackground": true,
            "ticks": "",
            "zerolinecolor": "white"
           }
          },
          "shapedefaults": {
           "line": {
            "color": "#2a3f5f"
           }
          },
          "ternary": {
           "aaxis": {
            "gridcolor": "white",
            "linecolor": "white",
            "ticks": ""
           },
           "baxis": {
            "gridcolor": "white",
            "linecolor": "white",
            "ticks": ""
           },
           "bgcolor": "#E5ECF6",
           "caxis": {
            "gridcolor": "white",
            "linecolor": "white",
            "ticks": ""
           }
          },
          "title": {
           "x": 0.05
          },
          "xaxis": {
           "automargin": true,
           "gridcolor": "white",
           "linecolor": "white",
           "ticks": "",
           "title": {
            "standoff": 15
           },
           "zerolinecolor": "white",
           "zerolinewidth": 2
          },
          "yaxis": {
           "automargin": true,
           "gridcolor": "white",
           "linecolor": "white",
           "ticks": "",
           "title": {
            "standoff": 15
           },
           "zerolinecolor": "white",
           "zerolinewidth": 2
          }
         }
        },
        "title": {
         "text": "MLP Classifier Probability Threshold Optimization (default = 0.5)"
        },
        "xaxis": {
         "anchor": "y",
         "domain": [
          0,
          1
         ],
         "title": {
          "text": "probability_threshold"
         }
        },
        "yaxis": {
         "anchor": "x",
         "domain": [
          0,
          1
         ],
         "title": {
          "text": "value"
         }
        }
       }
      },
      "text/html": [
       "<div>                            <div id=\"dfda60d8-e74b-4ce7-9a27-c54dcbfe0915\" class=\"plotly-graph-div\" style=\"height:525px; width:100%;\"></div>            <script type=\"text/javascript\">                require([\"plotly\"], function(Plotly) {                    window.PLOTLYENV=window.PLOTLYENV || {};                                    if (document.getElementById(\"dfda60d8-e74b-4ce7-9a27-c54dcbfe0915\")) {                    Plotly.newPlot(                        \"dfda60d8-e74b-4ce7-9a27-c54dcbfe0915\",                        [{\"hovertemplate\":\"variable=Accuracy<br>probability_threshold=%{x}<br>value=%{y}<extra></extra>\",\"legendgroup\":\"Accuracy\",\"line\":{\"color\":\"#636efa\",\"dash\":\"solid\"},\"marker\":{\"symbol\":\"circle\"},\"mode\":\"lines\",\"name\":\"Accuracy\",\"orientation\":\"v\",\"showlegend\":true,\"x\":[0.0,0.1,0.2,0.30000000000000004,0.4,0.5,0.6000000000000001,0.7000000000000001,0.8,0.9,1.0],\"xaxis\":\"x\",\"y\":[0.9921,0.9875,0.9905,0.9913,0.9918,0.9921,0.9921,0.9922,0.9923,0.9923,0.9923],\"yaxis\":\"y\",\"type\":\"scatter\"},{\"hovertemplate\":\"variable=AUC<br>probability_threshold=%{x}<br>value=%{y}<extra></extra>\",\"legendgroup\":\"AUC\",\"line\":{\"color\":\"#EF553B\",\"dash\":\"solid\"},\"marker\":{\"symbol\":\"circle\"},\"mode\":\"lines\",\"name\":\"AUC\",\"orientation\":\"v\",\"showlegend\":true,\"x\":[0.0,0.1,0.2,0.30000000000000004,0.4,0.5,0.6000000000000001,0.7000000000000001,0.8,0.9,1.0],\"xaxis\":\"x\",\"y\":[0.6997,0.6997,0.6997,0.6997,0.6997,0.6997,0.6997,0.6997,0.6997,0.6997,0.6997],\"yaxis\":\"y\",\"type\":\"scatter\"},{\"hovertemplate\":\"variable=Recall<br>probability_threshold=%{x}<br>value=%{y}<extra></extra>\",\"legendgroup\":\"Recall\",\"line\":{\"color\":\"#00cc96\",\"dash\":\"solid\"},\"marker\":{\"symbol\":\"circle\"},\"mode\":\"lines\",\"name\":\"Recall\",\"orientation\":\"v\",\"showlegend\":true,\"x\":[0.0,0.1,0.2,0.30000000000000004,0.4,0.5,0.6000000000000001,0.7000000000000001,0.8,0.9,1.0],\"xaxis\":\"x\",\"y\":[0.0694,0.1388,0.0992,0.0835,0.0749,0.0694,0.0556,0.052,0.0394,0.0306,0.0],\"yaxis\":\"y\",\"type\":\"scatter\"},{\"hovertemplate\":\"variable=Prec.<br>probability_threshold=%{x}<br>value=%{y}<extra></extra>\",\"legendgroup\":\"Prec.\",\"line\":{\"color\":\"#ab63fa\",\"dash\":\"solid\"},\"marker\":{\"symbol\":\"circle\"},\"mode\":\"lines\",\"name\":\"Prec.\",\"orientation\":\"v\",\"showlegend\":true,\"x\":[0.0,0.1,0.2,0.30000000000000004,0.4,0.5,0.6000000000000001,0.7000000000000001,0.8,0.9,1.0],\"xaxis\":\"x\",\"y\":[0.4455,0.1612,0.2359,0.2932,0.3545,0.4455,0.4634,0.5223,0.5167,0.4952,0.0],\"yaxis\":\"y\",\"type\":\"scatter\"},{\"hovertemplate\":\"variable=F1<br>probability_threshold=%{x}<br>value=%{y}<extra></extra>\",\"legendgroup\":\"F1\",\"line\":{\"color\":\"#FFA15A\",\"dash\":\"solid\"},\"marker\":{\"symbol\":\"circle\"},\"mode\":\"lines\",\"name\":\"F1\",\"orientation\":\"v\",\"showlegend\":true,\"x\":[0.0,0.1,0.2,0.30000000000000004,0.4,0.5,0.6000000000000001,0.7000000000000001,0.8,0.9,1.0],\"xaxis\":\"x\",\"y\":[0.1187,0.1453,0.1373,0.1271,0.1216,0.1187,0.0984,0.0936,0.0727,0.057,0.0],\"yaxis\":\"y\",\"type\":\"scatter\"},{\"hovertemplate\":\"variable=Kappa<br>probability_threshold=%{x}<br>value=%{y}<extra></extra>\",\"legendgroup\":\"Kappa\",\"line\":{\"color\":\"#19d3f3\",\"dash\":\"solid\"},\"marker\":{\"symbol\":\"circle\"},\"mode\":\"lines\",\"name\":\"Kappa\",\"orientation\":\"v\",\"showlegend\":true,\"x\":[0.0,0.1,0.2,0.30000000000000004,0.4,0.5,0.6000000000000001,0.7000000000000001,0.8,0.9,1.0],\"xaxis\":\"x\",\"y\":[0.1167,0.1392,0.1333,0.124,0.1192,0.1167,0.0968,0.0922,0.0716,0.0561,0.0],\"yaxis\":\"y\",\"type\":\"scatter\"},{\"hovertemplate\":\"variable=MCC<br>probability_threshold=%{x}<br>value=%{y}<extra></extra>\",\"legendgroup\":\"MCC\",\"line\":{\"color\":\"#FF6692\",\"dash\":\"solid\"},\"marker\":{\"symbol\":\"circle\"},\"mode\":\"lines\",\"name\":\"MCC\",\"orientation\":\"v\",\"showlegend\":true,\"x\":[0.0,0.1,0.2,0.30000000000000004,0.4,0.5,0.6000000000000001,0.7000000000000001,0.8,0.9,1.0],\"xaxis\":\"x\",\"y\":[0.1714,0.1415,0.1473,0.1505,0.1578,0.1714,0.1568,0.1605,0.1392,0.1184,0.0],\"yaxis\":\"y\",\"type\":\"scatter\"}],                        {\"template\":{\"data\":{\"histogram2dcontour\":[{\"type\":\"histogram2dcontour\",\"colorbar\":{\"outlinewidth\":0,\"ticks\":\"\"},\"colorscale\":[[0.0,\"#0d0887\"],[0.1111111111111111,\"#46039f\"],[0.2222222222222222,\"#7201a8\"],[0.3333333333333333,\"#9c179e\"],[0.4444444444444444,\"#bd3786\"],[0.5555555555555556,\"#d8576b\"],[0.6666666666666666,\"#ed7953\"],[0.7777777777777778,\"#fb9f3a\"],[0.8888888888888888,\"#fdca26\"],[1.0,\"#f0f921\"]]}],\"choropleth\":[{\"type\":\"choropleth\",\"colorbar\":{\"outlinewidth\":0,\"ticks\":\"\"}}],\"histogram2d\":[{\"type\":\"histogram2d\",\"colorbar\":{\"outlinewidth\":0,\"ticks\":\"\"},\"colorscale\":[[0.0,\"#0d0887\"],[0.1111111111111111,\"#46039f\"],[0.2222222222222222,\"#7201a8\"],[0.3333333333333333,\"#9c179e\"],[0.4444444444444444,\"#bd3786\"],[0.5555555555555556,\"#d8576b\"],[0.6666666666666666,\"#ed7953\"],[0.7777777777777778,\"#fb9f3a\"],[0.8888888888888888,\"#fdca26\"],[1.0,\"#f0f921\"]]}],\"heatmap\":[{\"type\":\"heatmap\",\"colorbar\":{\"outlinewidth\":0,\"ticks\":\"\"},\"colorscale\":[[0.0,\"#0d0887\"],[0.1111111111111111,\"#46039f\"],[0.2222222222222222,\"#7201a8\"],[0.3333333333333333,\"#9c179e\"],[0.4444444444444444,\"#bd3786\"],[0.5555555555555556,\"#d8576b\"],[0.6666666666666666,\"#ed7953\"],[0.7777777777777778,\"#fb9f3a\"],[0.8888888888888888,\"#fdca26\"],[1.0,\"#f0f921\"]]}],\"heatmapgl\":[{\"type\":\"heatmapgl\",\"colorbar\":{\"outlinewidth\":0,\"ticks\":\"\"},\"colorscale\":[[0.0,\"#0d0887\"],[0.1111111111111111,\"#46039f\"],[0.2222222222222222,\"#7201a8\"],[0.3333333333333333,\"#9c179e\"],[0.4444444444444444,\"#bd3786\"],[0.5555555555555556,\"#d8576b\"],[0.6666666666666666,\"#ed7953\"],[0.7777777777777778,\"#fb9f3a\"],[0.8888888888888888,\"#fdca26\"],[1.0,\"#f0f921\"]]}],\"contourcarpet\":[{\"type\":\"contourcarpet\",\"colorbar\":{\"outlinewidth\":0,\"ticks\":\"\"}}],\"contour\":[{\"type\":\"contour\",\"colorbar\":{\"outlinewidth\":0,\"ticks\":\"\"},\"colorscale\":[[0.0,\"#0d0887\"],[0.1111111111111111,\"#46039f\"],[0.2222222222222222,\"#7201a8\"],[0.3333333333333333,\"#9c179e\"],[0.4444444444444444,\"#bd3786\"],[0.5555555555555556,\"#d8576b\"],[0.6666666666666666,\"#ed7953\"],[0.7777777777777778,\"#fb9f3a\"],[0.8888888888888888,\"#fdca26\"],[1.0,\"#f0f921\"]]}],\"surface\":[{\"type\":\"surface\",\"colorbar\":{\"outlinewidth\":0,\"ticks\":\"\"},\"colorscale\":[[0.0,\"#0d0887\"],[0.1111111111111111,\"#46039f\"],[0.2222222222222222,\"#7201a8\"],[0.3333333333333333,\"#9c179e\"],[0.4444444444444444,\"#bd3786\"],[0.5555555555555556,\"#d8576b\"],[0.6666666666666666,\"#ed7953\"],[0.7777777777777778,\"#fb9f3a\"],[0.8888888888888888,\"#fdca26\"],[1.0,\"#f0f921\"]]}],\"mesh3d\":[{\"type\":\"mesh3d\",\"colorbar\":{\"outlinewidth\":0,\"ticks\":\"\"}}],\"scatter\":[{\"fillpattern\":{\"fillmode\":\"overlay\",\"size\":10,\"solidity\":0.2},\"type\":\"scatter\"}],\"parcoords\":[{\"type\":\"parcoords\",\"line\":{\"colorbar\":{\"outlinewidth\":0,\"ticks\":\"\"}}}],\"scatterpolargl\":[{\"type\":\"scatterpolargl\",\"marker\":{\"colorbar\":{\"outlinewidth\":0,\"ticks\":\"\"}}}],\"bar\":[{\"error_x\":{\"color\":\"#2a3f5f\"},\"error_y\":{\"color\":\"#2a3f5f\"},\"marker\":{\"line\":{\"color\":\"#E5ECF6\",\"width\":0.5},\"pattern\":{\"fillmode\":\"overlay\",\"size\":10,\"solidity\":0.2}},\"type\":\"bar\"}],\"scattergeo\":[{\"type\":\"scattergeo\",\"marker\":{\"colorbar\":{\"outlinewidth\":0,\"ticks\":\"\"}}}],\"scatterpolar\":[{\"type\":\"scatterpolar\",\"marker\":{\"colorbar\":{\"outlinewidth\":0,\"ticks\":\"\"}}}],\"histogram\":[{\"marker\":{\"pattern\":{\"fillmode\":\"overlay\",\"size\":10,\"solidity\":0.2}},\"type\":\"histogram\"}],\"scattergl\":[{\"type\":\"scattergl\",\"marker\":{\"colorbar\":{\"outlinewidth\":0,\"ticks\":\"\"}}}],\"scatter3d\":[{\"type\":\"scatter3d\",\"line\":{\"colorbar\":{\"outlinewidth\":0,\"ticks\":\"\"}},\"marker\":{\"colorbar\":{\"outlinewidth\":0,\"ticks\":\"\"}}}],\"scattermapbox\":[{\"type\":\"scattermapbox\",\"marker\":{\"colorbar\":{\"outlinewidth\":0,\"ticks\":\"\"}}}],\"scatterternary\":[{\"type\":\"scatterternary\",\"marker\":{\"colorbar\":{\"outlinewidth\":0,\"ticks\":\"\"}}}],\"scattercarpet\":[{\"type\":\"scattercarpet\",\"marker\":{\"colorbar\":{\"outlinewidth\":0,\"ticks\":\"\"}}}],\"carpet\":[{\"aaxis\":{\"endlinecolor\":\"#2a3f5f\",\"gridcolor\":\"white\",\"linecolor\":\"white\",\"minorgridcolor\":\"white\",\"startlinecolor\":\"#2a3f5f\"},\"baxis\":{\"endlinecolor\":\"#2a3f5f\",\"gridcolor\":\"white\",\"linecolor\":\"white\",\"minorgridcolor\":\"white\",\"startlinecolor\":\"#2a3f5f\"},\"type\":\"carpet\"}],\"table\":[{\"cells\":{\"fill\":{\"color\":\"#EBF0F8\"},\"line\":{\"color\":\"white\"}},\"header\":{\"fill\":{\"color\":\"#C8D4E3\"},\"line\":{\"color\":\"white\"}},\"type\":\"table\"}],\"barpolar\":[{\"marker\":{\"line\":{\"color\":\"#E5ECF6\",\"width\":0.5},\"pattern\":{\"fillmode\":\"overlay\",\"size\":10,\"solidity\":0.2}},\"type\":\"barpolar\"}],\"pie\":[{\"automargin\":true,\"type\":\"pie\"}]},\"layout\":{\"autotypenumbers\":\"strict\",\"colorway\":[\"#636efa\",\"#EF553B\",\"#00cc96\",\"#ab63fa\",\"#FFA15A\",\"#19d3f3\",\"#FF6692\",\"#B6E880\",\"#FF97FF\",\"#FECB52\"],\"font\":{\"color\":\"#2a3f5f\"},\"hovermode\":\"closest\",\"hoverlabel\":{\"align\":\"left\"},\"paper_bgcolor\":\"white\",\"plot_bgcolor\":\"#E5ECF6\",\"polar\":{\"bgcolor\":\"#E5ECF6\",\"angularaxis\":{\"gridcolor\":\"white\",\"linecolor\":\"white\",\"ticks\":\"\"},\"radialaxis\":{\"gridcolor\":\"white\",\"linecolor\":\"white\",\"ticks\":\"\"}},\"ternary\":{\"bgcolor\":\"#E5ECF6\",\"aaxis\":{\"gridcolor\":\"white\",\"linecolor\":\"white\",\"ticks\":\"\"},\"baxis\":{\"gridcolor\":\"white\",\"linecolor\":\"white\",\"ticks\":\"\"},\"caxis\":{\"gridcolor\":\"white\",\"linecolor\":\"white\",\"ticks\":\"\"}},\"coloraxis\":{\"colorbar\":{\"outlinewidth\":0,\"ticks\":\"\"}},\"colorscale\":{\"sequential\":[[0.0,\"#0d0887\"],[0.1111111111111111,\"#46039f\"],[0.2222222222222222,\"#7201a8\"],[0.3333333333333333,\"#9c179e\"],[0.4444444444444444,\"#bd3786\"],[0.5555555555555556,\"#d8576b\"],[0.6666666666666666,\"#ed7953\"],[0.7777777777777778,\"#fb9f3a\"],[0.8888888888888888,\"#fdca26\"],[1.0,\"#f0f921\"]],\"sequentialminus\":[[0.0,\"#0d0887\"],[0.1111111111111111,\"#46039f\"],[0.2222222222222222,\"#7201a8\"],[0.3333333333333333,\"#9c179e\"],[0.4444444444444444,\"#bd3786\"],[0.5555555555555556,\"#d8576b\"],[0.6666666666666666,\"#ed7953\"],[0.7777777777777778,\"#fb9f3a\"],[0.8888888888888888,\"#fdca26\"],[1.0,\"#f0f921\"]],\"diverging\":[[0,\"#8e0152\"],[0.1,\"#c51b7d\"],[0.2,\"#de77ae\"],[0.3,\"#f1b6da\"],[0.4,\"#fde0ef\"],[0.5,\"#f7f7f7\"],[0.6,\"#e6f5d0\"],[0.7,\"#b8e186\"],[0.8,\"#7fbc41\"],[0.9,\"#4d9221\"],[1,\"#276419\"]]},\"xaxis\":{\"gridcolor\":\"white\",\"linecolor\":\"white\",\"ticks\":\"\",\"title\":{\"standoff\":15},\"zerolinecolor\":\"white\",\"automargin\":true,\"zerolinewidth\":2},\"yaxis\":{\"gridcolor\":\"white\",\"linecolor\":\"white\",\"ticks\":\"\",\"title\":{\"standoff\":15},\"zerolinecolor\":\"white\",\"automargin\":true,\"zerolinewidth\":2},\"scene\":{\"xaxis\":{\"backgroundcolor\":\"#E5ECF6\",\"gridcolor\":\"white\",\"linecolor\":\"white\",\"showbackground\":true,\"ticks\":\"\",\"zerolinecolor\":\"white\",\"gridwidth\":2},\"yaxis\":{\"backgroundcolor\":\"#E5ECF6\",\"gridcolor\":\"white\",\"linecolor\":\"white\",\"showbackground\":true,\"ticks\":\"\",\"zerolinecolor\":\"white\",\"gridwidth\":2},\"zaxis\":{\"backgroundcolor\":\"#E5ECF6\",\"gridcolor\":\"white\",\"linecolor\":\"white\",\"showbackground\":true,\"ticks\":\"\",\"zerolinecolor\":\"white\",\"gridwidth\":2}},\"shapedefaults\":{\"line\":{\"color\":\"#2a3f5f\"}},\"annotationdefaults\":{\"arrowcolor\":\"#2a3f5f\",\"arrowhead\":0,\"arrowwidth\":1},\"geo\":{\"bgcolor\":\"white\",\"landcolor\":\"#E5ECF6\",\"subunitcolor\":\"white\",\"showland\":true,\"showlakes\":true,\"lakecolor\":\"white\"},\"title\":{\"x\":0.05},\"mapbox\":{\"style\":\"light\"}}},\"xaxis\":{\"anchor\":\"y\",\"domain\":[0.0,1.0],\"title\":{\"text\":\"probability_threshold\"}},\"yaxis\":{\"anchor\":\"x\",\"domain\":[0.0,1.0],\"title\":{\"text\":\"value\"}},\"legend\":{\"title\":{\"text\":\"variable\"},\"tracegroupgap\":0},\"title\":{\"text\":\"MLP Classifier Probability Threshold Optimization (default = 0.5)\"}},                        {\"responsive\": true}                    ).then(function(){\n",
       "                            \n",
       "var gd = document.getElementById('dfda60d8-e74b-4ce7-9a27-c54dcbfe0915');\n",
       "var x = new MutationObserver(function (mutations, observer) {{\n",
       "        var display = window.getComputedStyle(gd).display;\n",
       "        if (!display || display === 'none') {{\n",
       "            console.log([gd, 'removed!']);\n",
       "            Plotly.purge(gd);\n",
       "            observer.disconnect();\n",
       "        }}\n",
       "}});\n",
       "\n",
       "// Listen for the removal of the full notebook cells\n",
       "var notebookContainer = gd.closest('#notebook-container');\n",
       "if (notebookContainer) {{\n",
       "    x.observe(notebookContainer, {childList: true});\n",
       "}}\n",
       "\n",
       "// Listen for the clearing of the current output cell\n",
       "var outputEl = gd.closest('.output');\n",
       "if (outputEl) {{\n",
       "    x.observe(outputEl, {childList: true});\n",
       "}}\n",
       "\n",
       "                        })                };                });            </script>        </div>"
      ]
     },
     "metadata": {},
     "output_type": "display_data"
    }
   ],
   "source": [
    " final_model = optimize_threshold(tuned, optimize = 'Prec.')   "
   ]
  },
  {
   "cell_type": "markdown",
   "metadata": {},
   "source": [
    "### Checking the Paramters of our tuned model so we know what all of the model paramters are explicitly"
   ]
  },
  {
   "cell_type": "code",
   "execution_count": 35,
   "metadata": {},
   "outputs": [
    {
     "name": "stdout",
     "output_type": "stream",
     "text": [
      "CustomProbabilityThresholdClassifier(activation='tanh', alpha=0.001,\n",
      "                                     batch_size='auto', beta_1=0.9,\n",
      "                                     beta_2=0.999,\n",
      "                                     classifier=MLPClassifier(activation='tanh',\n",
      "                                                              alpha=0.001,\n",
      "                                                              batch_size='auto',\n",
      "                                                              beta_1=0.9,\n",
      "                                                              beta_2=0.999,\n",
      "                                                              early_stopping=False,\n",
      "                                                              epsilon=1e-08,\n",
      "                                                              hidden_layer_sizes=[100,\n",
      "                                                                                  100],\n",
      "                                                              learning_rate='invscaling',\n",
      "                                                              learning_rate_init=0.001,\n",
      "                                                              max_fun=15000,\n",
      "                                                              max_iter=500,\n",
      "                                                              m...\n",
      "                                     early_stopping=False, epsilon=1e-08,\n",
      "                                     hidden_layer_sizes=[100, 100],\n",
      "                                     learning_rate='invscaling',\n",
      "                                     learning_rate_init=0.001, max_fun=15000,\n",
      "                                     max_iter=500, momentum=0.9,\n",
      "                                     n_iter_no_change=10,\n",
      "                                     nesterovs_momentum=True, power_t=0.5,\n",
      "                                     probability_threshold=0.7000000000000001,\n",
      "                                     random_state=3418, shuffle=True,\n",
      "                                     solver='adam', tol=0.0001,\n",
      "                                     validation_fraction=0.1, verbose=False,\n",
      "                                     warm_start=False)\n"
     ]
    }
   ],
   "source": [
    "print(final_model)"
   ]
  },
  {
   "cell_type": "code",
   "execution_count": 49,
   "metadata": {},
   "outputs": [
    {
     "name": "stdout",
     "output_type": "stream",
     "text": [
      "Transformation Pipeline and Model Successfully Saved\n"
     ]
    },
    {
     "data": {
      "text/plain": [
       "(Pipeline(memory=None,\n",
       "          steps=[('dtypes',\n",
       "                  DataTypes_Auto_infer(categorical_features=[],\n",
       "                                       display_types=True, features_todrop=[],\n",
       "                                       id_columns=[],\n",
       "                                       ml_usecase='classification',\n",
       "                                       numerical_features=[], target='Fraud',\n",
       "                                       time_features=[])),\n",
       "                 ('imputer',\n",
       "                  Simple_Imputer(categorical_strategy='not_available',\n",
       "                                 fill_value_categorical=None,\n",
       "                                 fill_value_numerical=None,\n",
       "                                 numeric_strate...\n",
       "                                                       epsilon=1e-08,\n",
       "                                                       hidden_layer_sizes=[100,\n",
       "                                                                           100],\n",
       "                                                       learning_rate='invscaling',\n",
       "                                                       learning_rate_init=0.001,\n",
       "                                                       max_fun=15000,\n",
       "                                                       max_iter=500,\n",
       "                                                       momentum=0.9,\n",
       "                                                       n_iter_no_change=10,\n",
       "                                                       nesterovs_momentum=True,\n",
       "                                                       power_t=0.5,\n",
       "                                                       probability_threshold=0.7000000000000001,\n",
       "                                                       random_state=3418,\n",
       "                                                       shuffle=True,\n",
       "                                                       solver='adam', tol=0.0001,\n",
       "                                                       validation_fraction=0.1,\n",
       "                                                       verbose=False,\n",
       "                                                       warm_start=False)]],\n",
       "          verbose=False),\n",
       " 'final_model.pkl')"
      ]
     },
     "execution_count": 49,
     "metadata": {},
     "output_type": "execute_result"
    }
   ],
   "source": [
    "save_model(final_model, 'final_model')"
   ]
  },
  {
   "cell_type": "markdown",
   "metadata": {},
   "source": [
    "### Using our model to test its prediction capabilities on our test set that was automatically held out by pycaret setup function."
   ]
  },
  {
   "cell_type": "code",
   "execution_count": 37,
   "metadata": {},
   "outputs": [
    {
     "data": {
      "text/html": [
       "<style type=\"text/css\">\n",
       "</style>\n",
       "<table id=\"T_35fdd\">\n",
       "  <thead>\n",
       "    <tr>\n",
       "      <th class=\"blank level0\" >&nbsp;</th>\n",
       "      <th id=\"T_35fdd_level0_col0\" class=\"col_heading level0 col0\" >Model</th>\n",
       "      <th id=\"T_35fdd_level0_col1\" class=\"col_heading level0 col1\" >Accuracy</th>\n",
       "      <th id=\"T_35fdd_level0_col2\" class=\"col_heading level0 col2\" >AUC</th>\n",
       "      <th id=\"T_35fdd_level0_col3\" class=\"col_heading level0 col3\" >Recall</th>\n",
       "      <th id=\"T_35fdd_level0_col4\" class=\"col_heading level0 col4\" >Prec.</th>\n",
       "      <th id=\"T_35fdd_level0_col5\" class=\"col_heading level0 col5\" >F1</th>\n",
       "      <th id=\"T_35fdd_level0_col6\" class=\"col_heading level0 col6\" >Kappa</th>\n",
       "      <th id=\"T_35fdd_level0_col7\" class=\"col_heading level0 col7\" >MCC</th>\n",
       "    </tr>\n",
       "  </thead>\n",
       "  <tbody>\n",
       "    <tr>\n",
       "      <th id=\"T_35fdd_level0_row0\" class=\"row_heading level0 row0\" >0</th>\n",
       "      <td id=\"T_35fdd_row0_col0\" class=\"data row0 col0\" >MLP Classifier</td>\n",
       "      <td id=\"T_35fdd_row0_col1\" class=\"data row0 col1\" >0.9925</td>\n",
       "      <td id=\"T_35fdd_row0_col2\" class=\"data row0 col2\" >0.7211</td>\n",
       "      <td id=\"T_35fdd_row0_col3\" class=\"data row0 col3\" >0.0887</td>\n",
       "      <td id=\"T_35fdd_row0_col4\" class=\"data row0 col4\" >0.5641</td>\n",
       "      <td id=\"T_35fdd_row0_col5\" class=\"data row0 col5\" >0.1533</td>\n",
       "      <td id=\"T_35fdd_row0_col6\" class=\"data row0 col6\" >0.1515</td>\n",
       "      <td id=\"T_35fdd_row0_col7\" class=\"data row0 col7\" >0.2216</td>\n",
       "    </tr>\n",
       "  </tbody>\n",
       "</table>\n"
      ],
      "text/plain": [
       "<pandas.io.formats.style.Styler at 0x181341ce1f0>"
      ]
     },
     "metadata": {},
     "output_type": "display_data"
    }
   ],
   "source": [
    "test_prediction = predict_model(final_model)"
   ]
  },
  {
   "cell_type": "markdown",
   "metadata": {},
   "source": [
    "### Using our model to test its prediction capabilities on our test set of data after 2008 to see how we perform in the new age regulatory environment."
   ]
  },
  {
   "cell_type": "code",
   "execution_count": 38,
   "metadata": {},
   "outputs": [
    {
     "data": {
      "text/html": [
       "<style type=\"text/css\">\n",
       "</style>\n",
       "<table id=\"T_30b10\">\n",
       "  <thead>\n",
       "    <tr>\n",
       "      <th class=\"blank level0\" >&nbsp;</th>\n",
       "      <th id=\"T_30b10_level0_col0\" class=\"col_heading level0 col0\" >Model</th>\n",
       "      <th id=\"T_30b10_level0_col1\" class=\"col_heading level0 col1\" >Accuracy</th>\n",
       "      <th id=\"T_30b10_level0_col2\" class=\"col_heading level0 col2\" >AUC</th>\n",
       "      <th id=\"T_30b10_level0_col3\" class=\"col_heading level0 col3\" >Recall</th>\n",
       "      <th id=\"T_30b10_level0_col4\" class=\"col_heading level0 col4\" >Prec.</th>\n",
       "      <th id=\"T_30b10_level0_col5\" class=\"col_heading level0 col5\" >F1</th>\n",
       "      <th id=\"T_30b10_level0_col6\" class=\"col_heading level0 col6\" >Kappa</th>\n",
       "      <th id=\"T_30b10_level0_col7\" class=\"col_heading level0 col7\" >MCC</th>\n",
       "    </tr>\n",
       "  </thead>\n",
       "  <tbody>\n",
       "    <tr>\n",
       "      <th id=\"T_30b10_level0_row0\" class=\"row_heading level0 row0\" >0</th>\n",
       "      <td id=\"T_30b10_row0_col0\" class=\"data row0 col0\" >MLP Classifier</td>\n",
       "      <td id=\"T_30b10_row0_col1\" class=\"data row0 col1\" >0.9950</td>\n",
       "      <td id=\"T_30b10_row0_col2\" class=\"data row0 col2\" >0.6082</td>\n",
       "      <td id=\"T_30b10_row0_col3\" class=\"data row0 col3\" >0.0145</td>\n",
       "      <td id=\"T_30b10_row0_col4\" class=\"data row0 col4\" >0.0328</td>\n",
       "      <td id=\"T_30b10_row0_col5\" class=\"data row0 col5\" >0.0201</td>\n",
       "      <td id=\"T_30b10_row0_col6\" class=\"data row0 col6\" >0.0180</td>\n",
       "      <td id=\"T_30b10_row0_col7\" class=\"data row0 col7\" >0.0195</td>\n",
       "    </tr>\n",
       "  </tbody>\n",
       "</table>\n"
      ],
      "text/plain": [
       "<pandas.io.formats.style.Styler at 0x18108a54b80>"
      ]
     },
     "metadata": {},
     "output_type": "display_data"
    }
   ],
   "source": [
    "test_08_prediction = predict_model(final_model, data = data_test_08)"
   ]
  },
  {
   "cell_type": "markdown",
   "metadata": {},
   "source": [
    "### Using our model to test its prediction capabilites on our contemporary set of 2020-2021 data."
   ]
  },
  {
   "cell_type": "code",
   "execution_count": 53,
   "metadata": {},
   "outputs": [
    {
     "data": {
      "text/html": [
       "<div>\n",
       "<style scoped>\n",
       "    .dataframe tbody tr th:only-of-type {\n",
       "        vertical-align: middle;\n",
       "    }\n",
       "\n",
       "    .dataframe tbody tr th {\n",
       "        vertical-align: top;\n",
       "    }\n",
       "\n",
       "    .dataframe thead th {\n",
       "        text-align: right;\n",
       "    }\n",
       "</style>\n",
       "<table border=\"1\" class=\"dataframe\">\n",
       "  <thead>\n",
       "    <tr style=\"text-align: right;\">\n",
       "      <th></th>\n",
       "      <th>gvkey</th>\n",
       "      <th>Year</th>\n",
       "      <th>Current Assets</th>\n",
       "      <th>Accounts Payable</th>\n",
       "      <th>Total Assets</th>\n",
       "      <th>Common Equity</th>\n",
       "      <th>Cash and Short-Term Investments</th>\n",
       "      <th>Cost of Goods Sold</th>\n",
       "      <th>Common Shares Outstanding</th>\n",
       "      <th>Debt in Current Liabilities</th>\n",
       "      <th>...</th>\n",
       "      <th>Receivables</th>\n",
       "      <th>Net Sales</th>\n",
       "      <th>Sale of Common and Preferred Stock</th>\n",
       "      <th>Income Taxes Payable</th>\n",
       "      <th>Total Income Taxes</th>\n",
       "      <th>Interest and Related Expense</th>\n",
       "      <th>Price Close, Annual, Fiscal</th>\n",
       "      <th>Label</th>\n",
       "      <th>Score_0</th>\n",
       "      <th>Score_1</th>\n",
       "    </tr>\n",
       "  </thead>\n",
       "  <tbody>\n",
       "    <tr>\n",
       "      <th>157269</th>\n",
       "      <td>136725</td>\n",
       "      <td>2020</td>\n",
       "      <td>6625.900</td>\n",
       "      <td>81.600</td>\n",
       "      <td>11168.900</td>\n",
       "      <td>9731.500</td>\n",
       "      <td>5171.500</td>\n",
       "      <td>1226.800</td>\n",
       "      <td>117.700</td>\n",
       "      <td>21.900</td>\n",
       "      <td>...</td>\n",
       "      <td>726.600</td>\n",
       "      <td>4438.400</td>\n",
       "      <td>308.800</td>\n",
       "      <td>47.200</td>\n",
       "      <td>140.200</td>\n",
       "      <td>0.000</td>\n",
       "      <td>818.10</td>\n",
       "      <td>1</td>\n",
       "      <td>0.0000</td>\n",
       "      <td>1.0000</td>\n",
       "    </tr>\n",
       "    <tr>\n",
       "      <th>155341</th>\n",
       "      <td>33175</td>\n",
       "      <td>2020</td>\n",
       "      <td>2851.943</td>\n",
       "      <td>523.138</td>\n",
       "      <td>7625.272</td>\n",
       "      <td>3381.108</td>\n",
       "      <td>2105.809</td>\n",
       "      <td>6957.488</td>\n",
       "      <td>190.213</td>\n",
       "      <td>37.367</td>\n",
       "      <td>...</td>\n",
       "      <td>564.121</td>\n",
       "      <td>9498.442</td>\n",
       "      <td>384.518</td>\n",
       "      <td>10.848</td>\n",
       "      <td>-154.290</td>\n",
       "      <td>65.091</td>\n",
       "      <td>314.66</td>\n",
       "      <td>1</td>\n",
       "      <td>0.0000</td>\n",
       "      <td>1.0000</td>\n",
       "    </tr>\n",
       "    <tr>\n",
       "      <th>152350</th>\n",
       "      <td>136725</td>\n",
       "      <td>2019</td>\n",
       "      <td>4662.600</td>\n",
       "      <td>123.500</td>\n",
       "      <td>9733.200</td>\n",
       "      <td>8263.800</td>\n",
       "      <td>3221.700</td>\n",
       "      <td>1168.600</td>\n",
       "      <td>116.000</td>\n",
       "      <td>7.700</td>\n",
       "      <td>...</td>\n",
       "      <td>708.300</td>\n",
       "      <td>4478.500</td>\n",
       "      <td>272.800</td>\n",
       "      <td>37.900</td>\n",
       "      <td>120.400</td>\n",
       "      <td>0.000</td>\n",
       "      <td>591.15</td>\n",
       "      <td>1</td>\n",
       "      <td>0.0001</td>\n",
       "      <td>0.9999</td>\n",
       "    </tr>\n",
       "    <tr>\n",
       "      <th>149981</th>\n",
       "      <td>14489</td>\n",
       "      <td>2019</td>\n",
       "      <td>36868.000</td>\n",
       "      <td>20065.000</td>\n",
       "      <td>118861.000</td>\n",
       "      <td>-1574.000</td>\n",
       "      <td>10032.000</td>\n",
       "      <td>59410.000</td>\n",
       "      <td>743.000</td>\n",
       "      <td>8169.000</td>\n",
       "      <td>...</td>\n",
       "      <td>17379.000</td>\n",
       "      <td>92154.000</td>\n",
       "      <td>658.000</td>\n",
       "      <td>1767.000</td>\n",
       "      <td>-5533.000</td>\n",
       "      <td>2675.000</td>\n",
       "      <td>48.77</td>\n",
       "      <td>1</td>\n",
       "      <td>0.0013</td>\n",
       "      <td>0.9987</td>\n",
       "    </tr>\n",
       "    <tr>\n",
       "      <th>158359</th>\n",
       "      <td>6829</td>\n",
       "      <td>2021</td>\n",
       "      <td>20060.000</td>\n",
       "      <td>11354.000</td>\n",
       "      <td>44640.000</td>\n",
       "      <td>-4816.000</td>\n",
       "      <td>1404.000</td>\n",
       "      <td>64024.000</td>\n",
       "      <td>670.000</td>\n",
       "      <td>1504.000</td>\n",
       "      <td>...</td>\n",
       "      <td>0.000</td>\n",
       "      <td>96250.000</td>\n",
       "      <td>132.000</td>\n",
       "      <td>128.000</td>\n",
       "      <td>2766.000</td>\n",
       "      <td>900.000</td>\n",
       "      <td>237.35</td>\n",
       "      <td>1</td>\n",
       "      <td>0.0015</td>\n",
       "      <td>0.9985</td>\n",
       "    </tr>\n",
       "    <tr>\n",
       "      <th>149174</th>\n",
       "      <td>3336</td>\n",
       "      <td>2019</td>\n",
       "      <td>8987.000</td>\n",
       "      <td>1598.000</td>\n",
       "      <td>26006.000</td>\n",
       "      <td>4785.000</td>\n",
       "      <td>3679.000</td>\n",
       "      <td>14901.000</td>\n",
       "      <td>253.525</td>\n",
       "      <td>1758.000</td>\n",
       "      <td>...</td>\n",
       "      <td>4392.000</td>\n",
       "      <td>19577.000</td>\n",
       "      <td>11.000</td>\n",
       "      <td>75.000</td>\n",
       "      <td>130.000</td>\n",
       "      <td>383.000</td>\n",
       "      <td>13.05</td>\n",
       "      <td>1</td>\n",
       "      <td>0.0020</td>\n",
       "      <td>0.9980</td>\n",
       "    </tr>\n",
       "    <tr>\n",
       "      <th>160401</th>\n",
       "      <td>136725</td>\n",
       "      <td>2021</td>\n",
       "      <td>5844.900</td>\n",
       "      <td>121.200</td>\n",
       "      <td>13555.000</td>\n",
       "      <td>11901.100</td>\n",
       "      <td>4230.900</td>\n",
       "      <td>1444.200</td>\n",
       "      <td>357.700</td>\n",
       "      <td>20.400</td>\n",
       "      <td>...</td>\n",
       "      <td>893.000</td>\n",
       "      <td>5710.100</td>\n",
       "      <td>276.500</td>\n",
       "      <td>54.100</td>\n",
       "      <td>162.200</td>\n",
       "      <td>0.000</td>\n",
       "      <td>359.30</td>\n",
       "      <td>1</td>\n",
       "      <td>0.0027</td>\n",
       "      <td>0.9973</td>\n",
       "    </tr>\n",
       "    <tr>\n",
       "      <th>154773</th>\n",
       "      <td>21227</td>\n",
       "      <td>2020</td>\n",
       "      <td>1846.511</td>\n",
       "      <td>97.933</td>\n",
       "      <td>21371.124</td>\n",
       "      <td>13502.659</td>\n",
       "      <td>1433.292</td>\n",
       "      <td>20.443</td>\n",
       "      <td>196.525</td>\n",
       "      <td>69.173</td>\n",
       "      <td>...</td>\n",
       "      <td>349.256</td>\n",
       "      <td>50.706</td>\n",
       "      <td>0.000</td>\n",
       "      <td>0.000</td>\n",
       "      <td>-36.443</td>\n",
       "      <td>28.158</td>\n",
       "      <td>158.37</td>\n",
       "      <td>1</td>\n",
       "      <td>0.0033</td>\n",
       "      <td>0.9967</td>\n",
       "    </tr>\n",
       "    <tr>\n",
       "      <th>158317</th>\n",
       "      <td>23650</td>\n",
       "      <td>2021</td>\n",
       "      <td>8539.320</td>\n",
       "      <td>284.010</td>\n",
       "      <td>13340.172</td>\n",
       "      <td>11133.341</td>\n",
       "      <td>7768.093</td>\n",
       "      <td>2106.545</td>\n",
       "      <td>125.897</td>\n",
       "      <td>15.748</td>\n",
       "      <td>...</td>\n",
       "      <td>667.954</td>\n",
       "      <td>4611.856</td>\n",
       "      <td>1649.762</td>\n",
       "      <td>13.505</td>\n",
       "      <td>225.933</td>\n",
       "      <td>3.493</td>\n",
       "      <td>1377.39</td>\n",
       "      <td>1</td>\n",
       "      <td>0.0056</td>\n",
       "      <td>0.9944</td>\n",
       "    </tr>\n",
       "    <tr>\n",
       "      <th>154203</th>\n",
       "      <td>11443</td>\n",
       "      <td>2020</td>\n",
       "      <td>13254.000</td>\n",
       "      <td>6011.000</td>\n",
       "      <td>48075.000</td>\n",
       "      <td>6994.000</td>\n",
       "      <td>3156.000</td>\n",
       "      <td>35734.000</td>\n",
       "      <td>152.120</td>\n",
       "      <td>3144.000</td>\n",
       "      <td>...</td>\n",
       "      <td>4350.000</td>\n",
       "      <td>54705.000</td>\n",
       "      <td>1.000</td>\n",
       "      <td>128.000</td>\n",
       "      <td>475.000</td>\n",
       "      <td>1165.000</td>\n",
       "      <td>95.08</td>\n",
       "      <td>1</td>\n",
       "      <td>0.0076</td>\n",
       "      <td>0.9924</td>\n",
       "    </tr>\n",
       "  </tbody>\n",
       "</table>\n",
       "<p>10 rows × 33 columns</p>\n",
       "</div>"
      ],
      "text/plain": [
       "         gvkey  Year  Current Assets  Accounts Payable  Total Assets  \\\n",
       "157269  136725  2020        6625.900            81.600     11168.900   \n",
       "155341   33175  2020        2851.943           523.138      7625.272   \n",
       "152350  136725  2019        4662.600           123.500      9733.200   \n",
       "149981   14489  2019       36868.000         20065.000    118861.000   \n",
       "158359    6829  2021       20060.000         11354.000     44640.000   \n",
       "149174    3336  2019        8987.000          1598.000     26006.000   \n",
       "160401  136725  2021        5844.900           121.200     13555.000   \n",
       "154773   21227  2020        1846.511            97.933     21371.124   \n",
       "158317   23650  2021        8539.320           284.010     13340.172   \n",
       "154203   11443  2020       13254.000          6011.000     48075.000   \n",
       "\n",
       "        Common Equity  Cash and Short-Term Investments  Cost of Goods Sold  \\\n",
       "157269       9731.500                         5171.500            1226.800   \n",
       "155341       3381.108                         2105.809            6957.488   \n",
       "152350       8263.800                         3221.700            1168.600   \n",
       "149981      -1574.000                        10032.000           59410.000   \n",
       "158359      -4816.000                         1404.000           64024.000   \n",
       "149174       4785.000                         3679.000           14901.000   \n",
       "160401      11901.100                         4230.900            1444.200   \n",
       "154773      13502.659                         1433.292              20.443   \n",
       "158317      11133.341                         7768.093            2106.545   \n",
       "154203       6994.000                         3156.000           35734.000   \n",
       "\n",
       "        Common Shares Outstanding  Debt in Current Liabilities  ...  \\\n",
       "157269                    117.700                       21.900  ...   \n",
       "155341                    190.213                       37.367  ...   \n",
       "152350                    116.000                        7.700  ...   \n",
       "149981                    743.000                     8169.000  ...   \n",
       "158359                    670.000                     1504.000  ...   \n",
       "149174                    253.525                     1758.000  ...   \n",
       "160401                    357.700                       20.400  ...   \n",
       "154773                    196.525                       69.173  ...   \n",
       "158317                    125.897                       15.748  ...   \n",
       "154203                    152.120                     3144.000  ...   \n",
       "\n",
       "        Receivables  Net Sales  Sale of Common and Preferred Stock  \\\n",
       "157269      726.600   4438.400                             308.800   \n",
       "155341      564.121   9498.442                             384.518   \n",
       "152350      708.300   4478.500                             272.800   \n",
       "149981    17379.000  92154.000                             658.000   \n",
       "158359        0.000  96250.000                             132.000   \n",
       "149174     4392.000  19577.000                              11.000   \n",
       "160401      893.000   5710.100                             276.500   \n",
       "154773      349.256     50.706                               0.000   \n",
       "158317      667.954   4611.856                            1649.762   \n",
       "154203     4350.000  54705.000                               1.000   \n",
       "\n",
       "        Income Taxes Payable  Total Income Taxes  \\\n",
       "157269                47.200             140.200   \n",
       "155341                10.848            -154.290   \n",
       "152350                37.900             120.400   \n",
       "149981              1767.000           -5533.000   \n",
       "158359               128.000            2766.000   \n",
       "149174                75.000             130.000   \n",
       "160401                54.100             162.200   \n",
       "154773                 0.000             -36.443   \n",
       "158317                13.505             225.933   \n",
       "154203               128.000             475.000   \n",
       "\n",
       "        Interest and Related Expense  Price Close, Annual, Fiscal  Label  \\\n",
       "157269                         0.000                       818.10      1   \n",
       "155341                        65.091                       314.66      1   \n",
       "152350                         0.000                       591.15      1   \n",
       "149981                      2675.000                        48.77      1   \n",
       "158359                       900.000                       237.35      1   \n",
       "149174                       383.000                        13.05      1   \n",
       "160401                         0.000                       359.30      1   \n",
       "154773                        28.158                       158.37      1   \n",
       "158317                         3.493                      1377.39      1   \n",
       "154203                      1165.000                        95.08      1   \n",
       "\n",
       "        Score_0  Score_1  \n",
       "157269   0.0000   1.0000  \n",
       "155341   0.0000   1.0000  \n",
       "152350   0.0001   0.9999  \n",
       "149981   0.0013   0.9987  \n",
       "158359   0.0015   0.9985  \n",
       "149174   0.0020   0.9980  \n",
       "160401   0.0027   0.9973  \n",
       "154773   0.0033   0.9967  \n",
       "158317   0.0056   0.9944  \n",
       "154203   0.0076   0.9924  \n",
       "\n",
       "[10 rows x 33 columns]"
      ]
     },
     "execution_count": 53,
     "metadata": {},
     "output_type": "execute_result"
    }
   ],
   "source": [
    "test_contemporary_prediction = predict_model(final_model, data = data_test_contemporary, encoded_labels = True, raw_score = True)\n",
    "test_contemporary_prediction.sort_values(by=\"Score_1\", ascending=False).head(10)"
   ]
  },
  {
   "cell_type": "markdown",
   "metadata": {},
   "source": [
    "### Confusion Matrix of our base model just to see what predictions it made"
   ]
  },
  {
   "cell_type": "code",
   "execution_count": 54,
   "metadata": {},
   "outputs": [
    {
     "data": {
      "image/png": "[encoded data removed]",
      "text/plain": [
       "<Figure size 576x396 with 1 Axes>"
      ]
     },
     "metadata": {},
     "output_type": "display_data"
    }
   ],
   "source": [
    "plot_model(mlp, plot = 'confusion_matrix')"
   ]
  },
  {
   "cell_type": "markdown",
   "metadata": {},
   "source": [
    "### Confusion Matrix of our tuned model to see the improvement in the raw numbers of our predictions"
   ]
  },
  {
   "cell_type": "code",
   "execution_count": 55,
   "metadata": {},
   "outputs": [
    {
     "data": {
      "image/png": "[encoded data removed]",
      "text/plain": [
       "<Figure size 576x396 with 1 Axes>"
      ]
     },
     "metadata": {},
     "output_type": "display_data"
    }
   ],
   "source": [
    "plot_model(tuned, plot = 'confusion_matrix')"
   ]
  },
  {
   "cell_type": "markdown",
   "metadata": {},
   "source": [
    "### Confusion Matrix of our final model to see the improvement in the raw numbers of our predictions"
   ]
  },
  {
   "cell_type": "code",
   "execution_count": 56,
   "metadata": {},
   "outputs": [
    {
     "data": {
      "image/png": "[encoded data removed]",
      "text/plain": [
       "<Figure size 576x396 with 1 Axes>"
      ]
     },
     "metadata": {},
     "output_type": "display_data"
    }
   ],
   "source": [
    "plot_model(final_model, plot = 'confusion_matrix')"
   ]
  },
  {
   "cell_type": "markdown",
   "metadata": {},
   "source": [
    "### Gain chart of our base model"
   ]
  },
  {
   "cell_type": "code",
   "execution_count": 57,
   "metadata": {},
   "outputs": [
    {
     "data": {
      "image/png": "[encoded data removed]",
      "text/plain": [
       "<Figure size 1000x600 with 1 Axes>"
      ]
     },
     "metadata": {},
     "output_type": "display_data"
    }
   ],
   "source": [
    "plot_model(mlp, plot = 'gain')"
   ]
  },
  {
   "cell_type": "markdown",
   "metadata": {},
   "source": [
    "### Gain chart of our tuned model"
   ]
  },
  {
   "cell_type": "code",
   "execution_count": 58,
   "metadata": {},
   "outputs": [
    {
     "data": {
      "image/png": "[encoded data removed]",
      "text/plain": [
       "<Figure size 1000x600 with 1 Axes>"
      ]
     },
     "metadata": {},
     "output_type": "display_data"
    }
   ],
   "source": [
    "plot_model(tuned, plot = 'gain')"
   ]
  },
  {
   "cell_type": "markdown",
   "metadata": {},
   "source": [
    "### Gain chart of our final model"
   ]
  },
  {
   "cell_type": "code",
   "execution_count": 59,
   "metadata": {},
   "outputs": [
    {
     "data": {
      "image/png": "[encoded data removed]",
      "text/plain": [
       "<Figure size 1000x600 with 1 Axes>"
      ]
     },
     "metadata": {},
     "output_type": "display_data"
    }
   ],
   "source": [
    "plot_model(final_model, plot = 'gain')"
   ]
  },
  {
   "cell_type": "markdown",
   "metadata": {},
   "source": [
    "### ROC Area Under Curve plots for base model"
   ]
  },
  {
   "cell_type": "code",
   "execution_count": 60,
   "metadata": {},
   "outputs": [
    {
     "data": {
      "image/png": "[encoded data removed]",
      "text/plain": [
       "<Figure size 576x396 with 1 Axes>"
      ]
     },
     "metadata": {},
     "output_type": "display_data"
    }
   ],
   "source": [
    "plot_model(mlp, plot = 'auc')"
   ]
  },
  {
   "cell_type": "markdown",
   "metadata": {},
   "source": [
    "### ROC Area Under Curve plots for tuned model"
   ]
  },
  {
   "cell_type": "code",
   "execution_count": 61,
   "metadata": {},
   "outputs": [
    {
     "data": {
      "image/png": "[encoded data removed]",
      "text/plain": [
       "<Figure size 576x396 with 1 Axes>"
      ]
     },
     "metadata": {},
     "output_type": "display_data"
    }
   ],
   "source": [
    "plot_model(tuned, plot = 'auc')"
   ]
  },
  {
   "cell_type": "markdown",
   "metadata": {},
   "source": [
    "### ROC Area Under Curve plots for final model"
   ]
  },
  {
   "cell_type": "code",
   "execution_count": 62,
   "metadata": {},
   "outputs": [
    {
     "data": {
      "image/png": "[encoded data removed]",
      "text/plain": [
       "<Figure size 576x396 with 1 Axes>"
      ]
     },
     "metadata": {},
     "output_type": "display_data"
    }
   ],
   "source": [
    "plot_model(final_model, plot = 'auc')"
   ]
  },
  {
   "cell_type": "code",
   "execution_count": null,
   "metadata": {},
   "outputs": [],
   "source": []
  }
 ],
 "metadata": {
  "kernelspec": {
   "display_name": "KC",
   "language": "python",
   "name": "kyle"
  },
  "language_info": {
   "codemirror_mode": {
    "name": "ipython",
    "version": 3
   },
   "file_extension": ".py",
   "mimetype": "text/x-python",
   "name": "python",
   "nbconvert_exporter": "python",
   "pygments_lexer": "ipython3",
   "version": "3.8.13"
  }
 },
 "nbformat": 4,
 "nbformat_minor": 4
}
